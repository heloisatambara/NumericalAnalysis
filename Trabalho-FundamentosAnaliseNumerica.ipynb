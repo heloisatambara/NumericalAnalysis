{
 "cells": [
  {
   "attachments": {},
   "cell_type": "markdown",
   "metadata": {},
   "source": [
    "Importações"
   ]
  },
  {
   "cell_type": "code",
   "execution_count": 2,
   "metadata": {},
   "outputs": [],
   "source": [
    "import time\n",
    "import scipy.linalg as sp\n",
    "import numpy as np\n",
    "import sympy as sym\n",
    "from math import *\n"
   ]
  },
  {
   "attachments": {},
   "cell_type": "markdown",
   "metadata": {},
   "source": [
    "TODO: arrumar método de broyden\n",
    "      criar método para calcular aproximação de função por diferenças finitas\n",
    "      criar método para calcular jacobiana por diferenças finitas\n",
    "      usar para newton no segundo item\n",
    "      usar para a primeira jacobiana de broyden no segundo item\n",
    "      "
   ]
  },
  {
   "attachments": {},
   "cell_type": "markdown",
   "metadata": {},
   "source": [
    "## ITEM 1"
   ]
  },
  {
   "cell_type": "code",
   "execution_count": 22,
   "metadata": {},
   "outputs": [],
   "source": [
    "# define the functions\n",
    "x1, x2, x3, x4, x5 = sym.symbols('x1 x2 x3 x4 x5')\n",
    "R = [10, .193, 4.10622*10**(-4), 5.45177*10**(-4), 4.4975*10**(-7), 3.40735*10**(-5), 9.615*10**(-7)]\n",
    "\n",
    "## define matrix F\n",
    "f1 = x1*x2 +x1 -3*x5\n",
    "f2 = 2*x1*x2 +x1 +3*R[-1]*(x2**2) +x2*(x3**2) +R[-4]*x2*x3 +R[-2]*x2*x4 +R[-3]*x2 -R[0]*x5\n",
    "f3 = 2*x2*(x3**2) +R[-4]*x2*x3 + 2*R[-6]*(x3**2) +R[-5]*x3 -8*x5\n",
    "f4 = R[-2]*x2*x4 +2*(x4**2) -4*R[0]*x5\n",
    "f5 = x1*x2 +x1 +R[-1]*(x2**2) +x2*(x3**2) +R[-4]*x2*x3 +R[-2]*x2*x4 +R[-3]*x2 +R[-6]*(x3**2) +R[-5]*x3 +(x4**2) -1\n",
    "    \n",
    "F = np.transpose(np.array([f1,f2,f3,f4,f5]))"
   ]
  },
  {
   "cell_type": "code",
   "execution_count": 23,
   "metadata": {},
   "outputs": [],
   "source": [
    "## calculate values of F under a vector x\n",
    "def calcF(F, x):\n",
    "    Fx = []\n",
    "    for f in F:\n",
    "        Fx.append(f.subs([(x1,x[0]),(x2,x[1]),(x3,x[2]),(x4,x[3]),(x5,x[4])]))\n",
    "        \n",
    "    return np.array(Fx)\n",
    "\n",
    "## define jacobian matrix\n",
    "def J(F):\n",
    "    Jmatrix = []\n",
    "    for f in F:\n",
    "        Jmatrix.append([f.diff(x1), f.diff(x2), f.diff(x3), f.diff(x4), f.diff(x5)])\n",
    "        \n",
    "    return np.array(Jmatrix)    \n",
    "\n",
    "\n",
    "## calculate values of J under a vector x\n",
    "def calcJ(J, x):\n",
    "    Jx = []\n",
    "    i = 0\n",
    "    for linha in J:\n",
    "        Jx.append([])\n",
    "        for j in linha:\n",
    "            Jx[i].append(j.subs([(x1,x[0]),(x2,x[1]),(x3,x[2]),(x4,x[3]),(x5,x[4])]))\n",
    "        \n",
    "        i += 1\n",
    "        \n",
    "        \n",
    "    return np.array(Jx)\n",
    "\n",
    "## NOTE: the functions J(), calcJ() and calcF() could've been done in a more general way, such as to be used for any size of linear system\n",
    "## adjusting automatically, but since we're just using this program for specific examples, for simplicity I used one for each example.\n",
    "## Feel free to update it to work in a more general way.\n",
    "\n"
   ]
  },
  {
   "attachments": {},
   "cell_type": "markdown",
   "metadata": {},
   "source": [
    "### Método de Newton"
   ]
  },
  {
   "cell_type": "code",
   "execution_count": 24,
   "metadata": {},
   "outputs": [],
   "source": [
    "# define method\n",
    "def methodNewton(n, x, tolerance, maxIterations, F):\n",
    "    output = \"The method failed after \"+str(maxIterations)+\" iterations. The procedure was unsuccessful\"\n",
    "    \n",
    "    k = 1\n",
    "    print(\"Começando com Xo = \", x)\n",
    "    while k <= maxIterations:\n",
    "        Fx = [-x for x in calcF(F,x)]\n",
    "        Jx = calcJ(J(F), x)\n",
    "        y = np.linalg.solve(np.array(Jx, np.float64), np.array(Fx, np.float64))\n",
    "        x = x + y\n",
    "        print(k,\" Iteração x=\", x, end=\" \")\n",
    "        if np.linalg.norm(y, np.inf)  < tolerance:\n",
    "            output = x\n",
    "            print(\"Norma: \", np.linalg.norm(x - (x-y), 2))\n",
    "            break\n",
    "        else:\n",
    "            print(\"Norma: \", np.linalg.norm(x - (x-y), 2))\n",
    "            k += 1\n",
    "        \n",
    "    return output"
   ]
  },
  {
   "cell_type": "code",
   "execution_count": 33,
   "metadata": {},
   "outputs": [
    {
     "name": "stdout",
     "output_type": "stream",
     "text": [
      "Começando com Xo =  [10 10 10 10 10]\n",
      "1  Iteração x= [0.01065204 9.99922036 5.00102591 5.03641579 0.03645869] Norma:  15.769785630785213\n",
      "2  Iteração x= [ 0.01001153 10.01012371  2.49920776  2.59112275  0.03674507] Norma:  3.498381268945265\n",
      "3  Iteração x= [9.98373148e-03 1.00839478e+01 1.24338306e+00 1.43787284e+00\n",
      " 3.68870704e-02] Norma:  1.7066139146402113\n",
      "4  Iteração x= [9.68920699e-03 1.04317749e+01 6.06359646e-01 9.75892034e-01\n",
      " 3.69557589e-02] Norma:  0.8603539169025427\n",
      "5  Iteração x= [8.50591251e-03 1.18477258e+01 2.74174277e-01 8.66848855e-01\n",
      " 3.69857062e-02] Norma:  1.4584772627650562\n",
      "6  Iteração x= [5.41646124e-03 1.67133282e+01 1.03992448e-01 8.60022364e-01\n",
      " 3.69918658e-02] Norma:  4.868583458334746\n",
      "7  Iteração x= [2.92103470e-03 2.76408171e+01 6.02819450e-02 8.59724155e-01\n",
      " 3.69765221e-02] Norma:  10.927576589262472\n",
      "8  Iteração x= [3.45584277e-03 3.17170310e+01 6.96040198e-02 8.59516377e-01\n",
      " 3.69616409e-02] Norma:  4.07622454194743\n",
      "9  Iteração x= [3.43022114e-03 3.13294698e+01 6.83736167e-02 8.59528882e-01\n",
      " 3.69624337e-02] Norma:  0.3875630774484792\n",
      "10  Iteração x= [3.43023014e-03 3.13264969e+01 6.83504073e-02 8.59528996e-01\n",
      " 3.69624414e-02] Norma:  0.0029729769433587305\n",
      "11  Iteração x= [3.43023016e-03 3.13264968e+01 6.83504014e-02 8.59528996e-01\n",
      " 3.69624414e-02] Norma:  1.4066966110043846e-07\n",
      "[3.43023016e-03 3.13264968e+01 6.83504014e-02 8.59528996e-01\n",
      " 3.69624414e-02]\n",
      "Tempo para calcular: 1.571558952331543 segundos\n"
     ]
    }
   ],
   "source": [
    "# solve with Newton's method\n",
    "\n",
    "x = [10, 10, 10, 10, 10]\n",
    "Xo = np.transpose(x) # initial approximation\n",
    "n = 5 # number of equations and unknowns\n",
    "tolerance = 10**(-5) # chosen - arbitrary because there's no real implication to have a specific tolerance defined\n",
    "maxIterations = 20 # so it doesnt loop forever in case of failure\n",
    "\n",
    "t0 = time.time() # measure time it takes to calculate\n",
    "print(methodNewton(n, Xo, tolerance, maxIterations, F))\n",
    "t1 = time.time() - t0\n",
    "print(f\"Tempo para calcular: {t1} segundos\")\n"
   ]
  },
  {
   "attachments": {},
   "cell_type": "markdown",
   "metadata": {},
   "source": [
    "### Método de Broyden"
   ]
  },
  {
   "cell_type": "code",
   "execution_count": 31,
   "metadata": {},
   "outputs": [],
   "source": [
    "# define method\n",
    "def methodBroyden(n, x, tolerance, maxIterations, F): # n is the number of equations and unknowns\n",
    "    output = \"The method failed after \"+str(maxIterations)+\" iterations. The procedure was unsuccessful\"\n",
    "    print(\"Começando com Xo = \", x)\n",
    "    Ao = calcJ(J(F), x)\n",
    "    v = calcF(F, x)\n",
    "    A = np.linalg.inv(np.array(Ao, dtype=np.float64))\n",
    "    s = np.dot(-A,v)\n",
    "    x = x + s\n",
    "    k = 2\n",
    "    \n",
    "    print(\"X1 = \", x)\n",
    "    while k <= maxIterations:\n",
    "        w = v\n",
    "        v = calcF(F, x)\n",
    "        y = v - w\n",
    "        z = -np.dot(A,y)\n",
    "        p = np.dot(-np.transpose(s),z)\n",
    "        ut = np.dot(np.transpose(s),A)\n",
    "        A = A + (np.outer((s+z),ut))/p\n",
    "        s = -np.dot(A,v)\n",
    "        x = x + s\n",
    "        print(k,\" Iteração x=\", x, end=\" \")\n",
    "        if np.linalg.norm(np.array(s, np.float64), 2) < tolerance:\n",
    "            print(\"Norma: \", sp.norm(np.array(x - (x-y),dtype=np.float64), 2))\n",
    "            output = x\n",
    "            break\n",
    "        print(\"Norma: \", sp.norm(np.array(x - (x-y),dtype=np.float64), 2))\n",
    "        k += 1\n",
    "        \n",
    "    return output\n",
    "             \n",
    "    "
   ]
  },
  {
   "cell_type": "code",
   "execution_count": 34,
   "metadata": {},
   "outputs": [
    {
     "name": "stdout",
     "output_type": "stream",
     "text": [
      "Começando com Xo =  [10 10 10 10 10]\n",
      "X1 =  [0.0106520416154137 9.99922036085834 5.00102590899330 5.03641579334684\n",
      " 0.0364586887839735]\n",
      "2  Iteração x= [0.00930920994776896 9.99992314923572 3.68548669725861 3.74021496588458\n",
      " 0.0366095664539330] Norma:  1951.5790985841434\n",
      "3  Iteração x= [0.00812409975971151 10.0028495599410 2.12982498189956 2.22119667752175\n",
      " 0.0367878041371119] Norma:  290.1492702297571\n",
      "4  Iteração x= [0.00741548470735665 10.0071664428273 1.36874831487401 1.49585096488847\n",
      " 0.0368748606960816] Norma:  229.7381311533295\n",
      "5  Iteração x= [0.00692512323934356 10.0133588765681 0.875839559672884 1.04643125912261\n",
      " 0.0369311110668205] Norma:  67.65373576346511\n",
      "6  Iteração x= [0.00665183257170165 10.0202955343292 0.612066692438099 0.827619518503195\n",
      " 0.0369610835524859] Norma:  28.137157616273615\n",
      "7  Iteração x= [0.00652289985436536 10.0272607578088 0.484859773836035 0.743324571897385\n",
      " 0.0369754028649233] Norma:  9.990048017875601\n",
      "8  Iteração x= [0.00647631800395310 10.0334117223175 0.435245819905953 0.729468924614596\n",
      " 0.0369808573097129] Norma:  3.5451891406142026\n",
      "9  Iteração x= [0.00645571448191387 10.0398733796766 0.409207081679501 0.738335944915178\n",
      " 0.0369836018763813] Norma:  1.146731978219258\n",
      "10  Iteração x= [0.00640533191084644 10.0609417974774 0.340977269149166 0.776324164369411\n",
      " 0.0369906781918833] Norma:  0.5423343058806762\n",
      "11  Iteração x= [0.00570970136579031 10.3207679455496 -0.488025307554061 1.18624039128510\n",
      " 0.0370771507359188] Norma:  1.25693373863452\n",
      "12  Iteração x= [0.00641920725522552 10.0538583833088 0.378348765421452 0.774633959252236\n",
      " 0.0369865857589217] Norma:  3.9346300974391584\n",
      "13  Iteração x= [0.00646945687914274 10.0375511089013 0.446207446914639 0.761744984577639\n",
      " 0.0369792748523722] Norma:  3.35205425493519\n",
      "14  Iteração x= [0.00635802108803576 10.0809647022841 0.283641435466796 0.803115445937572\n",
      " 0.0369966656966503] Norma:  1.385871452327244\n",
      "15  Iteração x= [0.00627644168470364 10.1059722631785 0.206662559665699 0.829155194828418\n",
      " 0.0370048110349091] Norma:  2.9351587076018792\n",
      "16  Iteração x= [0.00533221213561045 10.3964762744243 -0.674871271876501 1.08919848714580\n",
      " 0.0370985277531505] Norma:  0.9331815099758691\n",
      "17  Iteração x= [0.00625914954673836 10.0993953552352 0.240841384161288 0.826276337938260\n",
      " 0.0370010647534618] Norma:  10.943013373880069\n",
      "18  Iteração x= [0.00629536958989150 10.0883260324192 0.289353045966551 0.820601929056799\n",
      " 0.0369957909080320] Norma:  10.564199758846753\n",
      "19  Iteração x= [0.00618327252412168 10.1292380602010 0.129823273309375 0.843078592743865\n",
      " 0.0370130842654925] Norma:  0.6415567401009951\n",
      "20  Iteração x= [0.00606752438852913 10.1606455071272 0.0253011221774423 0.858935524365235\n",
      " 0.0370243681628129] Norma:  1.666671089580098\n",
      "The method failed after 20 iterations. The procedure was unsuccessful\n",
      "Tempo para calcular: 0.8110966682434082 segundos\n"
     ]
    }
   ],
   "source": [
    "# solve with Broyden's method\n",
    "\n",
    "x = [10, 10, 10, 10, 10]\n",
    "Xo = np.transpose(np.array(x)) # initial approximation\n",
    "n = 5 # number of equations and unknowns\n",
    "tolerance = 10**(-5) # chosen - arbitrary because there's no real implication to have a specific tolerance defined\n",
    "maxIterations = 20 # so it doesnt loop forever in case of failure\n",
    "\n",
    "t0 = time.time() # measure time it takes to calculate\n",
    "print(methodBroyden(n, Xo, tolerance, maxIterations, F))\n",
    "t1 = time.time() - t0\n",
    "print(f\"Tempo para calcular: {t1} segundos\")"
   ]
  },
  {
   "attachments": {},
   "cell_type": "markdown",
   "metadata": {},
   "source": [
    "### Comparação dos resultados"
   ]
  },
  {
   "attachments": {},
   "cell_type": "markdown",
   "metadata": {},
   "source": [
    "Ambos os métodos são feitos para inicair de um ponto que já tenha uma aproximação relativamente boa. O método de Newton apresentou uma boa convergência, enquanto o de Broyden não convergiu. De fato, é possível perceber que em outras implementações do método de Broyden, com o ponto inicial dado para as funções dadas, a função não converge."
   ]
  },
  {
   "attachments": {},
   "cell_type": "markdown",
   "metadata": {},
   "source": [
    "## ITEM 2"
   ]
  },
  {
   "cell_type": "code",
   "execution_count": 86,
   "metadata": {},
   "outputs": [],
   "source": [
    "# define the functions\n",
    "x1, x2, x3, x4, x5 = sym.symbols('x1 x2 x3 x4 x5')\n",
    "R = [10, .193, 4.10622*10**(-4), 5.45177*10**(-4), 4.4975*10**(-7), 3.40735*10**(-5), 9.615*10**(-7)]\n",
    "\n",
    "## define matrix F\n",
    "def f1(x):\n",
    "    return (x[0]*x[1]) + x[0] -(3*x[4])\n",
    "\n",
    "def f2(x):\n",
    "    global R\n",
    "    return 2*x[0]*x[1] +x[0] +3*R[-1]*(x[1]**2) +x[1]*(x[2]**2) +R[-4]*x[1]*x[2] +R[-2]*x[1]*x[3] +R[-3]*x[1] -R[0]*x[4]\n",
    "\n",
    "def f3(x):\n",
    "    global R\n",
    "    return 2*x[1]*(x[2]**2) +R[-4]*x[1]*x[2] + 2*R[-6]*(x[2]**2) +R[-5]*x[2] -8*x[4]\n",
    "\n",
    "def f4(x):\n",
    "    global R\n",
    "    return R[-2]*x[1]*x[3] +2*(x[3]**2) -4*R[0]*x[4]\n",
    "\n",
    "def f5(x):\n",
    "    global R\n",
    "    return x[0]*x[1] + x[0] +R[-1]*(x[1]**2) + x[1]*(x[2]**2) +R[-4]*x[1]*x[2] +R[-2]*x[1]*x[3] +R[-3]*x[1] +R[-6]*(x[2]**2) +R[-5]*x[2] +(x[3]**2) -1\n",
    "\n",
    "Fmatrix = [f1, f2, f3, f4, f5]\n",
    "    \n",
    "def F(x):\n",
    "    return np.transpose(np.array([f1(x),f2(x),f3(x),f4(x),f5(x)], np.float64))\n"
   ]
  },
  {
   "cell_type": "code",
   "execution_count": 81,
   "metadata": {},
   "outputs": [],
   "source": [
    "# parcial derivatives by finite differences - FIRST ORDER\n",
    "def df1(f, h, x, k): # function, step, x vector, k direction of derivative\n",
    "    # create step in k direction\n",
    "    x0 = np.array(x, np.float64)\n",
    "    x1 = np.array(x, np.float64)\n",
    "    x1[k] += h\n",
    "     \n",
    "    df_xk = (f(x1) - f(x0))/h\n",
    "    \n",
    "    return df_xk\n",
    "\n",
    "\n",
    "# parcial derivatives by finite differences - SECOND ORDER\n",
    "def df2(f, h, x, k): # function, step, x vector, k direction of derivative\n",
    "    # create step in k direction\n",
    "    x0 = np.array(x, np.float64)\n",
    "    x1 = np.array(x, np.float64)\n",
    "    x0[k] -= h\n",
    "    x1[k] += h\n",
    "     \n",
    "    df_xk = (f(x1) - f(x0))/(2*h)\n",
    "    \n",
    "    return df_xk\n",
    "\n",
    "\n",
    "## define jacobian matrix\n",
    "def J(Fmatrix, x, order):\n",
    "    h = .01\n",
    "    Jmatrix = []\n",
    "    \n",
    "    if order == 1:\n",
    "        for f in Fmatrix:\n",
    "            Jmatrix.append([df1(f, h, x, 0), df1(f, h, x, 1), df1(f, h, x, 2), df1(f, h, x, 3), df1(f, h, x, 4)])\n",
    "    elif order == 2:\n",
    "        for f in Fmatrix:\n",
    "            Jmatrix.append([df2(f, h, x, 0), df2(f, h, x, 1), df2(f, h, x, 2), df2(f, h, x, 3), df2(f, h, x, 4)])\n",
    "        \n",
    "        \n",
    "    return np.array(Jmatrix, np.float64)    \n",
    "\n",
    "\n",
    "\n",
    "## NOTE: the functions J(), calcJ() and calcF() could've been done in a more general way, such as to be used for any size of linear system\n",
    "## adjusting automatically, but since we're just using this program for specific examples, for simplicity I used one for each example.\n",
    "## Feel free to update it to work in a more general way.\n",
    "\n",
    "\n"
   ]
  },
  {
   "cell_type": "code",
   "execution_count": 74,
   "metadata": {},
   "outputs": [
    {
     "name": "stdout",
     "output_type": "stream",
     "text": [
      "80.0\n"
     ]
    },
    {
     "data": {
      "text/plain": [
       "10.999999999999943"
      ]
     },
     "execution_count": 74,
     "metadata": {},
     "output_type": "execute_result"
    }
   ],
   "source": [
    "# parcial derivatives by finite differences - FIRST ORDER\n",
    "def df1(f, h, x, k): # function, step, x vector, k direction of derivative\n",
    "    # create step in k direction\n",
    "    x0 = np.array(x, np.float64)\n",
    "    x1 = np.array(x, np.float64)\n",
    "    x1[k] += h\n",
    "     \n",
    "    df_xk = (f(x1) - f(x0))/h\n",
    "    \n",
    "    return df_xk\n",
    "\n",
    "df1(f1,0.05, x, 0)"
   ]
  },
  {
   "attachments": {},
   "cell_type": "markdown",
   "metadata": {},
   "source": [
    "### Método de Newton"
   ]
  },
  {
   "cell_type": "code",
   "execution_count": 84,
   "metadata": {},
   "outputs": [],
   "source": [
    "# define method\n",
    "def methodNewton(n, x, tolerance, maxIterations, F):\n",
    "    output = \"The method failed after \"+str(maxIterations)+\" iterations. The procedure was unsuccessful\"\n",
    "    \n",
    "    k = 1\n",
    "    print(\"Começando com Xo = \", x)\n",
    "    while k <= maxIterations:\n",
    "        Jx = J(Fmatrix, x, 1)\n",
    "        y = np.linalg.solve(np.array(Jx, np.float64), np.array(-F(x), np.float64))\n",
    "        x = x + y\n",
    "        print(k,\" Iteração x=\", x, end=\" \")\n",
    "        if np.linalg.norm(y, np.inf)  < tolerance:\n",
    "            output = x\n",
    "            print(\"Norma: \", np.linalg.norm(x - (x-y), 2))\n",
    "            break\n",
    "        else:\n",
    "            print(\"Norma: \", np.linalg.norm(x - (x-y), 2))\n",
    "            k += 1\n",
    "        \n",
    "    return output"
   ]
  },
  {
   "cell_type": "code",
   "execution_count": 87,
   "metadata": {},
   "outputs": [
    {
     "name": "stdout",
     "output_type": "stream",
     "text": [
      "Começando com Xo =  [10 10 10 10 10]\n",
      "1  Iteração x= [0.01065436 9.99921773 5.0035254  5.03889604 0.0364584 ] Norma:  15.768211667204358\n",
      "2  Iteração x= [ 0.01001145 10.01008704  2.50296252  2.59475134  0.03674464] Norma:  3.496680801986159\n",
      "3  Iteração x= [9.98392590e-03 1.00835857e+01 1.24778960e+00 1.44170796e+00\n",
      " 3.68865739e-02] Norma:  1.7059807076471545\n",
      "4  Iteração x= [9.69190112e-03 1.04286103e+01 6.11188085e-01 9.78727969e-01\n",
      " 3.69552388e-02] Norma:  0.8594498166837541\n",
      "5  Iteração x= [8.52579206e-03 1.18233469e+01 2.79490585e-01 8.67730905e-01\n",
      " 3.69852015e-02] Norma:  1.437927432201653\n",
      "6  Iteração x= [5.50011558e-03 1.65671346e+01 1.09536521e-01 8.60070632e-01\n",
      " 3.69914792e-02] Norma:  4.746838284734169\n",
      "7  Iteração x= [2.98071788e-03 2.72155964e+01 6.22466538e-02 8.59733148e-01\n",
      " 3.69768143e-02] Norma:  10.648567126855296\n",
      "8  Iteração x= [3.45110977e-03 3.17482566e+01 6.86179925e-02 8.59520369e-01\n",
      " 3.69619006e-02] Norma:  4.532664680065862\n",
      "9  Iteração x= [3.43028257e-03 3.13285458e+01 6.83702534e-02 8.59528859e-01\n",
      " 3.69624353e-02] Norma:  0.41971088404838935\n",
      "10  Iteração x= [3.43023349e-03 3.13264651e+01 6.83517874e-02 8.59528992e-01\n",
      " 3.69624411e-02] Norma:  0.002080781095382661\n",
      "11  Iteração x= [3.43023039e-03 3.13264946e+01 6.83504979e-02 8.59528996e-01\n",
      " 3.69624414e-02] Norma:  2.950160754635881e-05\n",
      "12  Iteração x= [3.43023017e-03 3.13264967e+01 6.83504081e-02 8.59528996e-01\n",
      " 3.69624414e-02] Norma:  2.0808030480225464e-06\n",
      "Tempo para calcular: 0.04748177528381348 segundos\n"
     ]
    }
   ],
   "source": [
    "# solve with Newton's method\n",
    "\n",
    "x = [10, 10, 10, 10, 10]\n",
    "Xo = np.transpose(x) # initial approximation\n",
    "n = 5 # number of equations and unknowns\n",
    "tolerance = 10**(-5) # chosen - arbitrary because there's no real implication to have a specific tolerance defined\n",
    "maxIterations = 20 # so it doesnt loop forever in case of failure\n",
    "\n",
    "t0 = time.time() # measure time it takes to calculate\n",
    "methodNewton(n, Xo, tolerance, maxIterations, F)\n",
    "t1 = time.time() - t0\n",
    "print(f\"Tempo para calcular: {t1} segundos\")"
   ]
  },
  {
   "attachments": {},
   "cell_type": "markdown",
   "metadata": {},
   "source": [
    "### Método de Broyden"
   ]
  },
  {
   "cell_type": "code",
   "execution_count": null,
   "metadata": {},
   "outputs": [],
   "source": [
    "Po = x # initial approximation\n",
    "tolerance = .0005 # arbitrary\n",
    "maxIterations = 100000 # so it doesnt loop forever in case of failure\n",
    "def f(x):\n",
    "    return\n",
    "def df(x):\n",
    "    return\n",
    "def J(x):\n",
    "    result = df(x)\n",
    "    return result\n",
    "def F(x):\n",
    "    return\n",
    "\n",
    "\n",
    "def methodBroyden(n, x, tolerance, maxIterations): # n is the number of equations and unknowns\n",
    "    output = \"The method failed after \"+maxIterations+\" iterations. The procedure was unsuccessful\"\n",
    "    \n",
    "    Ao = J(x)\n",
    "    v = F(x)\n",
    "    A = np.transpose(Ao) #use gaussian elimination\n",
    "    s = -A * v\n",
    "    x = x + s\n",
    "    k = 2\n",
    "    \n",
    "    while k <= maxIterations:\n",
    "        w = v\n",
    "        v = F(x)\n",
    "        y = v - w\n",
    "        z = -A* y\n",
    "        p = -np.transpose(s) * z\n",
    "        ut = np.transpose(np.transpose(s) * A)\n",
    "        A = A + (1/p)*(s+z)*ut\n",
    "        s = -A * v\n",
    "        x = x + s\n",
    "        if np.linalg.norm(s) < tolerance:\n",
    "            output = x\n",
    "            break\n",
    "        \n",
    "        k += 1\n",
    "        \n",
    "    return output\n",
    "          "
   ]
  },
  {
   "attachments": {},
   "cell_type": "markdown",
   "metadata": {},
   "source": [
    "### Comparação dos resultados"
   ]
  },
  {
   "attachments": {},
   "cell_type": "markdown",
   "metadata": {},
   "source": [
    "## ITEM 3"
   ]
  },
  {
   "attachments": {},
   "cell_type": "markdown",
   "metadata": {},
   "source": [
    "#### Bibliografia e referências: \n",
    "\n",
    "R.L. Burden & J.D. Faires, Numerical Analysis, Capítulos 2 e 10"
   ]
  }
 ],
 "metadata": {
  "kernelspec": {
   "display_name": "Python 3",
   "language": "python",
   "name": "python3"
  },
  "language_info": {
   "codemirror_mode": {
    "name": "ipython",
    "version": 3
   },
   "file_extension": ".py",
   "mimetype": "text/x-python",
   "name": "python",
   "nbconvert_exporter": "python",
   "pygments_lexer": "ipython3",
   "version": "3.10.9"
  },
  "orig_nbformat": 4,
  "vscode": {
   "interpreter": {
    "hash": "4abe64b9a8ed922d25f7390c9a03e42a2560957904a8072a31c407963719ee63"
   }
  }
 },
 "nbformat": 4,
 "nbformat_minor": 2
}
