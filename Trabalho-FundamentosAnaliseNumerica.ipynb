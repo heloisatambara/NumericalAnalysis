{
 "cells": [
  {
   "attachments": {},
   "cell_type": "markdown",
   "metadata": {},
   "source": [
    "Importações"
   ]
  },
  {
   "cell_type": "code",
   "execution_count": 2,
   "metadata": {},
   "outputs": [],
   "source": [
    "import time\n",
    "import scipy.linalg as sp\n",
    "import numpy as np\n",
    "import sympy as sym\n",
    "from math import *\n"
   ]
  },
  {
   "attachments": {},
   "cell_type": "markdown",
   "metadata": {},
   "source": [
    "Exemplo teste"
   ]
  },
  {
   "cell_type": "code",
   "execution_count": 182,
   "metadata": {},
   "outputs": [],
   "source": [
    "# Define variables\n",
    "x1, x2, x3 = sym.symbols('x1 x2 x3')\n",
    "\n",
    "# Define functions \n",
    "f1 = 3*x1 - sym.cos(x2*x3) - 0.5\n",
    "f2 = x1**2 - 81*((x2 + 0.1)**2) + sym.sin(x3) + 1.06\n",
    "f3 = sym.E**(-x1*x2) + 20*x3 + (10*pi - 3)/3\n",
    "\n",
    "F = np.transpose(np.array([f1,f2,f3]))\n",
    "\n",
    "# Define the values and jacabian matrix\n",
    "## calculate values of F under a vector x\n",
    "def calcF(F, x):\n",
    "    Fx = []\n",
    "    for f in F:\n",
    "        Fx.append(f.subs([(x1,x[0]),(x2,x[1]), (x3,x[2])]))\n",
    "    return np.array(Fx)\n",
    "\n",
    "## define jacobian matrix\n",
    "def J(F):\n",
    "    Jmatrix = []\n",
    "    for f in F:\n",
    "        Jmatrix.append([f.diff(x1), f.diff(x2), f.diff(x3)])\n",
    "    return np.array(Jmatrix)\n",
    "\n",
    "\n",
    "## calculate values of J under a vector x\n",
    "def calcJ(J, x):\n",
    "    Jx = []\n",
    "    i = 0\n",
    "    for linha in J:\n",
    "        Jx.append([])\n",
    "        for j in linha:\n",
    "            Jx[i].append(j.subs([(x1,x[0]),(x2,x[1]), (x3,x[2])]))\n",
    "        i += 1\n",
    "    return np.array(Jx)\n",
    "\n",
    "\n",
    "\n",
    "## NOTE: the functions J(), calcJ() and calcF() could've been done in a more general way, such as to be used for any size of linear system\n",
    "## adjusting automatically, but since we're just using this program for specific examples, for simplicity I used one for each example.\n",
    "## Feel free to update it to work in a more general way.\n"
   ]
  },
  {
   "cell_type": "code",
   "execution_count": 183,
   "metadata": {},
   "outputs": [
    {
     "name": "stdout",
     "output_type": "stream",
     "text": [
      "Começando com Xo =  [ 0.1  0.1 -0.1]\n",
      "1  Iteração x= [ 0.49986967  0.01946685 -0.52152047] Norma:  0.5865670056112852\n",
      "2  Iteração x= [ 0.50001424  0.00158859 -0.52355696] Norma:  0.017994451377116808\n",
      "3  Iteração x= [ 5.00000113e-01  1.24447833e-05 -5.23598450e-01] Norma:  0.0015767557491808675\n",
      "4  Iteração x= [ 5.00000000e-01  7.75785723e-10 -5.23598776e-01] Norma:  1.2448781083988536e-05\n",
      "5  Iteração x= [ 5.00000000e-01 -1.37632501e-17 -5.23598776e-01] Norma:  7.760833298279343e-10\n"
     ]
    },
    {
     "data": {
      "text/plain": [
       "array([ 5.00000000e-01, -1.37632501e-17, -5.23598776e-01])"
      ]
     },
     "execution_count": 183,
     "metadata": {},
     "output_type": "execute_result"
    }
   ],
   "source": [
    "# solve with Newton's method\n",
    "x = np.transpose([.1, .1, -0.1]) # initial guess\n",
    "n = 5 # number of equations and unknowns\n",
    "tolerance = 10**(-5) # chosen - arbitrary because there's no real implication to have a specific tolerance defined\n",
    "maxIterations = 20 # so it doesnt loop forever in case of failure\n",
    "\n",
    "methodNewton(n, x, tolerance, maxIterations, F)\n"
   ]
  },
  {
   "cell_type": "code",
   "execution_count": 195,
   "metadata": {},
   "outputs": [
    {
     "name": "stdout",
     "output_type": "stream",
     "text": [
      "Começando com Xo =  [ 0.1  0.1 -0.1]\n",
      "X1 =  [0.499869672926428 0.0194668485374181 -0.521520471935831]\n",
      "2  Iteração x= [0.499955166144923 0.00875708089803001 -0.523197546472297] Norma:  8.73004675071813\n",
      "3  Iteração x= [0.496687916839148 0.000880090488959834 -0.526712780870408] Norma:  0.1986301993353855\n",
      "4  Iteração x= [0.498788205490511 -0.000842735115555687 -0.524776024766854] Norma:  0.14403887416638897\n",
      "5  Iteração x= [0.500867240397612 0.000418294767496770 -0.522744830795635] Norma:  0.051097535604814025\n",
      "6  Iteração x= [0.499978361093557 0.000205500199275123 -0.523614954592208] Norma:  0.04372936175298122\n",
      "7  Iteração x= [0.499912168343118 1.44491726674211e-5 -0.523681913123396] Norma:  0.01759392684017553\n",
      "8  Iteração x= [0.499968100047056 -2.65210245753295e-5 -0.523629955157485] Norma:  0.003229910962720904\n",
      "9  Iteração x= [0.500030520851155 1.65755070630863e-5 -0.523568703529245] Norma:  0.001317424233780177\n",
      "10  Iteração x= [0.499998839281244 7.77456255552941e-6 -0.523599703473927] Norma:  0.001350162369359425\n",
      "11  Iteração x= [0.499996111944940 -2.19979133830024e-8 -0.523602484544869] Norma:  0.0006285387326668395\n"
     ]
    },
    {
     "data": {
      "text/plain": [
       "array([0.499996111944940, -2.19979133830024e-8, -0.523602484544869],\n",
       "      dtype=object)"
      ]
     },
     "execution_count": 195,
     "metadata": {},
     "output_type": "execute_result"
    }
   ],
   "source": [
    "# solve with Broyden's method\n",
    "x = np.transpose(np.array([.1, .1, -0.1], dtype=np.float64)) # initial guess\n",
    "n = 5 # number of equations and unknowns\n",
    "tolerance = 10**(-5) # chosen - arbitrary because there's no real implication to have a specific tolerance defined\n",
    "maxIterations = 20 # so it doesnt loop forever in case of failure\n",
    "\n",
    "methodBroyden(n, x, tolerance, maxIterations, F)\n",
    "\n",
    "# Ao = calcJ(J(F), x)\n",
    "# v = calcF(F, x)\n",
    "# A = np.linalg.inv(np.array(Ao, dtype=np.float64)) # use gaussian elimination\n",
    "# s = np.dot(-A, v)\n",
    "# x = x + s\n",
    "# np.linalg.norm(np.array(x, dtype=np.float64))"
   ]
  },
  {
   "attachments": {},
   "cell_type": "markdown",
   "metadata": {},
   "source": [
    "## ITEM 1"
   ]
  },
  {
   "cell_type": "code",
   "execution_count": 171,
   "metadata": {},
   "outputs": [],
   "source": [
    "# define the functions\n",
    "x1, x2, x3, x4, x5 = sym.symbols('x1 x2 x3 x4 x5')\n",
    "R = [10, .193, 4.10622*10**(-4), 5.45177*10**(-4), 4.4975*10**(-7), 3.40735*10**(-5), 9.615*10**(-7)]\n",
    "\n",
    "## define matrix F\n",
    "f1 = x1*x2 +x1 -3*x5\n",
    "f2 = 2*x1*x2 +x1 +3*R[-1]*(x2**2) +x2*(x3**2) +R[-4]*x2*x3 +R[-2]*x2*x4 +R[-3]*x2 -R[0]*x5\n",
    "f3 = 2*x2*(x3**2) +R[-4]*x2*x3 + 2*R[-6]*(x3**2) +R[-5]*x3 -8*x5\n",
    "f4 = R[-2]*x2*x4 +2*(x4**2) -4*R[0]*x5\n",
    "f5 = x1*x2 +x1 +R[-1]*(x2**2) +x2*(x3**2) +R[-4]*x2*x3 +R[-2]*x2*x4 +R[-3]*x2 +R[-6]*(x3**2) +R[-5]*x3 +(x4**2) -1\n",
    "    \n",
    "F = np.transpose(np.array([f1,f2,f3,f4,f5]))"
   ]
  },
  {
   "cell_type": "code",
   "execution_count": 172,
   "metadata": {},
   "outputs": [],
   "source": [
    "## calculate values of F under a vector x\n",
    "def calcF(F, x):\n",
    "    Fx = []\n",
    "    for f in F:\n",
    "        Fx.append(f.subs([(x1,x[0]),(x2,x[1]),(x3,x[2]),(x4,x[3]),(x5,x[4])]))\n",
    "        \n",
    "    return np.array(Fx)\n",
    "\n",
    "## define jacobian matrix\n",
    "def J(F):\n",
    "    Jmatrix = []\n",
    "    for f in F:\n",
    "        Jmatrix.append([f.diff(x1), f.diff(x2), f.diff(x3), f.diff(x4), f.diff(x5)])\n",
    "        \n",
    "    return np.array(Jmatrix)    \n",
    "\n",
    "\n",
    "## calculate values of J under a vector x\n",
    "def calcJ(J, x):\n",
    "    Jx = []\n",
    "    i = 0\n",
    "    for linha in J:\n",
    "        Jx.append([])\n",
    "        for j in linha:\n",
    "            Jx[i].append(j.subs([(x1,x[0]),(x2,x[1]),(x3,x[2]),(x4,x[3]),(x5,x[4])]))\n",
    "        \n",
    "        i += 1\n",
    "        \n",
    "        \n",
    "    return np.array(Jx)\n",
    "\n",
    "## NOTE: the functions J(), calcJ() and calcF() could've been done in a more general way, such as to be used for any size of linear system\n",
    "## adjusting automatically, but since we're just using this program for specific examples, for simplicity I used one for each example.\n",
    "## Feel free to update it to work in a more general way.\n",
    "\n"
   ]
  },
  {
   "attachments": {},
   "cell_type": "markdown",
   "metadata": {},
   "source": [
    "### Método de Newton"
   ]
  },
  {
   "cell_type": "code",
   "execution_count": 175,
   "metadata": {},
   "outputs": [],
   "source": [
    "# define method\n",
    "def methodNewton(n, x, tolerance, maxIterations, F):\n",
    "    output = \"The method failed after \"+str(maxIterations)+\" iterations. The procedure was unsuccessful\"\n",
    "    \n",
    "    k = 1\n",
    "    print(\"Começando com Xo = \", x)\n",
    "    while k <= maxIterations:\n",
    "        Fx = [-x for x in calcF(F,x)]\n",
    "        Jx = calcJ(J(F), x)\n",
    "        y = np.linalg.solve(np.array(Jx, np.float64), np.array(Fx, np.float64))\n",
    "        x = x + y\n",
    "        print(k,\" Iteração x=\", x, end=\" \")\n",
    "        if np.linalg.norm(y, np.inf)  < tolerance:\n",
    "            output = x\n",
    "            print(\"Norma: \", np.linalg.norm(x - (x-y), 2))\n",
    "            break\n",
    "        else:\n",
    "            print(\"Norma: \", np.linalg.norm(x - (x-y), 2))\n",
    "            k += 1\n",
    "        \n",
    "    return output"
   ]
  },
  {
   "cell_type": "code",
   "execution_count": 176,
   "metadata": {},
   "outputs": [
    {
     "name": "stdout",
     "output_type": "stream",
     "text": [
      "Começando com Xo =  [10 10 10 10 10]\n",
      "1  Iteração x= [0.01065204 9.99922036 5.00102591 5.03641579 0.03645869] Norma:  15.769785630785213\n",
      "2  Iteração x= [ 0.01001153 10.01012371  2.49920776  2.59112275  0.03674507] Norma:  3.498381268945265\n",
      "3  Iteração x= [9.98373148e-03 1.00839478e+01 1.24338306e+00 1.43787284e+00\n",
      " 3.68870704e-02] Norma:  1.7066139146402113\n",
      "4  Iteração x= [9.68920699e-03 1.04317749e+01 6.06359646e-01 9.75892034e-01\n",
      " 3.69557589e-02] Norma:  0.8603539169025427\n",
      "5  Iteração x= [8.50591251e-03 1.18477258e+01 2.74174277e-01 8.66848855e-01\n",
      " 3.69857062e-02] Norma:  1.4584772627650562\n",
      "6  Iteração x= [5.41646124e-03 1.67133282e+01 1.03992448e-01 8.60022364e-01\n",
      " 3.69918658e-02] Norma:  4.868583458334746\n",
      "7  Iteração x= [2.92103470e-03 2.76408171e+01 6.02819450e-02 8.59724155e-01\n",
      " 3.69765221e-02] Norma:  10.927576589262472\n",
      "8  Iteração x= [3.45584277e-03 3.17170310e+01 6.96040198e-02 8.59516377e-01\n",
      " 3.69616409e-02] Norma:  4.07622454194743\n",
      "9  Iteração x= [3.43022114e-03 3.13294698e+01 6.83736167e-02 8.59528882e-01\n",
      " 3.69624337e-02] Norma:  0.3875630774484792\n",
      "10  Iteração x= [3.43023014e-03 3.13264969e+01 6.83504073e-02 8.59528996e-01\n",
      " 3.69624414e-02] Norma:  0.0029729769433587305\n",
      "11  Iteração x= [3.43023016e-03 3.13264968e+01 6.83504014e-02 8.59528996e-01\n",
      " 3.69624414e-02] Norma:  1.4066966110043846e-07\n",
      "Tempo para calcular: 0.577242374420166 segundos\n"
     ]
    }
   ],
   "source": [
    "# solve with Newton's method\n",
    "\n",
    "x = [10, 10, 10, 10, 10]\n",
    "Xo = np.transpose(x) # initial approximation\n",
    "n = 5 # number of equations and unknowns\n",
    "tolerance = 10**(-5) # chosen - arbitrary because there's no real implication to have a specific tolerance defined\n",
    "maxIterations = 20 # so it doesnt loop forever in case of failure\n",
    "\n",
    "t0 = time.time() # measure time it takes to calculate\n",
    "methodNewton(n, Xo, tolerance, maxIterations, F)\n",
    "t1 = time.time() - t0\n",
    "print(f\"Tempo para calcular: {t1} segundos\")\n"
   ]
  },
  {
   "attachments": {},
   "cell_type": "markdown",
   "metadata": {},
   "source": [
    "### Método de Broyden"
   ]
  },
  {
   "cell_type": "code",
   "execution_count": 194,
   "metadata": {},
   "outputs": [],
   "source": [
    "# define method\n",
    "def methodBroyden(n, x, tolerance, maxIterations, F): # n is the number of equations and unknowns\n",
    "    output = \"The method failed after \"+str(maxIterations)+\" iterations. The procedure was unsuccessful\"\n",
    "    print(\"Começando com Xo = \", x)\n",
    "    Ao = calcJ(J(F), x)\n",
    "    v = calcF(F, x)\n",
    "    A = np.linalg.inv(np.array(Ao, dtype=np.float64)) # use gaussian elimination\n",
    "    s = np.dot(-A, v)\n",
    "    x = x + s\n",
    "    k = 2\n",
    "    \n",
    "    print(\"X1 = \", x)\n",
    "    while k <= maxIterations:\n",
    "        w = v\n",
    "        v = calcF(F, x)\n",
    "        y = v - w\n",
    "        z = np.dot(-A, y)\n",
    "        p = np.dot(-np.transpose(s), z)\n",
    "        ut = np.transpose(np.dot(np.transpose(s), A))\n",
    "        A = A + (1/p)*(s+z)*ut\n",
    "        s = np.dot(-A, v)\n",
    "        x = x + s\n",
    "        print(k,\" Iteração x=\", x, end=\" \")\n",
    "        if np.linalg.norm(s, np.inf) < tolerance:\n",
    "            print(\"Norma: \", sp.norm(np.array(x - (x-y),dtype=np.float64), 2))\n",
    "            output = x\n",
    "            break\n",
    "        print(\"Norma: \", sp.norm(np.array(x - (x-y),dtype=np.float64), 2))\n",
    "        k += 1\n",
    "        \n",
    "    return output\n",
    "             \n",
    "    "
   ]
  },
  {
   "cell_type": "code",
   "execution_count": 180,
   "metadata": {},
   "outputs": [
    {
     "name": "stdout",
     "output_type": "stream",
     "text": [
      "Começando com Xo =  [10 10 10 10 10]\n",
      "X1 =  [0.0106520416154137 9.99922036085834 5.00102590899330 5.03641579334684\n",
      " 0.0364586887839735]\n",
      "2  Iteração x= [-4.60411880907955 5.38639334438619 -0.862549628212813 -0.808783597588250\n",
      " -4.57689277646041] "
     ]
    },
    {
     "ename": "TypeError",
     "evalue": "loop of ufunc does not support argument 0 of type Float which has no callable sqrt method",
     "output_type": "error",
     "traceback": [
      "\u001b[1;31m---------------------------------------------------------------------------\u001b[0m",
      "\u001b[1;31mAttributeError\u001b[0m                            Traceback (most recent call last)",
      "\u001b[1;31mAttributeError\u001b[0m: 'Float' object has no attribute 'sqrt'",
      "\nThe above exception was the direct cause of the following exception:\n",
      "\u001b[1;31mTypeError\u001b[0m                                 Traceback (most recent call last)",
      "Cell \u001b[1;32mIn[180], line 10\u001b[0m\n\u001b[0;32m      7\u001b[0m maxIterations \u001b[39m=\u001b[39m \u001b[39m20\u001b[39m \u001b[39m# so it doesnt loop forever in case of failure\u001b[39;00m\n\u001b[0;32m      9\u001b[0m t0 \u001b[39m=\u001b[39m time\u001b[39m.\u001b[39mtime() \u001b[39m# measure time it takes to calculate\u001b[39;00m\n\u001b[1;32m---> 10\u001b[0m methodBroyden(n, Xo, tolerance, maxIterations, F)\n\u001b[0;32m     11\u001b[0m t1 \u001b[39m=\u001b[39m time\u001b[39m.\u001b[39mtime() \u001b[39m-\u001b[39m t0\n\u001b[0;32m     12\u001b[0m \u001b[39mprint\u001b[39m(\u001b[39mf\u001b[39m\u001b[39m\"\u001b[39m\u001b[39mTempo para calcular: \u001b[39m\u001b[39m{\u001b[39;00mt1\u001b[39m}\u001b[39;00m\u001b[39m segundos\u001b[39m\u001b[39m\"\u001b[39m)\n",
      "Cell \u001b[1;32mIn[179], line 28\u001b[0m, in \u001b[0;36mmethodBroyden\u001b[1;34m(n, x, tolerance, maxIterations, F)\u001b[0m\n\u001b[0;32m     26\u001b[0m         output \u001b[39m=\u001b[39m x\n\u001b[0;32m     27\u001b[0m         \u001b[39mbreak\u001b[39;00m\n\u001b[1;32m---> 28\u001b[0m     \u001b[39mprint\u001b[39m(\u001b[39m\"\u001b[39m\u001b[39mNorma: \u001b[39m\u001b[39m\"\u001b[39m, np\u001b[39m.\u001b[39;49mlinalg\u001b[39m.\u001b[39;49mnorm(x \u001b[39m-\u001b[39;49m (x\u001b[39m-\u001b[39;49my), \u001b[39m2\u001b[39;49m))\n\u001b[0;32m     29\u001b[0m     k \u001b[39m+\u001b[39m\u001b[39m=\u001b[39m \u001b[39m1\u001b[39m\n\u001b[0;32m     31\u001b[0m \u001b[39mreturn\u001b[39;00m output\n",
      "File \u001b[1;32m<__array_function__ internals>:180\u001b[0m, in \u001b[0;36mnorm\u001b[1;34m(*args, **kwargs)\u001b[0m\n",
      "File \u001b[1;32m~\\AppData\\Local\\Packages\\PythonSoftwareFoundation.Python.3.10_qbz5n2kfra8p0\\LocalCache\\local-packages\\Python310\\site-packages\\numpy\\linalg\\linalg.py:2527\u001b[0m, in \u001b[0;36mnorm\u001b[1;34m(x, ord, axis, keepdims)\u001b[0m\n\u001b[0;32m   2525\u001b[0m \u001b[39melse\u001b[39;00m:\n\u001b[0;32m   2526\u001b[0m     sqnorm \u001b[39m=\u001b[39m x\u001b[39m.\u001b[39mdot(x)\n\u001b[1;32m-> 2527\u001b[0m ret \u001b[39m=\u001b[39m sqrt(sqnorm)\n\u001b[0;32m   2528\u001b[0m \u001b[39mif\u001b[39;00m keepdims:\n\u001b[0;32m   2529\u001b[0m     ret \u001b[39m=\u001b[39m ret\u001b[39m.\u001b[39mreshape(ndim\u001b[39m*\u001b[39m[\u001b[39m1\u001b[39m])\n",
      "\u001b[1;31mTypeError\u001b[0m: loop of ufunc does not support argument 0 of type Float which has no callable sqrt method"
     ]
    }
   ],
   "source": [
    "# solve with Broyden's method\n",
    "\n",
    "x = [10, 10, 10, 10, 10]\n",
    "Xo = np.transpose(np.array(x)) # initial approximation\n",
    "n = 5 # number of equations and unknowns\n",
    "tolerance = 10**(-5) # chosen - arbitrary because there's no real implication to have a specific tolerance defined\n",
    "maxIterations = 20 # so it doesnt loop forever in case of failure\n",
    "\n",
    "t0 = time.time() # measure time it takes to calculate\n",
    "methodBroyden(n, Xo, tolerance, maxIterations, F)\n",
    "t1 = time.time() - t0\n",
    "print(f\"Tempo para calcular: {t1} segundos\")"
   ]
  },
  {
   "attachments": {},
   "cell_type": "markdown",
   "metadata": {},
   "source": [
    "### Comparação dos resultados"
   ]
  },
  {
   "attachments": {},
   "cell_type": "markdown",
   "metadata": {},
   "source": [
    "## ITEM 2"
   ]
  },
  {
   "attachments": {},
   "cell_type": "markdown",
   "metadata": {},
   "source": [
    "### Método de Newton"
   ]
  },
  {
   "cell_type": "code",
   "execution_count": null,
   "metadata": {},
   "outputs": [],
   "source": [
    "Xo = np.transpose(x) # initial approximation\n",
    "n = 5 # number of equations and unknowns\n",
    "tolerance = .0005 # chosen\n",
    "maxIterations = 100000 # so it doesnt loop forever in case of failure\n",
    "\n",
    "def f(x):\n",
    "    return\n",
    "\n",
    "\n",
    "def methodNewton(p0, p1, tolerance, maxIterations):\n",
    "    output = \"The method failed after \"+maxIterations+\" iterations. The procedure was unsuccessful\"\n",
    "    \n",
    "    i = 1\n",
    "    q0 = f(p0)\n",
    "    q1 = f(p1)\n",
    "    while i <= maxIterations:\n",
    "        p = p1 - q1*((p1-p0)/(q1-q0))\n",
    "       \n",
    "        if tolerance < p - p1 < tolerance:\n",
    "            output = p\n",
    "            break\n",
    "        else:\n",
    "            i += 1\n",
    "            p0 = p1\n",
    "            q0 = q1\n",
    "            p1 = p\n",
    "            q1 = f(p)\n",
    "        \n",
    "    return output"
   ]
  },
  {
   "attachments": {},
   "cell_type": "markdown",
   "metadata": {},
   "source": [
    "### Método de Broyden"
   ]
  },
  {
   "cell_type": "code",
   "execution_count": null,
   "metadata": {},
   "outputs": [],
   "source": [
    "Po = x # initial approximation\n",
    "tolerance = .0005 # arbitrary\n",
    "maxIterations = 100000 # so it doesnt loop forever in case of failure\n",
    "def f(x):\n",
    "    return\n",
    "def df(x):\n",
    "    return\n",
    "def J(x):\n",
    "    result = df(x)\n",
    "    return result\n",
    "def F(x):\n",
    "    return\n",
    "\n",
    "\n",
    "def methodBroyden(n, x, tolerance, maxIterations): # n is the number of equations and unknowns\n",
    "    output = \"The method failed after \"+maxIterations+\" iterations. The procedure was unsuccessful\"\n",
    "    \n",
    "    Ao = J(x)\n",
    "    v = F(x)\n",
    "    A = np.transpose(Ao) #use gaussian elimination\n",
    "    s = -A * v\n",
    "    x = x + s\n",
    "    k = 2\n",
    "    \n",
    "    while k <= maxIterations:\n",
    "        w = v\n",
    "        v = F(x)\n",
    "        y = v - w\n",
    "        z = -A* y\n",
    "        p = -np.transpose(s) * z\n",
    "        ut = np.transpose(np.transpose(s) * A)\n",
    "        A = A + (1/p)*(s+z)*ut\n",
    "        s = -A * v\n",
    "        x = x + s\n",
    "        if np.linalg.norm(s) < tolerance:\n",
    "            output = x\n",
    "            break\n",
    "        \n",
    "        k += 1\n",
    "        \n",
    "    return output\n",
    "          "
   ]
  },
  {
   "attachments": {},
   "cell_type": "markdown",
   "metadata": {},
   "source": [
    "### Comparação dos resultados"
   ]
  },
  {
   "attachments": {},
   "cell_type": "markdown",
   "metadata": {},
   "source": [
    "## ITEM 3"
   ]
  },
  {
   "attachments": {},
   "cell_type": "markdown",
   "metadata": {},
   "source": [
    "#### Bibliografia e referências: \n",
    "\n",
    "R.L. Burden & J.D. Faires, Numerical Analysis, Capítulos 2 e 10"
   ]
  }
 ],
 "metadata": {
  "kernelspec": {
   "display_name": "Python 3",
   "language": "python",
   "name": "python3"
  },
  "language_info": {
   "codemirror_mode": {
    "name": "ipython",
    "version": 3
   },
   "file_extension": ".py",
   "mimetype": "text/x-python",
   "name": "python",
   "nbconvert_exporter": "python",
   "pygments_lexer": "ipython3",
   "version": "3.10.9"
  },
  "orig_nbformat": 4,
  "vscode": {
   "interpreter": {
    "hash": "4abe64b9a8ed922d25f7390c9a03e42a2560957904a8072a31c407963719ee63"
   }
  }
 },
 "nbformat": 4,
 "nbformat_minor": 2
}
