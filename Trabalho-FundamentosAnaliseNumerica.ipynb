{
 "cells": [
  {
   "attachments": {},
   "cell_type": "markdown",
   "metadata": {},
   "source": [
    "Importações"
   ]
  },
  {
   "cell_type": "code",
   "execution_count": 2,
   "metadata": {},
   "outputs": [],
   "source": [
    "import time\n",
    "import scipy.linalg as sp\n",
    "import numpy as np\n",
    "import sympy as sym\n",
    "from math import *\n"
   ]
  },
  {
   "attachments": {},
   "cell_type": "markdown",
   "metadata": {},
   "source": [
    "Exemplo teste"
   ]
  },
  {
   "cell_type": "code",
   "execution_count": 114,
   "metadata": {},
   "outputs": [],
   "source": [
    "# Define variables\n",
    "x1, x2 = sym.symbols('x1 x2')\n",
    "variaveis = [x1, x2]\n",
    "\n",
    "# Define functions \n",
    "f1 = x1**2 + x2**2 - 4\n",
    "f2 = x1**2 - x2**2- 1\n",
    "\n",
    "F = np.transpose(np.array([f1,f2]))\n",
    "\n",
    "# Define the values and jacabian matrix\n",
    "## calculate values of F under a vector x\n",
    "def calcF(F, x):\n",
    "    Fx = []\n",
    "    for f in F:\n",
    "        Fx.append(f.subs([(x1,x[0]),(x2,x[1])]))\n",
    "    return np.array(Fx)\n",
    "\n",
    "## define jacobian matrix\n",
    "def J(F):\n",
    "    Jmatrix = []\n",
    "    for f in F:\n",
    "        Jmatrix.append([f.diff(x1), f.diff(x2)])\n",
    "    return np.array(Jmatrix)\n",
    "\n",
    "\n",
    "## calculate values of J under a vector x\n",
    "def calcJ(J, x):\n",
    "    Jx = []\n",
    "    i = 0\n",
    "    for linha in J:\n",
    "        Jx.append([])\n",
    "        for j in linha:\n",
    "            Jx[i].append(j.subs([(x1,x[0]),(x2,x[1])]))\n",
    "        i += 1\n",
    "    return np.array(Jx)\n",
    "\n",
    "\n",
    "\n",
    "## NOTE: the functions J(), calcJ() and calcF() could've been done in a more general way, such as to be used for any size of linear system\n",
    "## adjusting automatically, but since we're just using this program for specific examples, for simplicity I used one for each example.\n",
    "## Feel free to update it to work in a more general way.\n"
   ]
  },
  {
   "cell_type": "code",
   "execution_count": 111,
   "metadata": {},
   "outputs": [
    {
     "name": "stdout",
     "output_type": "stream",
     "text": [
      "Começando com Xo =  [1.5 1.5]\n",
      "1  Iteração x= [1.58333333 1.25      ] Norma:  0.2635231383473649\n",
      "2  Iteração x= [1.58114035 1.225     ] Norma:  0.025095999124420895\n",
      "3  Iteração x= [1.58113883 1.2247449 ] Norma:  0.000255106573881985\n"
     ]
    },
    {
     "data": {
      "text/plain": [
       "array([1.58113883, 1.2247449 ])"
      ]
     },
     "execution_count": 111,
     "metadata": {},
     "output_type": "execute_result"
    }
   ],
   "source": [
    "# solve with Newton's method\n",
    "x = np.transpose([1.5, 1.5]) # initial guess\n",
    "n = 5 # number of equations and unknowns\n",
    "tolerance = .01 # chosen - arbitrary because there's no real implication to have a specific tolerance defined\n",
    "maxIterations = 20 # so it doesnt loop forever in case of failure\n",
    "\n",
    "methodNewton(n, x, tolerance, maxIterations, F)\n"
   ]
  },
  {
   "cell_type": "code",
   "execution_count": 124,
   "metadata": {},
   "outputs": [
    {
     "data": {
      "text/plain": [
       "array([[-1.50000000000000, 3.00000000000000],\n",
       "       [-1.50000000000000, -3.00000000000000]], dtype=object)"
      ]
     },
     "execution_count": 124,
     "metadata": {},
     "output_type": "execute_result"
    }
   ],
   "source": [
    "# solve with Broyden's method\n",
    "x = np.transpose([1.5, 1.5]) # initial guess\n",
    "n = 5 # number of equations and unknowns\n",
    "tolerance = .01 # chosen - arbitrary because there's no real implication to have a specific tolerance defined\n",
    "maxIterations = 20 # so it doesnt loop forever in case of failure\n",
    "\n",
    "# methodBroyden(n, x, tolerance, maxIterations, F)\n",
    "\n",
    "Ao = calcJ(J(F), x)\n",
    "v = calcF(F, x)\n",
    "A = np.transpose(Ao) # use gaussian elimination\n",
    "s = -A * v\n",
    "x = x + s\n",
    "s"
   ]
  },
  {
   "cell_type": "code",
   "execution_count": 146,
   "metadata": {},
   "outputs": [
    {
     "data": {
      "text/plain": [
       "array([[1, 2],\n",
       "       [2, 4]])"
      ]
     },
     "execution_count": 146,
     "metadata": {},
     "output_type": "execute_result"
    }
   ],
   "source": [
    "a = np.array([1,2])\n",
    "b = np.transpose(a)\n",
    "np.outer(a,b)"
   ]
  },
  {
   "attachments": {},
   "cell_type": "markdown",
   "metadata": {},
   "source": [
    "## ITEM 1"
   ]
  },
  {
   "cell_type": "code",
   "execution_count": 103,
   "metadata": {},
   "outputs": [],
   "source": [
    "# define the functions\n",
    "x1, x2, x3, x4, x5 = sym.symbols('x1 x2 x3 x4 x5')\n",
    "R = [10, .193, 4.10622*10**(-4), 5.45177*10**(-4), 4.4975*10**(-7), 3.40735*10**(-5), 9.615*10**(-7)]\n",
    "\n",
    "## define matrix F\n",
    "f1 = x1*x2 +x1 -3*x5\n",
    "f2 = 2*x1*x2 +x1 +3*R[-1]*(x2**2) +x2*(x3**2) +R[-4]*x2*x3 +R[-2]*x2*x4 +R[-3]*x2 -R[0]*x5\n",
    "f3 = 2*x2*(x3**2) +R[-4]*x2*x3 + 2*R[-6]*(x3**2) +R[-5]*x3 -8*x5\n",
    "f4 = R[-2]*x2*x4 +2*(x4**2) -4*R[0]*x5\n",
    "f5 = x1*x2 +x1 +R[-1]*(x2**2) +x2*(x3**2) +R[-4]*x2*x3 +R[-2]*x2*x4 +R[-3]*x2 +R[-6]*(x3**2) +R[-5]*x3 +(x4**2) -1\n",
    "    \n",
    "F = np.transpose(np.array([f1,f2,f3,f4,f5]))"
   ]
  },
  {
   "cell_type": "code",
   "execution_count": 102,
   "metadata": {},
   "outputs": [],
   "source": [
    "## calculate values of F under a vector x\n",
    "def calcF(F, x):\n",
    "    Fx = []\n",
    "    for f in F:\n",
    "        Fx.append(f.subs([(x1,x[0]),(x2,x[1]),(x3,x[2]),(x4,x[3]),(x5,x[4])]))\n",
    "        \n",
    "    return np.array(Fx)\n",
    "\n",
    "## define jacobian matrix\n",
    "def J(F):\n",
    "    Jmatrix = []\n",
    "    for f in F:\n",
    "        Jmatrix.append([f.diff(x1), f.diff(x2), f.diff(x3), f.diff(x4), f.diff(x5)])\n",
    "        \n",
    "    return np.array(Jmatrix)    \n",
    "\n",
    "\n",
    "## calculate values of J under a vector x\n",
    "def calcJ(J, x):\n",
    "    Jx = []\n",
    "    i = 0\n",
    "    for linha in J:\n",
    "        Jx.append([])\n",
    "        for j in linha:\n",
    "            Jx[i].append(j.subs([(x1,x[0]),(x2,x[1]),(x3,x[2]),(x4,x[3]),(x5,x[4])]))\n",
    "        \n",
    "        i += 1\n",
    "        \n",
    "        \n",
    "    return np.array(Jx)\n",
    "\n",
    "## NOTE: the functions J(), calcJ() and calcF() could've been done in a more general way, such as to be used for any size of linear system\n",
    "## adjusting automatically, but since we're just using this program for specific examples, for simplicity I used one for each example.\n",
    "## Feel free to update it to work in a more general way.\n",
    "\n"
   ]
  },
  {
   "attachments": {},
   "cell_type": "markdown",
   "metadata": {},
   "source": [
    "### Método de Newton"
   ]
  },
  {
   "cell_type": "code",
   "execution_count": 73,
   "metadata": {},
   "outputs": [],
   "source": [
    "# define method\n",
    "def methodNewton(n, x, tolerance, maxIterations, F):\n",
    "    output = \"The method failed after \"+str(maxIterations)+\" iterations. The procedure was unsuccessful\"\n",
    "    \n",
    "    k = 1\n",
    "    print(\"Começando com Xo = \", x)\n",
    "    while k <= maxIterations:\n",
    "        Fx = [-x for x in calcF(F,x)]\n",
    "        Jx = calcJ(J(F), x)\n",
    "        y = np.linalg.solve(np.array(Jx, np.float64), np.array(Fx, np.float64))\n",
    "        x = x + y\n",
    "        print(k,\" Iteração x=\", x, end=\" \")\n",
    "        if np.linalg.norm(y, np.inf)  < tolerance:\n",
    "            output = x\n",
    "            print(\"Norma: \", np.linalg.norm(x - (x-y)))\n",
    "            break\n",
    "        else:\n",
    "            print(\"Norma: \", np.linalg.norm(x - (x-y)))\n",
    "            k += 1\n",
    "        \n",
    "    return output"
   ]
  },
  {
   "cell_type": "code",
   "execution_count": 93,
   "metadata": {},
   "outputs": [
    {
     "name": "stdout",
     "output_type": "stream",
     "text": [
      "Começando com Xo =  [10 10 10 10 10]\n",
      "1  Iteração x= [0.01065204 9.99922036 5.00102591 5.03641579 0.03645869] Norma:  15.769785630785213\n",
      "2  Iteração x= [ 0.01001153 10.01012371  2.49920776  2.59112275  0.03674507] Norma:  3.498381268945265\n",
      "3  Iteração x= [9.98373148e-03 1.00839478e+01 1.24338306e+00 1.43787284e+00\n",
      " 3.68870704e-02] Norma:  1.7066139146402113\n",
      "4  Iteração x= [9.68920699e-03 1.04317749e+01 6.06359646e-01 9.75892034e-01\n",
      " 3.69557589e-02] Norma:  0.8603539169025427\n",
      "5  Iteração x= [8.50591251e-03 1.18477258e+01 2.74174277e-01 8.66848855e-01\n",
      " 3.69857062e-02] Norma:  1.4584772627650562\n",
      "6  Iteração x= [5.41646124e-03 1.67133282e+01 1.03992448e-01 8.60022364e-01\n",
      " 3.69918658e-02] Norma:  4.868583458334746\n",
      "7  Iteração x= [2.92103470e-03 2.76408171e+01 6.02819450e-02 8.59724155e-01\n",
      " 3.69765221e-02] Norma:  10.927576589262472\n",
      "8  Iteração x= [3.45584277e-03 3.17170310e+01 6.96040198e-02 8.59516377e-01\n",
      " 3.69616409e-02] Norma:  4.07622454194743\n",
      "9  Iteração x= [3.43022114e-03 3.13294698e+01 6.83736167e-02 8.59528882e-01\n",
      " 3.69624337e-02] Norma:  0.3875630774484792\n",
      "10  Iteração x= [3.43023014e-03 3.13264969e+01 6.83504073e-02 8.59528996e-01\n",
      " 3.69624414e-02] Norma:  0.0029729769433587305\n",
      "11  Iteração x= [3.43023016e-03 3.13264968e+01 6.83504014e-02 8.59528996e-01\n",
      " 3.69624414e-02] Norma:  1.4066966110043846e-07\n",
      "Tempo para calcular: 0.33469462394714355 segundos\n"
     ]
    }
   ],
   "source": [
    "# solve with Newton's method\n",
    "\n",
    "x = [10, 10, 10, 10, 10]\n",
    "Xo = np.transpose(x) # initial approximation\n",
    "n = 5 # number of equations and unknowns\n",
    "tolerance = 10**(-5) # chosen - arbitrary because there's no real implication to have a specific tolerance defined\n",
    "maxIterations = 20 # so it doesnt loop forever in case of failure\n",
    "\n",
    "t0 = time.time() # measure time it takes to calculate\n",
    "methodNewton(n, Xo, tolerance, maxIterations, F)\n",
    "t1 = time.time() - t0\n",
    "print(f\"Tempo para calcular: {t1} segundos\")\n"
   ]
  },
  {
   "attachments": {},
   "cell_type": "markdown",
   "metadata": {},
   "source": [
    "### Método de Broyden"
   ]
  },
  {
   "cell_type": "code",
   "execution_count": 109,
   "metadata": {},
   "outputs": [],
   "source": [
    "# define method\n",
    "def methodBroyden(n, x, tolerance, maxIterations, F): # n is the number of equations and unknowns\n",
    "    output = \"The method failed after \"+str(maxIterations)+\" iterations. The procedure was unsuccessful\"\n",
    "    print(\"Começando com Xo = \", x)\n",
    "    Ao = calcJ(J(F), x)\n",
    "    v = calcF(F, x)\n",
    "    A = np.transpose(Ao) # use gaussian elimination\n",
    "    s = -A * v\n",
    "    x = x + s\n",
    "    k = 2\n",
    "    \n",
    "    \n",
    "    while k <= maxIterations:\n",
    "        w = v\n",
    "        v = calcF(F, x)\n",
    "        y = v - w\n",
    "        z = -A* y\n",
    "        p = -np.transpose(s) * z\n",
    "        ut = np.transpose(np.transpose(s) * A)\n",
    "        A = A + (1/p)*(s+z)*ut\n",
    "        s = -A * v\n",
    "        x = x + s\n",
    "        print(k,\" Iteração x=\", x, end=\" \")\n",
    "        if np.linalg.norm(s, np.inf) < tolerance:\n",
    "            print(\"Norma: \", np.linalg.norm(x - (x-y)))\n",
    "            output = x\n",
    "            break\n",
    "        print(\"Norma: \", np.linalg.norm(x - (x-y)))\n",
    "        k += 1\n",
    "        \n",
    "    return output\n",
    "             \n",
    "    "
   ]
  },
  {
   "cell_type": "code",
   "execution_count": 108,
   "metadata": {},
   "outputs": [
    {
     "name": "stdout",
     "output_type": "stream",
     "text": [
      "Começando com Xo =  [10 10 10 10 10]\n",
      "2  Iteração x= [[(9680*(-11*x1*x2 - 11*x1 + 33*x5)/(-9680*x1*x2 - 9680*x1 + 29040*x5 + 774400) - 11)*(x1*x2 + x1 - 3*x5) - 870\n",
      "  (233112.225779475*(-42*x1*x2 - 21*x1 - 6.05745e-5*x2**2 - 21*x2*x3**2 - 0.011448717*x2*x3 - 0.0007155435*x2*x4 - 9.44475e-6*x2 + 210*x5)/(-33600*x1*x2 - 16800*x1 - 0.0484596*x2**2 - 16800*x2*x3**2 - 9.1589736*x2*x3 - 0.5724348*x2*x4 - 0.0075558*x2 + 168000*x5 + 18648978.062358) - 21)*(2*x1*x2 + x1 + 2.8845e-6*x2**2 + x2*x3**2 + 0.000545177*x2*x3 + 3.40735e-5*x2*x4 + 4.4975e-7*x2 - 10*x5) - 23301.2225779475\n",
      "  nan nan\n",
      "  (-40535.9503532775*(-11*x1*x2 - 11*x1 - 1.05765e-5*x2**2 - 11*x2*x3**2 - 0.005996947*x2*x3 - 0.0003748085*x2*x4 - 4.94725e-6*x2 - 2.123*x3**2 - 0.004516842*x3 - 11*x4**2 + 11.0)/(2640*x1*x2 + 2640*x1 + 0.00253836*x2**2 + 2640*x2*x3**2 + 1.43926728*x2*x3 + 0.08995404*x2*x4 + 0.00118734*x2 + 509.52*x3**2 + 1.08404208*x3 + 2640*x4**2 - 3245516.0282622) - 11)*(x1*x2 + x1 + 9.615e-7*x2**2 + x2*x3**2 + 0.000545177*x2*x3 + 3.40735e-5*x2*x4 + 4.4975e-7*x2 + 0.193*x3**2 + 0.000410622*x3 + x4**2 - 1) - 13501.9834510925]\n",
      " [(16800*(-10*x1*x2 - 10*x1 + 30*x5)/(-233112.225779475*x1*x2 - 233112.225779475*x1 + 699336.677338425*x5 + 18648978.062358) - 10)*(x1*x2 + x1 - 3*x5) - 790\n",
      "  (15986397.0706698*(-240.0117012895*x1*x2 - 120.00585064475*x1 - 0.000346156876184781*x2**2 - 120.00585064475*x2*x3**2 - 0.0654244296369529*x2*x3 - 0.00408901935194389*x2*x4 - 5.39726313274763e-5*x2 + 1200.0585064475*x5)/(-31972794.1413396*x1*x2 - 15986397.0706698*x1 - 46.1127623503471*x2**2 - 15986397.0706698*x2*x3**2 - 8715.41599579656*x2*x3 - 544.712500587468*x2*x4 - 7.18988208253375*x2 + 159863970.706698*x5 + 17745831444.4682) - 120.00585064475)*(2*x1*x2 + x1 + 2.8845e-6*x2**2 + x2*x3**2 + 0.000545177*x2*x3 + 3.40735e-5*x2*x4 + 4.4975e-7*x2 - 10*x5) - 133203.480715985\n",
      "  (78350616.2775453*(-400.01090354*x2*x3**2 - 0.109038372179613*x2*x3 - 77.20210438322*x3**2 - 0.082126638616701*x3 + 1600.04361416*x5)/(-88809498.9314588*x2*x3**2 - 24208.4480994779*x2*x3 - 17140233.2937715*x3**2 - 18233.5670351167*x3 + 355237995.725835*x5 + 86973745484.0579) - 200.00545177)*(2*x2*x3**2 + 0.000545177*x2*x3 + 0.386*x3**2 + 0.000410622*x3 - 8*x5) - 391732.402940326\n",
      "  (-2.32196724505057e-5*(-1.16100340225e-8*x2*x4 - 0.00068147*x4**2 + 0.0136294*x5)/(-4.39132919354154e-9*x2*x4 - 0.000257756273558134*x4**2 + 0.00515512547116268*x5 - 0.025775188222894) - 0.000340735)*(3.40735e-5*x2*x4 + 2*x4**2 - 40*x5) + 10.0681458389966\n",
      "  (-1351269.73978576*(-110.00581218475*x1*x2 - 110.00581218475*x1 - 0.000105770588415637*x2**2 - 110.00581218475*x2*x3**2 - 0.0599726386694454*x2*x3 - 0.00374828304147708*x2*x4 - 4.94751140300913e-5*x2 - 21.2311217516567*x3**2 - 0.0451708066109264*x3 - 110.00581218475*x4**2 + 110.00581218474)/(1221128.55843171*x1*x2 + 1221128.55843171*x1 + 1.17411510893209*x2**2 + 1221128.55843171*x2*x3**2 + 665.731204100126*x2*x3 + 41.608123935723*x2*x4 + 0.549202569154663*x2 + 235677.81177732*x3**2 + 501.422250920347*x3 + 1221128.55843171*x4**2 - 1501209207.93895) - 110.00581218475)*(x1*x2 + x1 + 9.615e-7*x2**2 + x2*x3**2 + 0.000545177*x2*x3 + 3.40735e-5*x2*x4 + 4.4975e-7*x2 + 0.193*x3**2 + 0.000410622*x3 + x4**2 - 1) - 135116.973978576]\n",
      " [nan\n",
      "  (44404749.4657294*(-400.01090354*x1*x2 - 200.00545177*x1 - 0.000576915725630565*x2**2 - 200.00545177*x2*x3**2 - 0.109038372179613*x2*x3 - 0.0068148857608851*x2*x4 - 8.99524519335575e-5*x2 + 2000.0545177*x5)/(-156701232.555091*x1*x2 - 78350616.2775453*x1 - 226.002352652579*x2**2 - 78350616.2775453*x2*x3**2 - 42714.9539303433*x2*x3 - 2669.67972373294*x2*x4 - 35.238189670826*x2 + 783506162.775453*x5 + 86973745484.0579) - 200.00545177)*(2*x1*x2 + x1 + 2.8845e-6*x2**2 + x2*x3**2 + 0.000545177*x2*x3 + 3.40735e-5*x2*x4 + 4.4975e-7*x2 - 10*x5) - 222007.695381591\n",
      "  (325608151.704331*(-815.451724784*x2*x3**2 - 0.222282762481283*x2*x3 - 157.382182883312*x3**2 - 0.167421209067128*x3 + 3261.806899136*x5)/(-651216303.408662*x2*x3**2 - 177514.075321712*x2*x3 - 125684746.557872*x3**2 - 133701.870469136*x3 + 2604865213.63465*x5 + 637755214354.339) - 407.725862392)*(2*x2*x3**2 + 0.000545177*x2*x3 + 0.386*x3**2 + 0.000410622*x3 - 8*x5) - 798585.77656931\n",
      "  nan\n",
      "  (-2003368.84282429*(-203.865862392*x1*x2 - 203.865862392*x1 - 0.000196017026689908*x2**2 - 203.865862392*x2*x3**2 - 0.111142979261283*x2*x3 - 0.00694642346221381*x2*x4 - 9.1688671610802e-5*x2 - 39.346111441656*x3**2 - 0.0837118081471278*x3 - 203.865862392*x4**2 + 203.865862392006)/(3194429.03597583*x1*x2 + 3194429.03597583*x1 + 3.07144351809076*x2**2 + 3194429.03597583*x2*x3**2 + 1741.5292385462*x2*x3 + 108.845377757322*x2*x4 + 1.43669445893013*x2 + 616524.803943335*x3**2 + 1311.70283961047*x3 + 3194429.03597583*x4**2 - 3927110089.92641) - 203.865862392)*(x1*x2 + x1 + 9.615e-7*x2**2 + x2*x3**2 + 0.000545177*x2*x3 + 3.40735e-5*x2*x4 + 4.4975e-7*x2 + 0.193*x3**2 + 0.000410622*x3 + x4**2 - 1) - 250411.105353037]\n",
      " [nan\n",
      "  (0.000128878136779067*(-0.00068147*x1*x2 - 0.000340735*x1 - 9.828501075e-10*x2**2 - 0.000340735*x2*x3**2 - 1.85760885095e-7*x2*x3 - 1.16100340225e-8*x2*x4 - 1.5324556625e-10*x2 + 0.00340735*x5)/(4.64393449010115e-5*x1*x2 + 2.32196724505057e-5*x1 + 6.69771451834838e-11*x2**2 + 2.32196724505057e-5*x2*x3**2 + 1.26588313675494e-8*x2*x3 + 7.91175509242308e-10*x2*x4 + 1.0443047684615e-11*x2 - 0.000232196724505057*x5 - 0.025775188222894) - 0.000340735)*(2*x1*x2 + x1 + 2.8845e-6*x2**2 + x2*x3**2 + 0.000545177*x2*x3 + 3.40735e-5*x2*x4 + 4.4975e-7*x2 - 10*x5) + 9.62176431309062\n",
      "  nan\n",
      "  (-319999.999930339*(-0.00136295161003402*x2*x4 - 80.00068147*x4**2 + 1600.0136294*x5)/(10.9035199976264*x2*x4 + 639999.999860679*x4**2 - 12799999.9972136*x5 + 63998909.6340681) - 40.000340735)*(3.40735e-5*x2*x4 + 2*x4**2 - 40*x5) + 8009.931851839\n",
      "  (-20.000340735 - 982706.447372841*(-20.000340735*x1*x2 - 20.000340735*x1 - 1.92303276167025e-5*x2**2 - 20.000340735*x2*x3**2 - 0.0109037257608851*x2*x3 - 0.000681481610034023*x2*x4 - 8.99515324556625e-6*x2 - 3.860065761855*x3**2 - 0.00821257991328717*x3 - 20.000340735*x4**2 + 20.0003407350014)/(-159999.99995356*x1*x2 - 159999.99995356*x1 - 0.153839999955348*x2**2 - 159999.99995356*x2*x3**2 - 87.2283199746819*x2*x3 - 5.45175999841762*x2*x4 - 0.0719599999791136*x2 - 30879.9999910371*x3**2 - 65.6995199809307*x3 - 159999.99995356*x4**2 + 196697941.049708))*(x1*x2 + x1 + 9.615e-7*x2**2 + x2*x3**2 + 0.000545177*x2*x3 + 3.40735e-5*x2*x4 + 4.4975e-7*x2 + 0.193*x3**2 + 0.000410622*x3 + x4**2 - 1) - 24557.661184321]\n",
      " [(-2640*(3*x1*x2 + 3*x1 - 9*x5)/(40535.9503532775*x1*x2 + 40535.9503532775*x1 - 121607.851059832*x5 - 3242876.0282622) + 3)*(x1*x2 + x1 - 3*x5) + 250\n",
      "  (-1221128.55843171*(20*x1*x2 + 10*x1 + 2.8845e-5*x2**2 + 10*x2*x3**2 + 0.00545177*x2*x3 + 0.000340735*x2*x4 + 4.4975e-6*x2 - 100*x5)/(2702539.47957151*x1*x2 + 1351269.73978576*x1 + 3.89773756441201*x2**2 + 1351269.73978576*x2*x3**2 + 736.681182927179*x2*x3 + 46.04248947859*x2*x4 + 0.607733565468644*x2 - 13512697.3978576*x5 - 1499988079.38052) + 10)*(2*x1*x2 + x1 + 2.8845e-6*x2**2 + x2*x3**2 + 0.000545177*x2*x3 + 3.40735e-5*x2*x4 + 4.4975e-7*x2 - 10*x5) + 11110.582179975\n",
      "  (-3194429.03597583*(16*x2*x3**2 + 0.004361416*x2*x3 + 3.088*x3**2 + 0.003284976*x3 - 64*x5)/(4006737.68564859*x2*x3**2 + 1092.19061562442*x2*x3 + 773300.373330178*x3**2 + 822.627320978198*x3 - 16026950.7425944*x5 - 3923915660.89043) + 8)*(2*x2*x3**2 + 0.000545177*x2*x3 + 0.386*x3**2 + 0.000410622*x3 - 8*x5) + 15679.26899136\n",
      "  (159999.99995356*(0.00136294*x2*x4 + 80*x4**2 - 1600*x5)/(33.4842481345585*x2*x4 + 1965412.89474568*x4**2 - 39308257.8949136*x5 + 196537941.049755) + 40)*(3.40735e-5*x2*x4 + 2*x4**2 - 40*x5) - 7989.863706\n",
      "  nan]] "
     ]
    },
    {
     "ename": "TypeError",
     "evalue": "Invalid NaN comparison",
     "output_type": "error",
     "traceback": [
      "\u001b[1;31m---------------------------------------------------------------------------\u001b[0m",
      "\u001b[1;31mTypeError\u001b[0m                                 Traceback (most recent call last)",
      "Cell \u001b[1;32mIn[108], line 10\u001b[0m\n\u001b[0;32m      7\u001b[0m maxIterations \u001b[39m=\u001b[39m \u001b[39m20\u001b[39m \u001b[39m# so it doesnt loop forever in case of failure\u001b[39;00m\n\u001b[0;32m      9\u001b[0m t0 \u001b[39m=\u001b[39m time\u001b[39m.\u001b[39mtime() \u001b[39m# measure time it takes to calculate\u001b[39;00m\n\u001b[1;32m---> 10\u001b[0m methodBroyden(n, Xo, tolerance, maxIterations, F)\n\u001b[0;32m     11\u001b[0m t1 \u001b[39m=\u001b[39m time\u001b[39m.\u001b[39mtime() \u001b[39m-\u001b[39m t0\n\u001b[0;32m     12\u001b[0m \u001b[39mprint\u001b[39m(\u001b[39mf\u001b[39m\u001b[39m\"\u001b[39m\u001b[39mTempo para calcular: \u001b[39m\u001b[39m{\u001b[39;00mt1\u001b[39m}\u001b[39;00m\u001b[39m segundos\u001b[39m\u001b[39m\"\u001b[39m)\n",
      "Cell \u001b[1;32mIn[107], line 23\u001b[0m, in \u001b[0;36mmethodBroyden\u001b[1;34m(n, x, tolerance, maxIterations, F)\u001b[0m\n\u001b[0;32m     21\u001b[0m x \u001b[39m=\u001b[39m x \u001b[39m+\u001b[39m s\n\u001b[0;32m     22\u001b[0m \u001b[39mprint\u001b[39m(k,\u001b[39m\"\u001b[39m\u001b[39m Iteração x=\u001b[39m\u001b[39m\"\u001b[39m, x, end\u001b[39m=\u001b[39m\u001b[39m\"\u001b[39m\u001b[39m \u001b[39m\u001b[39m\"\u001b[39m)\n\u001b[1;32m---> 23\u001b[0m \u001b[39mif\u001b[39;00m np\u001b[39m.\u001b[39;49mlinalg\u001b[39m.\u001b[39;49mnorm(s, np\u001b[39m.\u001b[39;49minf) \u001b[39m<\u001b[39m tolerance:\n\u001b[0;32m     24\u001b[0m     \u001b[39mprint\u001b[39m(\u001b[39m\"\u001b[39m\u001b[39mNorma: \u001b[39m\u001b[39m\"\u001b[39m, np\u001b[39m.\u001b[39mlinalg\u001b[39m.\u001b[39mnorm(x \u001b[39m-\u001b[39m (x\u001b[39m-\u001b[39my)))\n\u001b[0;32m     25\u001b[0m     output \u001b[39m=\u001b[39m x\n",
      "File \u001b[1;32m<__array_function__ internals>:180\u001b[0m, in \u001b[0;36mnorm\u001b[1;34m(*args, **kwargs)\u001b[0m\n",
      "File \u001b[1;32m~\\AppData\\Local\\Packages\\PythonSoftwareFoundation.Python.3.10_qbz5n2kfra8p0\\LocalCache\\local-packages\\Python310\\site-packages\\numpy\\linalg\\linalg.py:2585\u001b[0m, in \u001b[0;36mnorm\u001b[1;34m(x, ord, axis, keepdims)\u001b[0m\n\u001b[0;32m   2583\u001b[0m     \u001b[39mif\u001b[39;00m row_axis \u001b[39m>\u001b[39m col_axis:\n\u001b[0;32m   2584\u001b[0m         row_axis \u001b[39m-\u001b[39m\u001b[39m=\u001b[39m \u001b[39m1\u001b[39m\n\u001b[1;32m-> 2585\u001b[0m     ret \u001b[39m=\u001b[39m add\u001b[39m.\u001b[39;49mreduce(\u001b[39mabs\u001b[39;49m(x), axis\u001b[39m=\u001b[39;49mcol_axis)\u001b[39m.\u001b[39;49mmax(axis\u001b[39m=\u001b[39;49mrow_axis)\n\u001b[0;32m   2586\u001b[0m \u001b[39melif\u001b[39;00m \u001b[39mord\u001b[39m \u001b[39m==\u001b[39m \u001b[39m-\u001b[39m\u001b[39m1\u001b[39m:\n\u001b[0;32m   2587\u001b[0m     \u001b[39mif\u001b[39;00m col_axis \u001b[39m>\u001b[39m row_axis:\n",
      "File \u001b[1;32m~\\AppData\\Local\\Packages\\PythonSoftwareFoundation.Python.3.10_qbz5n2kfra8p0\\LocalCache\\local-packages\\Python310\\site-packages\\numpy\\core\\_methods.py:40\u001b[0m, in \u001b[0;36m_amax\u001b[1;34m(a, axis, out, keepdims, initial, where)\u001b[0m\n\u001b[0;32m     38\u001b[0m \u001b[39mdef\u001b[39;00m \u001b[39m_amax\u001b[39m(a, axis\u001b[39m=\u001b[39m\u001b[39mNone\u001b[39;00m, out\u001b[39m=\u001b[39m\u001b[39mNone\u001b[39;00m, keepdims\u001b[39m=\u001b[39m\u001b[39mFalse\u001b[39;00m,\n\u001b[0;32m     39\u001b[0m           initial\u001b[39m=\u001b[39m_NoValue, where\u001b[39m=\u001b[39m\u001b[39mTrue\u001b[39;00m):\n\u001b[1;32m---> 40\u001b[0m     \u001b[39mreturn\u001b[39;00m umr_maximum(a, axis, \u001b[39mNone\u001b[39;49;00m, out, keepdims, initial, where)\n",
      "File \u001b[1;32m~\\AppData\\Local\\Packages\\PythonSoftwareFoundation.Python.3.10_qbz5n2kfra8p0\\LocalCache\\local-packages\\Python310\\site-packages\\sympy\\core\\decorators.py:236\u001b[0m, in \u001b[0;36m_SympifyWrapper.make_wrapped.<locals>._func\u001b[1;34m(self, other)\u001b[0m\n\u001b[0;32m    234\u001b[0m \u001b[39mif\u001b[39;00m \u001b[39mnot\u001b[39;00m \u001b[39misinstance\u001b[39m(other, expectedcls):\n\u001b[0;32m    235\u001b[0m     \u001b[39mreturn\u001b[39;00m retval\n\u001b[1;32m--> 236\u001b[0m \u001b[39mreturn\u001b[39;00m func(\u001b[39mself\u001b[39;49m, other)\n",
      "File \u001b[1;32m~\\AppData\\Local\\Packages\\PythonSoftwareFoundation.Python.3.10_qbz5n2kfra8p0\\LocalCache\\local-packages\\Python310\\site-packages\\sympy\\core\\expr.py:361\u001b[0m, in \u001b[0;36mExpr.__ge__\u001b[1;34m(self, other)\u001b[0m\n\u001b[0;32m    358\u001b[0m \u001b[39m@sympify_return\u001b[39m([(\u001b[39m'\u001b[39m\u001b[39mother\u001b[39m\u001b[39m'\u001b[39m, \u001b[39m'\u001b[39m\u001b[39mExpr\u001b[39m\u001b[39m'\u001b[39m)], \u001b[39mNotImplemented\u001b[39m)\n\u001b[0;32m    359\u001b[0m \u001b[39mdef\u001b[39;00m \u001b[39m__ge__\u001b[39m(\u001b[39mself\u001b[39m, other):\n\u001b[0;32m    360\u001b[0m     \u001b[39mfrom\u001b[39;00m \u001b[39m.\u001b[39;00m\u001b[39mrelational\u001b[39;00m \u001b[39mimport\u001b[39;00m GreaterThan\n\u001b[1;32m--> 361\u001b[0m     \u001b[39mreturn\u001b[39;00m GreaterThan(\u001b[39mself\u001b[39;49m, other)\n",
      "File \u001b[1;32m~\\AppData\\Local\\Packages\\PythonSoftwareFoundation.Python.3.10_qbz5n2kfra8p0\\LocalCache\\local-packages\\Python310\\site-packages\\sympy\\core\\relational.py:836\u001b[0m, in \u001b[0;36m_Inequality.__new__\u001b[1;34m(cls, lhs, rhs, **options)\u001b[0m\n\u001b[0;32m    834\u001b[0m         \u001b[39mraise\u001b[39;00m \u001b[39mTypeError\u001b[39;00m(\u001b[39m\"\u001b[39m\u001b[39mInvalid comparison of non-real \u001b[39m\u001b[39m%s\u001b[39;00m\u001b[39m\"\u001b[39m \u001b[39m%\u001b[39m me)\n\u001b[0;32m    835\u001b[0m     \u001b[39mif\u001b[39;00m me \u001b[39mis\u001b[39;00m S\u001b[39m.\u001b[39mNaN:\n\u001b[1;32m--> 836\u001b[0m         \u001b[39mraise\u001b[39;00m \u001b[39mTypeError\u001b[39;00m(\u001b[39m\"\u001b[39m\u001b[39mInvalid NaN comparison\u001b[39m\u001b[39m\"\u001b[39m)\n\u001b[0;32m    837\u001b[0m \u001b[39m# First we invoke the appropriate inequality method of `lhs`\u001b[39;00m\n\u001b[0;32m    838\u001b[0m \u001b[39m# (e.g., `lhs.__lt__`).  That method will try to reduce to\u001b[39;00m\n\u001b[0;32m    839\u001b[0m \u001b[39m# boolean or raise an exception.  It may keep calling\u001b[39;00m\n\u001b[1;32m   (...)\u001b[0m\n\u001b[0;32m    843\u001b[0m \u001b[39m# exception).  In that case, it must call us with\u001b[39;00m\n\u001b[0;32m    844\u001b[0m \u001b[39m# `evaluate=False` to prevent infinite recursion.\u001b[39;00m\n\u001b[0;32m    845\u001b[0m \u001b[39mreturn\u001b[39;00m \u001b[39mcls\u001b[39m\u001b[39m.\u001b[39m_eval_relation(lhs, rhs, \u001b[39m*\u001b[39m\u001b[39m*\u001b[39moptions)\n",
      "\u001b[1;31mTypeError\u001b[0m: Invalid NaN comparison"
     ]
    }
   ],
   "source": [
    "# solve with Broyden's method\n",
    "\n",
    "x = [10, 10, 10, 10, 10]\n",
    "Xo = np.transpose(np.array(x)) # initial approximation\n",
    "n = 5 # number of equations and unknowns\n",
    "tolerance = 10**(-5) # chosen - arbitrary because there's no real implication to have a specific tolerance defined\n",
    "maxIterations = 20 # so it doesnt loop forever in case of failure\n",
    "\n",
    "t0 = time.time() # measure time it takes to calculate\n",
    "methodBroyden(n, Xo, tolerance, maxIterations, F)\n",
    "t1 = time.time() - t0\n",
    "print(f\"Tempo para calcular: {t1} segundos\")"
   ]
  },
  {
   "attachments": {},
   "cell_type": "markdown",
   "metadata": {},
   "source": [
    "### Comparação dos resultados"
   ]
  },
  {
   "attachments": {},
   "cell_type": "markdown",
   "metadata": {},
   "source": [
    "## ITEM 2"
   ]
  },
  {
   "attachments": {},
   "cell_type": "markdown",
   "metadata": {},
   "source": [
    "### Método de Newton"
   ]
  },
  {
   "cell_type": "code",
   "execution_count": null,
   "metadata": {},
   "outputs": [],
   "source": [
    "Xo = np.transpose(x) # initial approximation\n",
    "n = 5 # number of equations and unknowns\n",
    "tolerance = .0005 # chosen\n",
    "maxIterations = 100000 # so it doesnt loop forever in case of failure\n",
    "\n",
    "def f(x):\n",
    "    return\n",
    "\n",
    "\n",
    "def methodNewton(p0, p1, tolerance, maxIterations):\n",
    "    output = \"The method failed after \"+maxIterations+\" iterations. The procedure was unsuccessful\"\n",
    "    \n",
    "    i = 1\n",
    "    q0 = f(p0)\n",
    "    q1 = f(p1)\n",
    "    while i <= maxIterations:\n",
    "        p = p1 - q1*((p1-p0)/(q1-q0))\n",
    "       \n",
    "        if tolerance < p - p1 < tolerance:\n",
    "            output = p\n",
    "            break\n",
    "        else:\n",
    "            i += 1\n",
    "            p0 = p1\n",
    "            q0 = q1\n",
    "            p1 = p\n",
    "            q1 = f(p)\n",
    "        \n",
    "    return output"
   ]
  },
  {
   "attachments": {},
   "cell_type": "markdown",
   "metadata": {},
   "source": [
    "### Método de Broyden"
   ]
  },
  {
   "cell_type": "code",
   "execution_count": null,
   "metadata": {},
   "outputs": [],
   "source": [
    "Po = x # initial approximation\n",
    "tolerance = .0005 # arbitrary\n",
    "maxIterations = 100000 # so it doesnt loop forever in case of failure\n",
    "def f(x):\n",
    "    return\n",
    "def df(x):\n",
    "    return\n",
    "def J(x):\n",
    "    result = df(x)\n",
    "    return result\n",
    "def F(x):\n",
    "    return\n",
    "\n",
    "\n",
    "def methodBroyden(n, x, tolerance, maxIterations): # n is the number of equations and unknowns\n",
    "    output = \"The method failed after \"+maxIterations+\" iterations. The procedure was unsuccessful\"\n",
    "    \n",
    "    Ao = J(x)\n",
    "    v = F(x)\n",
    "    A = np.transpose(Ao) #use gaussian elimination\n",
    "    s = -A * v\n",
    "    x = x + s\n",
    "    k = 2\n",
    "    \n",
    "    while k <= maxIterations:\n",
    "        w = v\n",
    "        v = F(x)\n",
    "        y = v - w\n",
    "        z = -A* y\n",
    "        p = -np.transpose(s) * z\n",
    "        ut = np.transpose(np.transpose(s) * A)\n",
    "        A = A + (1/p)*(s+z)*ut\n",
    "        s = -A * v\n",
    "        x = x + s\n",
    "        if np.linalg.norm(s) < tolerance:\n",
    "            output = x\n",
    "            break\n",
    "        \n",
    "        k += 1\n",
    "        \n",
    "    return output\n",
    "          "
   ]
  },
  {
   "attachments": {},
   "cell_type": "markdown",
   "metadata": {},
   "source": [
    "### Comparação dos resultados"
   ]
  },
  {
   "attachments": {},
   "cell_type": "markdown",
   "metadata": {},
   "source": [
    "## ITEM 3"
   ]
  },
  {
   "attachments": {},
   "cell_type": "markdown",
   "metadata": {},
   "source": [
    "#### Bibliografia e referências: \n",
    "\n",
    "R.L. Burden & J.D. Faires, Numerical Analysis, Capítulos 2 e 10"
   ]
  }
 ],
 "metadata": {
  "kernelspec": {
   "display_name": "Python 3",
   "language": "python",
   "name": "python3"
  },
  "language_info": {
   "codemirror_mode": {
    "name": "ipython",
    "version": 3
   },
   "file_extension": ".py",
   "mimetype": "text/x-python",
   "name": "python",
   "nbconvert_exporter": "python",
   "pygments_lexer": "ipython3",
   "version": "3.10.9"
  },
  "orig_nbformat": 4,
  "vscode": {
   "interpreter": {
    "hash": "4abe64b9a8ed922d25f7390c9a03e42a2560957904a8072a31c407963719ee63"
   }
  }
 },
 "nbformat": 4,
 "nbformat_minor": 2
}
