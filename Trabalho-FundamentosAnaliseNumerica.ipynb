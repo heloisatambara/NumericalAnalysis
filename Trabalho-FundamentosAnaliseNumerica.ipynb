{
 "cells": [
  {
   "attachments": {},
   "cell_type": "markdown",
   "metadata": {},
   "source": [
    "Importações"
   ]
  },
  {
   "cell_type": "code",
   "execution_count": 2,
   "metadata": {},
   "outputs": [],
   "source": [
    "import time\n",
    "import scipy.linalg as sp\n",
    "import numpy as np\n",
    "import sympy as sym\n",
    "from math import *\n"
   ]
  },
  {
   "attachments": {},
   "cell_type": "markdown",
   "metadata": {},
   "source": [
    "Exemplo teste"
   ]
  },
  {
   "cell_type": "code",
   "execution_count": 69,
   "metadata": {},
   "outputs": [
    {
     "name": "stdout",
     "output_type": "stream",
     "text": [
      "Começando com Xo =  [1.5 1.5]\n",
      "1  Iteração x= [1.58333333 1.25      ] Norma:  0.2635231383473649\n",
      "2  Iteração x= [1.58114035 1.225     ] Norma:  0.025095999124420895\n",
      "3  Iteração x= [1.58113883 1.2247449 ] Norma:  0.000255106573881985\n"
     ]
    },
    {
     "data": {
      "text/plain": [
       "array([1.58113883, 1.2247449 ])"
      ]
     },
     "execution_count": 69,
     "metadata": {},
     "output_type": "execute_result"
    }
   ],
   "source": [
    "# Define variables\n",
    "x1, x2 = sym.symbols('x1 x2')\n",
    "variaveis = [x1, x2]\n",
    "\n",
    "# Define functions \n",
    "f1 = x1**2 + x2**2 - 4\n",
    "f2 = x1**2 - x2**2- 1\n",
    "\n",
    "F = np.transpose([f1,f2])\n",
    "\n",
    "# Define the values and jacabian matrix\n",
    "## calculate values of F under a vector x\n",
    "def calcF(F, x):\n",
    "    Fx = []\n",
    "    for f in F:\n",
    "        Fx.append(f.subs([(x1,x[0]),(x2,x[1])]))\n",
    "    return Fx\n",
    "\n",
    "## define jacobian matrix\n",
    "def J(F):\n",
    "    Jmatrix = []\n",
    "    for f in F:\n",
    "        Jmatrix.append([f.diff(x1), f.diff(x2)])\n",
    "    return  Jmatrix    \n",
    "\n",
    "\n",
    "## calculate values of J under a vector x\n",
    "def calcJ(J, x):\n",
    "    Jx = []\n",
    "    i = 0\n",
    "    for linha in J:\n",
    "        Jx.append([])\n",
    "        for j in linha:\n",
    "            Jx[i].append(j.subs([(x1,x[0]),(x2,x[1])]))\n",
    "        i += 1\n",
    "    return Jx\n",
    "\n",
    "\n",
    "\n",
    "\n",
    "# solve with Newton's method\n",
    "x = np.transpose([1.5, 1.5]) # initial guess\n",
    "n = 5 # number of equations and unknowns\n",
    "tolerance = .01 # chosen - arbitrary because there's no real implication to have a specific tolerance defined\n",
    "maxIterations = 20 # so it doesnt loop forever in case of failure\n",
    "\n",
    "methodNewton(n, x, tolerance, maxIterations, F)\n",
    "\n",
    "\n",
    "## NOTE: the functions J(), calcJ() and calcF() could've been done in a more general way, such as to be used for any size of linear system\n",
    "## adjusting automatically, but since we're just using this program for specific examples, for simplicity I used one for each example.\n",
    "## Feel free to update it to work in a more general way.\n"
   ]
  },
  {
   "attachments": {},
   "cell_type": "markdown",
   "metadata": {},
   "source": [
    "## ITEM 1"
   ]
  },
  {
   "cell_type": "code",
   "execution_count": 7,
   "metadata": {},
   "outputs": [
    {
     "data": {
      "text/plain": [
       "array([-80, -1110.05821799750, -1958.65862392000, 199.996592650000,\n",
       "       -1228.36213191750], dtype=object)"
      ]
     },
     "execution_count": 7,
     "metadata": {},
     "output_type": "execute_result"
    }
   ],
   "source": [
    "# Test cell\n",
    "Fx = np.transpose([-x for x in calcF(F,x)])\n",
    "Fx\n",
    "\n",
    "\n"
   ]
  },
  {
   "cell_type": "code",
   "execution_count": 5,
   "metadata": {},
   "outputs": [],
   "source": [
    "# define the functions\n",
    "x1, x2, x3, x4, x5 = sym.symbols('x1 x2 x3 x4 x5')\n",
    "R = [10, .193, 4.10622*10**(-4), 5.45177*10**(-4), 4.4975*10**(-7), 3.40735*10**(-5), 9.615*10**(-7)]\n",
    "\n",
    "## define matrix F\n",
    "f1 = x1*x2 +x1 -3*x5\n",
    "f2 = 2*x1*x2 +x1 +3*R[-1]*(x2**2) +x2*(x3**2) +R[-4]*x2*x3 +R[-2]*x2*x4 +R[-3]*x2 -R[0]*x5\n",
    "f3 = 2*x2*(x3**2) +R[-4]*x2*x3 + 2*R[-6]*(x3**2) +R[-5]*x3 -8*x5\n",
    "f4 = R[-2]*x2*x4 +2*(x4**2) -4*R[0]*x5\n",
    "f5 = x1*x2 +x1 +R[-1]*(x2**2) +x2*(x3**2) +R[-4]*x2*x3 +R[-2]*x2*x4 +R[-3]*x2 +R[-6]*(x3**2) +R[-5]*x3 +(x4**2) -1\n",
    "    \n",
    "F = np.transpose([f1,f2,f3,f4,f5])"
   ]
  },
  {
   "cell_type": "code",
   "execution_count": 18,
   "metadata": {},
   "outputs": [],
   "source": [
    "## calculate values of F under a vector x\n",
    "def calcF(F, x):\n",
    "    Fx = []\n",
    "    for f in F:\n",
    "        Fx.append(f.subs([(x1,x[0]),(x2,x[1])]))#,(x3,x[2])],(x4,x[3]),(x5,x[4])]))\n",
    "        \n",
    "    return Fx\n",
    "\n",
    "## define jacobian matrix\n",
    "def J(F):\n",
    "    Jmatrix = []\n",
    "    for f in F:\n",
    "        Jmatrix.append([f.diff(x1), f.diff(x2)])#, f.diff(x3), f.diff(x4), f.diff(x5)])\n",
    "        \n",
    "    return  Jmatrix    \n",
    "\n",
    "\n",
    "## calculate values of J under a vector x\n",
    "def calcJ(J, x):\n",
    "    Jx = []\n",
    "    i = 0\n",
    "    for linha in J:\n",
    "        Jx.append([])\n",
    "        for j in linha:\n",
    "            Jx[i].append(j.subs([(x1,x[0]),(x2,x[1])]))#,(x3,x[2]),(x4,x[3]),(x5,x[4])]))\n",
    "        \n",
    "        i += 1\n",
    "        \n",
    "        \n",
    "    return Jx\n",
    "\n"
   ]
  },
  {
   "attachments": {},
   "cell_type": "markdown",
   "metadata": {},
   "source": [
    "### Método de Newton"
   ]
  },
  {
   "cell_type": "code",
   "execution_count": 67,
   "metadata": {},
   "outputs": [],
   "source": [
    "# define method\n",
    "def methodNewton(n, x, tolerance, maxIterations, F):\n",
    "    output = \"The method failed after \"+str(maxIterations)+\" iterations. The procedure was unsuccessful\"\n",
    "    \n",
    "    k = 1\n",
    "    print(\"Começando com Xo = \", x)\n",
    "    while k <= maxIterations:\n",
    "        Fx = [-x for x in calcF(F,x)]\n",
    "        Jx = calcJ(J(F), x)\n",
    "        y = np.linalg.solve(np.array(Jx, np.float64), np.array(Fx, np.float64))\n",
    "        x = x + y\n",
    "        print(k,\" Iteração x=\", x, end=\" \")\n",
    "        if np.linalg.norm(y, np.inf)  < tolerance:\n",
    "            output = x\n",
    "            print(\"Norma: \", np.linalg.norm(x - (x-y)))\n",
    "            break\n",
    "        else:\n",
    "            print(\"Norma: \", np.linalg.norm(x - (x-y)))\n",
    "            k += 1\n",
    "        \n",
    "    return output"
   ]
  },
  {
   "cell_type": "code",
   "execution_count": 4,
   "metadata": {},
   "outputs": [
    {
     "name": "stdout",
     "output_type": "stream",
     "text": [
      "1 Iteração x= [10 10 10 10 10] Norma:  16.2884636466769\n",
      "1 Iteração x= [-0.51630247 10.55526018  4.71894356  4.93275821 -0.04224179] Norma:  3.593595179098674\n",
      "1 Iteração x= [-0.05295344  9.20862442  2.64226144  2.36913665 -0.00996203] Norma:  2.3657508181359717\n",
      "1 Iteração x= [-0.05308498  7.50923389  1.54214598  1.14496571 -0.01040049] Norma:  14.684851131423077\n",
      "1 Iteração x= [-4.61405374e-02  2.20462709e+01 -4.57854022e-01  5.80150895e-01\n",
      "  8.11802866e-03] "
     ]
    },
    {
     "ename": "LinAlgError",
     "evalue": "Singular matrix",
     "output_type": "error",
     "traceback": [
      "\u001b[1;31m---------------------------------------------------------------------------\u001b[0m",
      "\u001b[1;31mLinAlgError\u001b[0m                               Traceback (most recent call last)",
      "Cell \u001b[1;32mIn[4], line 9\u001b[0m\n\u001b[0;32m      6\u001b[0m tolerance \u001b[39m=\u001b[39m \u001b[39m.0005\u001b[39m \u001b[39m# chosen - arbitrary because there's no real implication to have a specific tolerance defined\u001b[39;00m\n\u001b[0;32m      7\u001b[0m maxIterations \u001b[39m=\u001b[39m \u001b[39m20\u001b[39m \u001b[39m# so it doesnt loop forever in case of failure\u001b[39;00m\n\u001b[1;32m----> 9\u001b[0m methodNewton(n, Xo, tolerance, maxIterations, F)\n",
      "Cell \u001b[1;32mIn[3], line 10\u001b[0m, in \u001b[0;36mmethodNewton\u001b[1;34m(n, x, tolerance, maxIterations, F)\u001b[0m\n\u001b[0;32m      8\u001b[0m Fx \u001b[39m=\u001b[39m [\u001b[39m-\u001b[39mx \u001b[39mfor\u001b[39;00m x \u001b[39min\u001b[39;00m calcF(F,x)]\n\u001b[0;32m      9\u001b[0m Jx \u001b[39m=\u001b[39m calcJ(J(F), x)\n\u001b[1;32m---> 10\u001b[0m y \u001b[39m=\u001b[39m np\u001b[39m.\u001b[39;49mlinalg\u001b[39m.\u001b[39;49msolve(np\u001b[39m.\u001b[39;49marray(Jx, np\u001b[39m.\u001b[39;49mint32), np\u001b[39m.\u001b[39;49marray(Fx, np\u001b[39m.\u001b[39;49mint32))\n\u001b[0;32m     11\u001b[0m x \u001b[39m=\u001b[39m x \u001b[39m+\u001b[39m y\n\u001b[0;32m     12\u001b[0m norma_y \u001b[39m=\u001b[39m np\u001b[39m.\u001b[39mlinalg\u001b[39m.\u001b[39mnorm(y) \n",
      "File \u001b[1;32m<__array_function__ internals>:180\u001b[0m, in \u001b[0;36msolve\u001b[1;34m(*args, **kwargs)\u001b[0m\n",
      "File \u001b[1;32m~\\AppData\\Local\\Packages\\PythonSoftwareFoundation.Python.3.10_qbz5n2kfra8p0\\LocalCache\\local-packages\\Python310\\site-packages\\numpy\\linalg\\linalg.py:400\u001b[0m, in \u001b[0;36msolve\u001b[1;34m(a, b)\u001b[0m\n\u001b[0;32m    398\u001b[0m signature \u001b[39m=\u001b[39m \u001b[39m'\u001b[39m\u001b[39mDD->D\u001b[39m\u001b[39m'\u001b[39m \u001b[39mif\u001b[39;00m isComplexType(t) \u001b[39melse\u001b[39;00m \u001b[39m'\u001b[39m\u001b[39mdd->d\u001b[39m\u001b[39m'\u001b[39m\n\u001b[0;32m    399\u001b[0m extobj \u001b[39m=\u001b[39m get_linalg_error_extobj(_raise_linalgerror_singular)\n\u001b[1;32m--> 400\u001b[0m r \u001b[39m=\u001b[39m gufunc(a, b, signature\u001b[39m=\u001b[39;49msignature, extobj\u001b[39m=\u001b[39;49mextobj)\n\u001b[0;32m    402\u001b[0m \u001b[39mreturn\u001b[39;00m wrap(r\u001b[39m.\u001b[39mastype(result_t, copy\u001b[39m=\u001b[39m\u001b[39mFalse\u001b[39;00m))\n",
      "File \u001b[1;32m~\\AppData\\Local\\Packages\\PythonSoftwareFoundation.Python.3.10_qbz5n2kfra8p0\\LocalCache\\local-packages\\Python310\\site-packages\\numpy\\linalg\\linalg.py:89\u001b[0m, in \u001b[0;36m_raise_linalgerror_singular\u001b[1;34m(err, flag)\u001b[0m\n\u001b[0;32m     88\u001b[0m \u001b[39mdef\u001b[39;00m \u001b[39m_raise_linalgerror_singular\u001b[39m(err, flag):\n\u001b[1;32m---> 89\u001b[0m     \u001b[39mraise\u001b[39;00m LinAlgError(\u001b[39m\"\u001b[39m\u001b[39mSingular matrix\u001b[39m\u001b[39m\"\u001b[39m)\n",
      "\u001b[1;31mLinAlgError\u001b[0m: Singular matrix"
     ]
    }
   ],
   "source": [
    "# solve with Newton's method\n",
    "\n",
    "x = [10, 10, 10, 10, 10]\n",
    "Xo = np.transpose(x) # initial approximation\n",
    "n = 5 # number of equations and unknowns\n",
    "tolerance = .0005 # chosen - arbitrary because there's no real implication to have a specific tolerance defined\n",
    "maxIterations = 20 # so it doesnt loop forever in case of failure\n",
    "\n",
    "methodNewton(n, Xo, tolerance, maxIterations, F)\n"
   ]
  },
  {
   "attachments": {},
   "cell_type": "markdown",
   "metadata": {},
   "source": [
    "### Método de Broyden"
   ]
  },
  {
   "cell_type": "code",
   "execution_count": null,
   "metadata": {},
   "outputs": [],
   "source": [
    "Po = x # initial approximation\n",
    "tolerance = .0005 # arbitrary\n",
    "maxIterations = 100000 # so it doesnt loop forever in case of failure\n",
    "\n",
    "\n",
    "def methodBroyden(n, x, tolerance, maxIterations): # n is the number of equations and unknowns\n",
    "    output = \"The method failed after \"+maxIterations+\" iterations. The procedure was unsuccessful\"\n",
    "    \n",
    "    Ao = J(x)\n",
    "    v = F(x)\n",
    "    A = np.transpose(Ao) #use gaussian elimination\n",
    "    s = -A * v\n",
    "    x = x + s\n",
    "    k = 2\n",
    "    \n",
    "    while k <= maxIterations:\n",
    "        w = v\n",
    "        v = F(x)\n",
    "        y = v - w\n",
    "        z = -A* y\n",
    "        p = -np.transpose(s) * z\n",
    "        ut = np.transpose(np.transpose(s) * A)\n",
    "        A = A + (1/p)*(s+z)*ut\n",
    "        s = -A * v\n",
    "        x = x + s\n",
    "        if np.linalg.norm(s) < tolerance:\n",
    "            output = x\n",
    "            break\n",
    "        \n",
    "        k += 1\n",
    "        \n",
    "    return output\n",
    "             \n",
    "    "
   ]
  },
  {
   "attachments": {},
   "cell_type": "markdown",
   "metadata": {},
   "source": [
    "### Comparação dos resultados"
   ]
  },
  {
   "attachments": {},
   "cell_type": "markdown",
   "metadata": {},
   "source": [
    "## ITEM 2"
   ]
  },
  {
   "attachments": {},
   "cell_type": "markdown",
   "metadata": {},
   "source": [
    "### Método de Newton"
   ]
  },
  {
   "cell_type": "code",
   "execution_count": null,
   "metadata": {},
   "outputs": [],
   "source": [
    "Xo = np.transpose(x) # initial approximation\n",
    "n = 5 # number of equations and unknowns\n",
    "tolerance = .0005 # chosen\n",
    "maxIterations = 100000 # so it doesnt loop forever in case of failure\n",
    "\n",
    "def f(x):\n",
    "    return\n",
    "\n",
    "\n",
    "def methodNewton(p0, p1, tolerance, maxIterations):\n",
    "    output = \"The method failed after \"+maxIterations+\" iterations. The procedure was unsuccessful\"\n",
    "    \n",
    "    i = 1\n",
    "    q0 = f(p0)\n",
    "    q1 = f(p1)\n",
    "    while i <= maxIterations:\n",
    "        p = p1 - q1*((p1-p0)/(q1-q0))\n",
    "       \n",
    "        if tolerance < p - p1 < tolerance:\n",
    "            output = p\n",
    "            break\n",
    "        else:\n",
    "            i += 1\n",
    "            p0 = p1\n",
    "            q0 = q1\n",
    "            p1 = p\n",
    "            q1 = f(p)\n",
    "        \n",
    "    return output"
   ]
  },
  {
   "attachments": {},
   "cell_type": "markdown",
   "metadata": {},
   "source": [
    "### Método de Broyden"
   ]
  },
  {
   "cell_type": "code",
   "execution_count": null,
   "metadata": {},
   "outputs": [],
   "source": [
    "Po = x # initial approximation\n",
    "tolerance = .0005 # arbitrary\n",
    "maxIterations = 100000 # so it doesnt loop forever in case of failure\n",
    "def f(x):\n",
    "    return\n",
    "def df(x):\n",
    "    return\n",
    "def J(x):\n",
    "    result = df(x)\n",
    "    return result\n",
    "def F(x):\n",
    "    return\n",
    "\n",
    "\n",
    "def methodBroyden(n, x, tolerance, maxIterations): # n is the number of equations and unknowns\n",
    "    output = \"The method failed after \"+maxIterations+\" iterations. The procedure was unsuccessful\"\n",
    "    \n",
    "    Ao = J(x)\n",
    "    v = F(x)\n",
    "    A = np.transpose(Ao) #use gaussian elimination\n",
    "    s = -A * v\n",
    "    x = x + s\n",
    "    k = 2\n",
    "    \n",
    "    while k <= maxIterations:\n",
    "        w = v\n",
    "        v = F(x)\n",
    "        y = v - w\n",
    "        z = -A* y\n",
    "        p = -np.transpose(s) * z\n",
    "        ut = np.transpose(np.transpose(s) * A)\n",
    "        A = A + (1/p)*(s+z)*ut\n",
    "        s = -A * v\n",
    "        x = x + s\n",
    "        if np.linalg.norm(s) < tolerance:\n",
    "            output = x\n",
    "            break\n",
    "        \n",
    "        k += 1\n",
    "        \n",
    "    return output\n",
    "          "
   ]
  },
  {
   "attachments": {},
   "cell_type": "markdown",
   "metadata": {},
   "source": [
    "### Comparação dos resultados"
   ]
  },
  {
   "attachments": {},
   "cell_type": "markdown",
   "metadata": {},
   "source": [
    "## ITEM 3"
   ]
  },
  {
   "attachments": {},
   "cell_type": "markdown",
   "metadata": {},
   "source": [
    "#### Bibliografia e referências: \n",
    "\n",
    "R.L. Burden & J.D. Faires, Numerical Analysis, Capítulos 2 e 10"
   ]
  }
 ],
 "metadata": {
  "kernelspec": {
   "display_name": "Python 3",
   "language": "python",
   "name": "python3"
  },
  "language_info": {
   "codemirror_mode": {
    "name": "ipython",
    "version": 3
   },
   "file_extension": ".py",
   "mimetype": "text/x-python",
   "name": "python",
   "nbconvert_exporter": "python",
   "pygments_lexer": "ipython3",
   "version": "3.10.9"
  },
  "orig_nbformat": 4,
  "vscode": {
   "interpreter": {
    "hash": "4abe64b9a8ed922d25f7390c9a03e42a2560957904a8072a31c407963719ee63"
   }
  }
 },
 "nbformat": 4,
 "nbformat_minor": 2
}
