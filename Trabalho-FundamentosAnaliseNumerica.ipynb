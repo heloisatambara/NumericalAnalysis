{
 "cells": [
  {
   "attachments": {},
   "cell_type": "markdown",
   "metadata": {},
   "source": [
    "Importações"
   ]
  },
  {
   "cell_type": "code",
   "execution_count": 2,
   "metadata": {},
   "outputs": [],
   "source": [
    "import time\n",
    "import scipy.linalg as sp\n",
    "import numpy as np\n",
    "import sympy as sym\n",
    "from math import *\n"
   ]
  },
  {
   "attachments": {},
   "cell_type": "markdown",
   "metadata": {},
   "source": [
    "TODO: 3o item\n",
    "      comparacoes/analises\n",
    "      talvez mudar tudo para não usar sympy"
   ]
  },
  {
   "attachments": {},
   "cell_type": "markdown",
   "metadata": {},
   "source": [
    "## ITEM 1"
   ]
  },
  {
   "cell_type": "code",
   "execution_count": 102,
   "metadata": {},
   "outputs": [],
   "source": [
    "# define the functions\n",
    "x1, x2, x3, x4, x5 = sym.symbols('x1 x2 x3 x4 x5')\n",
    "R = [10, .193, 4.10622*10**(-4), 5.45177*10**(-4), 4.4975*10**(-7), 3.40735*10**(-5), 9.615*10**(-7)]\n",
    "\n",
    "## define matrix F\n",
    "f1 = x1*x2 +x1 -3*x5\n",
    "f2 = 2*x1*x2 +x1 +3*R[-1]*(x2**2) +x2*(x3**2) +R[-4]*x2*x3 +R[-2]*x2*x4 +R[-3]*x2 -R[0]*x5\n",
    "f3 = 2*x2*(x3**2) +R[-4]*x2*x3 + 2*R[-6]*(x3**2) +R[-5]*x3 -8*x5\n",
    "f4 = R[-2]*x2*x4 +2*(x4**2) -4*R[0]*x5\n",
    "f5 = x1*x2 +x1 +R[-1]*(x2**2) +x2*(x3**2) +R[-4]*x2*x3 +R[-2]*x2*x4 +R[-3]*x2 +R[-6]*(x3**2) +R[-5]*x3 +(x4**2) -1\n",
    "    \n",
    "F = np.transpose(np.array([f1,f2,f3,f4,f5]))"
   ]
  },
  {
   "cell_type": "code",
   "execution_count": 103,
   "metadata": {},
   "outputs": [],
   "source": [
    "## calculate values of F under a vector x\n",
    "def calcF(F, x):\n",
    "    Fx = []\n",
    "    for f in F:\n",
    "        Fx.append(f.subs([(x1,x[0]),(x2,x[1]),(x3,x[2]),(x4,x[3]),(x5,x[4])]))\n",
    "        \n",
    "    return np.array(Fx)\n",
    "\n",
    "## define jacobian matrix\n",
    "def J(F):\n",
    "    Jmatrix = []\n",
    "    for f in F:\n",
    "        Jmatrix.append([f.diff(x1), f.diff(x2), f.diff(x3), f.diff(x4), f.diff(x5)])\n",
    "        \n",
    "    return np.array(Jmatrix)    \n",
    "\n",
    "\n",
    "## calculate values of J under a vector x\n",
    "def calcJ(J, x):\n",
    "    Jx = []\n",
    "    i = 0\n",
    "    for linha in J:\n",
    "        Jx.append([])\n",
    "        for j in linha:\n",
    "            Jx[i].append(j.subs([(x1,x[0]),(x2,x[1]),(x3,x[2]),(x4,x[3]),(x5,x[4])]))\n",
    "        \n",
    "        i += 1\n",
    "        \n",
    "        \n",
    "    return np.array(Jx)\n",
    "\n",
    "## NOTE: the functions J(), calcJ() and calcF() could've been done in a more general way, such as to be used for any size of linear system\n",
    "## adjusting automatically, but since we're just using this program for specific examples, for simplicity I used one for each example.\n",
    "## Feel free to update it to work in a more general way.\n",
    "\n"
   ]
  },
  {
   "attachments": {},
   "cell_type": "markdown",
   "metadata": {},
   "source": [
    "### Método de Newton"
   ]
  },
  {
   "cell_type": "code",
   "execution_count": 104,
   "metadata": {},
   "outputs": [],
   "source": [
    "# define method\n",
    "def methodNewton(n, x, tolerance, maxIterations, F):\n",
    "    output = \"The method failed after \"+str(maxIterations)+\" iterations. The procedure was unsuccessful\"\n",
    "    \n",
    "    k = 1\n",
    "    print(\"Começando com Xo = \", x)\n",
    "    while k <= maxIterations:\n",
    "        Fx = [-x for x in calcF(F,x)]\n",
    "        Jx = calcJ(J(F), x)\n",
    "        y = np.linalg.solve(np.array(Jx, np.float64), np.array(Fx, np.float64))\n",
    "        x = x + y\n",
    "        print(k,\" Iteração x=\", x, end=\" \")\n",
    "        if np.linalg.norm(y, np.inf)  < tolerance:\n",
    "            output = x\n",
    "            print(\"Norma: \", np.linalg.norm(x - (x-y), 2))\n",
    "            break\n",
    "        else:\n",
    "            print(\"Norma: \", np.linalg.norm(x - (x-y), 2))\n",
    "            k += 1\n",
    "        \n",
    "    return output"
   ]
  },
  {
   "cell_type": "code",
   "execution_count": 105,
   "metadata": {},
   "outputs": [
    {
     "name": "stdout",
     "output_type": "stream",
     "text": [
      "Começando com Xo =  [10 10 10 10 10]\n",
      "1  Iteração x= [0.01065204 9.99922036 5.00102591 5.03641579 0.03645869] Norma:  15.769785630785213\n",
      "2  Iteração x= [ 0.01001153 10.01012371  2.49920776  2.59112275  0.03674507] Norma:  3.498381268945265\n",
      "3  Iteração x= [9.98373148e-03 1.00839478e+01 1.24338306e+00 1.43787284e+00\n",
      " 3.68870704e-02] Norma:  1.7066139146402113\n",
      "4  Iteração x= [9.68920699e-03 1.04317749e+01 6.06359646e-01 9.75892034e-01\n",
      " 3.69557589e-02] Norma:  0.8603539169025427\n",
      "5  Iteração x= [8.50591251e-03 1.18477258e+01 2.74174277e-01 8.66848855e-01\n",
      " 3.69857062e-02] Norma:  1.4584772627650562\n",
      "6  Iteração x= [5.41646124e-03 1.67133282e+01 1.03992448e-01 8.60022364e-01\n",
      " 3.69918658e-02] Norma:  4.868583458334746\n",
      "7  Iteração x= [2.92103470e-03 2.76408171e+01 6.02819450e-02 8.59724155e-01\n",
      " 3.69765221e-02] Norma:  10.927576589262472\n",
      "8  Iteração x= [3.45584277e-03 3.17170310e+01 6.96040198e-02 8.59516377e-01\n",
      " 3.69616409e-02] Norma:  4.07622454194743\n",
      "9  Iteração x= [3.43022114e-03 3.13294698e+01 6.83736167e-02 8.59528882e-01\n",
      " 3.69624337e-02] Norma:  0.3875630774484792\n",
      "10  Iteração x= [3.43023014e-03 3.13264969e+01 6.83504073e-02 8.59528996e-01\n",
      " 3.69624414e-02] Norma:  0.0029729769433587305\n",
      "11  Iteração x= [3.43023016e-03 3.13264968e+01 6.83504014e-02 8.59528996e-01\n",
      " 3.69624414e-02] Norma:  1.4066966110043846e-07\n",
      "[3.43023016e-03 3.13264968e+01 6.83504014e-02 8.59528996e-01\n",
      " 3.69624414e-02]\n",
      "Tempo para calcular: 1.7034149169921875 segundos\n"
     ]
    }
   ],
   "source": [
    "# solve with Newton's method\n",
    "\n",
    "x = [10, 10, 10, 10, 10]\n",
    "Xo = np.transpose(x) # initial approximation\n",
    "n = 5 # number of equations and unknowns\n",
    "tolerance = 10**(-5) # chosen - arbitrary because there's no real implication to have a specific tolerance defined\n",
    "maxIterations = 20 # so it doesnt loop forever in case of failure\n",
    "\n",
    "t0 = time.time() # measure time it takes to calculate\n",
    "print(methodNewton(n, Xo, tolerance, maxIterations, F))\n",
    "t1 = time.time() - t0\n",
    "print(f\"Tempo para calcular: {t1} segundos\")\n"
   ]
  },
  {
   "attachments": {},
   "cell_type": "markdown",
   "metadata": {},
   "source": [
    "### Método de Broyden"
   ]
  },
  {
   "cell_type": "code",
   "execution_count": 106,
   "metadata": {},
   "outputs": [],
   "source": [
    "# define method\n",
    "def methodBroyden(n, x, tolerance, maxIterations, F): # n is the number of equations and unknowns\n",
    "    output = \"The method failed after \"+str(maxIterations)+\" iterations. The procedure was unsuccessful\"\n",
    "    print(\"Começando com Xo = \", x)\n",
    "    Ao = calcJ(J(F), x)\n",
    "    v = calcF(F, x)\n",
    "    A = np.linalg.inv(np.array(Ao, dtype=np.float64))\n",
    "    s = np.dot(-A,v)\n",
    "    x = x + s\n",
    "    k = 2\n",
    "    \n",
    "    print(\"X1 = \", x)\n",
    "    while k <= maxIterations:\n",
    "        w = v\n",
    "        v = calcF(F, x)\n",
    "        y = v - w\n",
    "        z = -np.dot(A,y)\n",
    "        p = np.dot(-np.transpose(s),z)\n",
    "        ut = np.dot(np.transpose(s),A)\n",
    "        A = A + (np.outer((s+z),ut))/p\n",
    "        s = -np.dot(A,v)\n",
    "        x = x + s\n",
    "        print(k,\" Iteração x=\", x, end=\" \")\n",
    "        if np.linalg.norm(np.array(s, np.float64), 2) < tolerance:\n",
    "            print(\"Norma: \", sp.norm(np.array(x - (x-y),dtype=np.float64), 2))\n",
    "            output = x\n",
    "            break\n",
    "        print(\"Norma: \", sp.norm(np.array(x - (x-y),dtype=np.float64), 2))\n",
    "        k += 1\n",
    "        \n",
    "    return output\n",
    "             \n",
    "    "
   ]
  },
  {
   "cell_type": "code",
   "execution_count": 108,
   "metadata": {},
   "outputs": [
    {
     "name": "stdout",
     "output_type": "stream",
     "text": [
      "Começando com Xo =  [ 1 30  1  1  1]\n",
      "X1 =  [0.00606465637549924 29.9224936866024 0.503653761479361 0.868105595566895\n",
      " 0.0368326780809132]\n",
      "2  Iteração x= [0.00508894473219099 29.8733912939840 0.376429180191370 0.859534236017904\n",
      " 0.0368725659704363] Norma:  109.04634624620046\n",
      "3  Iteração x= [0.00403355871612505 29.7966483862168 0.216595784546808 0.857642380131586\n",
      " 0.0369222799403499] Norma:  8.314918711098795\n",
      "4  Iteração x= [0.00361578324136782 29.7624149031520 0.146038362157734 0.858973009543936\n",
      " 0.0369439554645721] Norma:  7.028350430491454\n",
      "5  Iteração x= [0.00340313999509602 29.7531637094191 0.111660869281349 0.859458953344956\n",
      " 0.0369544577230729] Norma:  1.896447767762025\n",
      "6  Iteração x= [0.00334704384466043 29.7597331342939 0.102721450283580 0.859477681056703\n",
      " 0.0369571559860851] Norma:  0.6584095262238857\n",
      "7  Iteração x= [0.00333479970475373 29.7795042301823 0.100196401975186 0.859455111917542\n",
      " 0.0369578560229294] Norma:  0.14261518561960956\n",
      "8  Iteração x= [0.00334727941442896 29.9593084230128 0.0958423093721135 0.859427039167296\n",
      " 0.0369585441151367] Norma:  0.03753408177120059\n",
      "9  Iteração x= [0.00343333424611190 30.9074695321892 0.0765629495399996 0.859476719314660\n",
      " 0.0369610770360418] Norma:  0.05750140113798288\n",
      "10  Iteração x= [0.00343491755226957 31.2573838969243 0.0696744065017766 0.859521605386446\n",
      " 0.0369621796844887] Norma:  0.2251149798652638\n",
      "11  Iteração x= [0.00343025033385299 31.3214438319016 0.0684390192631095 0.859528930687624\n",
      " 0.0369624262803091] Norma:  0.07113243685214095\n",
      "12  Iteração x= [0.00343019638322553 31.3258793703354 0.0683625603287217 0.859529029547268\n",
      " 0.0369624396694134] Norma:  0.012331355542667862\n",
      "13  Iteração x= [0.00343023938028949 31.3266071902527 0.0683484560476086 0.859529007906421\n",
      " 0.0369624416185851] Norma:  0.0007413563764376256\n",
      "14  Iteração x= [0.00343023100434836 31.3265099150411 0.0683501454112854 0.859528999080717\n",
      " 0.0369624414279244] Norma:  0.00013621269985740267\n",
      "15  Iteração x= [0.00343023000969706 31.3264947150470 0.0683504409124602 0.859528996552958\n",
      " 0.0369624413880418] Norma:  1.6041446834008614e-05\n",
      "16  Iteração x= [0.00343023015079796 31.3264967452175 0.0683504024059817 0.859528996530754\n",
      " 0.0369624413930628] Norma:  2.8490943165161714e-06\n",
      "[0.00343023015079796 31.3264967452175 0.0683504024059817 0.859528996530754\n",
      " 0.0369624413930628]\n",
      "Tempo para calcular: 0.9314017295837402 segundos\n"
     ]
    }
   ],
   "source": [
    "# solve with Broyden's method\n",
    "\n",
    "x = [10, 10, 10, 10, 10] # para [1, 30, 1, 1, 1] converge na 16!!\n",
    "Xo = np.transpose(np.array(x)) # initial approximation\n",
    "n = 5 # number of equations and unknowns\n",
    "tolerance = 10**(-5) # chosen - arbitrary because there's no real implication to have a specific tolerance defined\n",
    "maxIterations = 50 # so it doesnt loop forever in case of failure\n",
    "\n",
    "t0 = time.time() # measure time it takes to calculate\n",
    "print(methodBroyden(n, Xo, tolerance, maxIterations, F))\n",
    "t1 = time.time() - t0\n",
    "print(f\"Tempo para calcular: {t1} segundos\")"
   ]
  },
  {
   "attachments": {},
   "cell_type": "markdown",
   "metadata": {},
   "source": [
    "### Comparação dos resultados"
   ]
  },
  {
   "attachments": {},
   "cell_type": "markdown",
   "metadata": {},
   "source": [
    "Ambos os métodos são feitos para inicair de um ponto que já tenha uma aproximação relativamente boa. O método de Newton apresentou uma boa convergência, enquanto o de Broyden não convergiu. De fato, é possível perceber que em outras implementações do método de Broyden, com o ponto inicial dado para as funções dadas, a função não converge."
   ]
  },
  {
   "attachments": {},
   "cell_type": "markdown",
   "metadata": {},
   "source": [
    "## ITEM 2"
   ]
  },
  {
   "cell_type": "code",
   "execution_count": 110,
   "metadata": {},
   "outputs": [],
   "source": [
    "# define the functions\n",
    "x1, x2, x3, x4, x5 = sym.symbols('x1 x2 x3 x4 x5')\n",
    "R = [10, .193, 4.10622*10**(-4), 5.45177*10**(-4), 4.4975*10**(-7), 3.40735*10**(-5), 9.615*10**(-7)]\n",
    "\n",
    "## define matrix F\n",
    "def f1(x):\n",
    "    return (x[0]*x[1]) + x[0] -(3*x[4])\n",
    "\n",
    "def f2(x):\n",
    "    global R\n",
    "    return 2*x[0]*x[1] +x[0] +3*R[-1]*(x[1]**2) +x[1]*(x[2]**2) +R[-4]*x[1]*x[2] +R[-2]*x[1]*x[3] +R[-3]*x[1] -R[0]*x[4]\n",
    "\n",
    "def f3(x):\n",
    "    global R\n",
    "    return 2*x[1]*(x[2]**2) +R[-4]*x[1]*x[2] + 2*R[-6]*(x[2]**2) +R[-5]*x[2] -8*x[4]\n",
    "\n",
    "def f4(x):\n",
    "    global R\n",
    "    return R[-2]*x[1]*x[3] +2*(x[3]**2) -4*R[0]*x[4]\n",
    "\n",
    "def f5(x):\n",
    "    global R\n",
    "    return x[0]*x[1] + x[0] +R[-1]*(x[1]**2) + x[1]*(x[2]**2) +R[-4]*x[1]*x[2] +R[-2]*x[1]*x[3] +R[-3]*x[1] +R[-6]*(x[2]**2) +R[-5]*x[2] +(x[3]**2) -1\n",
    "\n",
    "Fmatrix = [f1, f2, f3, f4, f5]\n",
    "    \n",
    "def F(x):\n",
    "    return np.transpose(np.array([f1(x),f2(x),f3(x),f4(x),f5(x)], np.float64))\n"
   ]
  },
  {
   "cell_type": "code",
   "execution_count": 111,
   "metadata": {},
   "outputs": [],
   "source": [
    "# parcial derivatives by finite differences - FIRST ORDER\n",
    "def df1(f, h, x, k): # function, step, x vector, k direction of derivative\n",
    "    # create step in k direction\n",
    "    x0 = np.array(x, np.float64)\n",
    "    x1 = np.array(x, np.float64)\n",
    "    x1[k] += h\n",
    "     \n",
    "    df_xk = (f(x1) - f(x0))/h\n",
    "    \n",
    "    return df_xk\n",
    "\n",
    "\n",
    "# parcial derivatives by finite differences - SECOND ORDER\n",
    "def df2(f, h, x, k): # function, step, x vector, k direction of derivative\n",
    "    # create step in k direction\n",
    "    x0 = np.array(x, np.float64)\n",
    "    x1 = np.array(x, np.float64)\n",
    "    x0[k] -= h\n",
    "    x1[k] += h\n",
    "     \n",
    "    df_xk = (f(x1) - f(x0))/(2*h)\n",
    "    \n",
    "    return df_xk\n",
    "\n",
    "\n",
    "## define jacobian matrix\n",
    "def J(Fmatrix, x, order):\n",
    "    h = .01\n",
    "    Jmatrix = []\n",
    "    \n",
    "    if order == 1:\n",
    "        for f in Fmatrix:\n",
    "            Jmatrix.append([df1(f, h, x, 0), df1(f, h, x, 1), df1(f, h, x, 2), df1(f, h, x, 3), df1(f, h, x, 4)])\n",
    "    elif order == 2:\n",
    "        for f in Fmatrix:\n",
    "            Jmatrix.append([df2(f, h, x, 0), df2(f, h, x, 1), df2(f, h, x, 2), df2(f, h, x, 3), df2(f, h, x, 4)])\n",
    "        \n",
    "        \n",
    "    return np.array(Jmatrix, np.float64)    \n",
    "\n",
    "\n",
    "\n",
    "## NOTE: the functions J(), calcJ() and calcF() could've been done in a more general way, such as to be used for any size of linear system\n",
    "## adjusting automatically, but since we're just using this program for specific examples, for simplicity I used one for each example.\n",
    "## Feel free to update it to work in a more general way.\n",
    "\n",
    "\n"
   ]
  },
  {
   "attachments": {},
   "cell_type": "markdown",
   "metadata": {},
   "source": [
    "### Método de Newton"
   ]
  },
  {
   "cell_type": "code",
   "execution_count": 112,
   "metadata": {},
   "outputs": [],
   "source": [
    "# define method\n",
    "def methodNewton(n, x, tolerance, maxIterations, F, Fmatrix):\n",
    "    output = \"The method failed after \"+str(maxIterations)+\" iterations. The procedure was unsuccessful\"\n",
    "    \n",
    "    k = 1\n",
    "    print(\"Começando com Xo = \", x)\n",
    "    while k <= maxIterations:\n",
    "        Jx = J(Fmatrix, x, 1)\n",
    "        y = np.linalg.solve(np.array(Jx, np.float64), np.array(-F(x), np.float64))\n",
    "        x = x + y\n",
    "        print(k,\" Iteração x=\", x, end=\" \")\n",
    "        if np.linalg.norm(y, np.inf)  < tolerance:\n",
    "            output = x\n",
    "            print(\"Norma: \", np.linalg.norm(x - (x-y), 2))\n",
    "            break\n",
    "        else:\n",
    "            print(\"Norma: \", np.linalg.norm(x - (x-y), 2))\n",
    "            k += 1\n",
    "        \n",
    "    return output"
   ]
  },
  {
   "cell_type": "code",
   "execution_count": 113,
   "metadata": {},
   "outputs": [
    {
     "name": "stdout",
     "output_type": "stream",
     "text": [
      "Começando com Xo =  [10 10 10 10 10]\n",
      "1  Iteração x= [0.01065436 9.99921773 5.0035254  5.03889604 0.0364584 ] Norma:  15.768211667204358\n",
      "2  Iteração x= [ 0.01001145 10.01008704  2.50296252  2.59475134  0.03674464] Norma:  3.496680801986159\n",
      "3  Iteração x= [9.98392590e-03 1.00835857e+01 1.24778960e+00 1.44170796e+00\n",
      " 3.68865739e-02] Norma:  1.7059807076471545\n",
      "4  Iteração x= [9.69190112e-03 1.04286103e+01 6.11188085e-01 9.78727969e-01\n",
      " 3.69552388e-02] Norma:  0.8594498166837541\n",
      "5  Iteração x= [8.52579206e-03 1.18233469e+01 2.79490585e-01 8.67730905e-01\n",
      " 3.69852015e-02] Norma:  1.437927432201653\n",
      "6  Iteração x= [5.50011558e-03 1.65671346e+01 1.09536521e-01 8.60070632e-01\n",
      " 3.69914792e-02] Norma:  4.746838284734169\n",
      "7  Iteração x= [2.98071788e-03 2.72155964e+01 6.22466538e-02 8.59733148e-01\n",
      " 3.69768143e-02] Norma:  10.648567126855296\n",
      "8  Iteração x= [3.45110977e-03 3.17482566e+01 6.86179925e-02 8.59520369e-01\n",
      " 3.69619006e-02] Norma:  4.532664680065862\n",
      "9  Iteração x= [3.43028257e-03 3.13285458e+01 6.83702534e-02 8.59528859e-01\n",
      " 3.69624353e-02] Norma:  0.41971088404838935\n",
      "10  Iteração x= [3.43023349e-03 3.13264651e+01 6.83517874e-02 8.59528992e-01\n",
      " 3.69624411e-02] Norma:  0.002080781095382661\n",
      "11  Iteração x= [3.43023039e-03 3.13264946e+01 6.83504979e-02 8.59528996e-01\n",
      " 3.69624414e-02] Norma:  2.950160754635881e-05\n",
      "12  Iteração x= [3.43023017e-03 3.13264967e+01 6.83504081e-02 8.59528996e-01\n",
      " 3.69624414e-02] Norma:  2.0808030480225464e-06\n",
      "Tempo para calcular: 0.012725591659545898 segundos\n"
     ]
    }
   ],
   "source": [
    "# solve with Newton's method\n",
    "\n",
    "x = [10, 10, 10, 10, 10]\n",
    "Xo = np.transpose(x) # initial approximation\n",
    "n = 5 # number of equations and unknowns\n",
    "tolerance = 10**(-5) # chosen - arbitrary because there's no real implication to have a specific tolerance defined\n",
    "maxIterations = 20 # so it doesnt loop forever in case of failure\n",
    "\n",
    "t0 = time.time() # measure time it takes to calculate\n",
    "methodNewton(n, Xo, tolerance, maxIterations, F, Fmatrix)\n",
    "t1 = time.time() - t0\n",
    "print(f\"Tempo para calcular: {t1} segundos\")"
   ]
  },
  {
   "attachments": {},
   "cell_type": "markdown",
   "metadata": {},
   "source": [
    "### Método de Broyden"
   ]
  },
  {
   "cell_type": "code",
   "execution_count": 114,
   "metadata": {},
   "outputs": [],
   "source": [
    "# define method\n",
    "def methodBroyden(n, x, tolerance, maxIterations, F, Fmatrix): # n is the number of equations and unknowns\n",
    "    output = \"The method failed after \"+str(maxIterations)+\" iterations. The procedure was unsuccessful\"\n",
    "    print(\"Começando com Xo = \", x)\n",
    "    Ao = J(Fmatrix, x, 2)\n",
    "    v = F(x)\n",
    "    A = np.linalg.inv(np.array(Ao, dtype=np.float64))\n",
    "    s = np.dot(-A,v)\n",
    "    x = x + s\n",
    "    k = 2\n",
    "    \n",
    "    print(\"X1 = \", x)\n",
    "    while k <= maxIterations:\n",
    "        w = v\n",
    "        v = F(x)\n",
    "        y = v - w\n",
    "        z = -np.dot(A,y)\n",
    "        p = np.dot(-np.transpose(s),z)\n",
    "        ut = np.dot(np.transpose(s),A)\n",
    "        A = A + (np.outer((s+z),ut))/p\n",
    "        s = -np.dot(A,v)\n",
    "        x = x + s\n",
    "        print(k,\" Iteração x=\", x, end=\" \")\n",
    "        if np.linalg.norm(np.array(s, np.float64), 2) < tolerance:\n",
    "            print(\"Norma: \", sp.norm(np.array(x - (x-y),dtype=np.float64), 2))\n",
    "            output = x\n",
    "            break\n",
    "        print(\"Norma: \", sp.norm(np.array(x - (x-y),dtype=np.float64), 2))\n",
    "        k += 1\n",
    "        \n",
    "    return output\n",
    "             \n",
    "    "
   ]
  },
  {
   "cell_type": "code",
   "execution_count": 115,
   "metadata": {},
   "outputs": [
    {
     "name": "stdout",
     "output_type": "stream",
     "text": [
      "Começando com Xo =  [ 1 30  1  1  1]\n",
      "X1 =  [6.06465638e-03 2.99224937e+01 5.03653761e-01 8.68105596e-01\n",
      " 3.68326781e-02]\n",
      "2  Iteração x= [5.08894473e-03 2.98733913e+01 3.76429180e-01 8.59534236e-01\n",
      " 3.68725660e-02] Norma:  109.04634624621768\n",
      "3  Iteração x= [4.03355872e-03 2.97966484e+01 2.16595785e-01 8.57642380e-01\n",
      " 3.69222799e-02] Norma:  8.314918711087211\n",
      "4  Iteração x= [3.61578324e-03 2.97624149e+01 1.46038362e-01 8.58973010e-01\n",
      " 3.69439555e-02] Norma:  7.028350430489603\n",
      "5  Iteração x= [3.40314000e-03 2.97531637e+01 1.11660869e-01 8.59458953e-01\n",
      " 3.69544577e-02] Norma:  1.8964477677645566\n",
      "6  Iteração x= [3.34704384e-03 2.97597331e+01 1.02721450e-01 8.59477681e-01\n",
      " 3.69571560e-02] Norma:  0.658409526226906\n",
      "7  Iteração x= [3.33479970e-03 2.97795042e+01 1.00196402e-01 8.59455112e-01\n",
      " 3.69578560e-02] Norma:  0.14261518562132572\n",
      "8  Iteração x= [3.34727941e-03 2.99593084e+01 9.58423094e-02 8.59427039e-01\n",
      " 3.69585441e-02] Norma:  0.037534081770690106\n",
      "9  Iteração x= [3.43333425e-03 3.09074695e+01 7.65629495e-02 8.59476719e-01\n",
      " 3.69610770e-02] Norma:  0.05750140113671469\n",
      "10  Iteração x= [3.43491755e-03 3.12573839e+01 6.96744065e-02 8.59521605e-01\n",
      " 3.69621797e-02] Norma:  0.22511497985208784\n",
      "11  Iteração x= [3.43025033e-03 3.13214438e+01 6.84390193e-02 8.59528931e-01\n",
      " 3.69624263e-02] Norma:  0.07113243686082242\n",
      "12  Iteração x= [3.43019638e-03 3.13258794e+01 6.83625603e-02 8.59529030e-01\n",
      " 3.69624397e-02] Norma:  0.012331355542936526\n",
      "13  Iteração x= [3.43023938e-03 3.13266072e+01 6.83484560e-02 8.59529008e-01\n",
      " 3.69624416e-02] Norma:  0.0007413563762354657\n",
      "14  Iteração x= [3.43023100e-03 3.13265099e+01 6.83501454e-02 8.59528999e-01\n",
      " 3.69624414e-02] Norma:  0.0001362127000352854\n",
      "15  Iteração x= [3.43023001e-03 3.13264947e+01 6.83504409e-02 8.59528997e-01\n",
      " 3.69624414e-02] Norma:  1.604144685744828e-05\n",
      "16  Iteração x= [3.43023015e-03 3.13264967e+01 6.83504024e-02 8.59528997e-01\n",
      " 3.69624414e-02] Norma:  2.8490943919397746e-06\n",
      "Tempo para calcular: 0.006363868713378906 segundos\n"
     ]
    }
   ],
   "source": [
    "# solve with Broyden's method\n",
    "\n",
    "x = [10, 10, 10, 10, 10] # também convergiu em 16 iterações na [1, 30, 1, 1, 1]\n",
    "Xo = np.transpose(x) # initial approximation\n",
    "n = 5 # number of equations and unknowns\n",
    "tolerance = 10**(-5) # chosen - arbitrary because there's no real implication to have a specific tolerance defined\n",
    "maxIterations = 20 # so it doesnt loop forever in case of failure\n",
    "\n",
    "t0 = time.time() # measure time it takes to calculate\n",
    "methodBroyden(n, Xo, tolerance, maxIterations, F, Fmatrix)\n",
    "t1 = time.time() - t0\n",
    "print(f\"Tempo para calcular: {t1} segundos\")"
   ]
  },
  {
   "attachments": {},
   "cell_type": "markdown",
   "metadata": {},
   "source": [
    "### Comparação dos resultados"
   ]
  },
  {
   "attachments": {},
   "cell_type": "markdown",
   "metadata": {},
   "source": [
    "comparar normas"
   ]
  },
  {
   "attachments": {},
   "cell_type": "markdown",
   "metadata": {},
   "source": [
    "## ITEM 3"
   ]
  },
  {
   "attachments": {},
   "cell_type": "markdown",
   "metadata": {},
   "source": [
    "#### Bibliografia e referências: \n",
    "\n",
    "R.L. Burden & J.D. Faires, Numerical Analysis, Capítulos 2 e 10"
   ]
  }
 ],
 "metadata": {
  "kernelspec": {
   "display_name": "Python 3",
   "language": "python",
   "name": "python3"
  },
  "language_info": {
   "codemirror_mode": {
    "name": "ipython",
    "version": 3
   },
   "file_extension": ".py",
   "mimetype": "text/x-python",
   "name": "python",
   "nbconvert_exporter": "python",
   "pygments_lexer": "ipython3",
   "version": "3.10.9"
  },
  "orig_nbformat": 4,
  "vscode": {
   "interpreter": {
    "hash": "4abe64b9a8ed922d25f7390c9a03e42a2560957904a8072a31c407963719ee63"
   }
  }
 },
 "nbformat": 4,
 "nbformat_minor": 2
}
