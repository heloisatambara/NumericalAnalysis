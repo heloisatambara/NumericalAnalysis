{
 "cells": [
  {
   "attachments": {},
   "cell_type": "markdown",
   "metadata": {},
   "source": [
    "Importações"
   ]
  },
  {
   "cell_type": "code",
   "execution_count": 2,
   "metadata": {},
   "outputs": [],
   "source": [
    "import time\n",
    "import scipy.linalg as sp\n",
    "import numpy as np\n",
    "import sympy as sym"
   ]
  },
  {
   "attachments": {},
   "cell_type": "markdown",
   "metadata": {},
   "source": [
    "## ITEM 1"
   ]
  },
  {
   "cell_type": "code",
   "execution_count": null,
   "metadata": {},
   "outputs": [],
   "source": [
    "x = [10, 10, 10, 10, 10]"
   ]
  },
  {
   "cell_type": "code",
   "execution_count": 3,
   "metadata": {},
   "outputs": [
    {
     "data": {
      "text/latex": [
       "$\\displaystyle 2$"
      ],
      "text/plain": [
       "2"
      ]
     },
     "execution_count": 3,
     "metadata": {},
     "output_type": "execute_result"
    }
   ],
   "source": [
    "# Test cell\n",
    "a=[1, 2, 3, 4, 5]\n",
    "a[-3]\n",
    "x1, x2, x3, x4, x5 = sym.symbols('x1 x2 x3 x4 x5')\n",
    "f = x1**2 + x2\n",
    "f.diff(x1).subs(x1, 1)"
   ]
  },
  {
   "cell_type": "code",
   "execution_count": null,
   "metadata": {},
   "outputs": [],
   "source": [
    "Xo = np.transpose(x) # initial approximation\n",
    "n = 5 # number of equations and unknowns\n",
    "tolerance = .0005 # chosen\n",
    "maxIterations = 100000 # so it doesnt loop forever in case of failure\n",
    "def F(x):\n",
    "    x1, x2, x3, x4, x5 = sym.symbols('x1 x2 x3 x4 x5')\n",
    "    R = [10, .193, 4.10622*10**(-4), 5.45177*10**(-4), 4.4975*10**(-7), 3.40735*10**(-5), 9.615*10**(-7)]\n",
    "    f1 = x1*x2 +x1 -3*x5\n",
    "    f2 = 2*x1*x2 +x1 +3*R[-1]*(x2**2) +x2*(x3**2) +R[-4]*x2*x3 +R[-2]*x2*x4 +R[-3]*x2 -R[0]*x5\n",
    "    f3 = 2*x2*(x3**2) +R[-4]*x2*x3 + 2*R[-6]*(x3**2) +R[-5]*x3 -8*x5\n",
    "    f4 = R[-2]*x2*x4 +2*(x4**2) -4*R[0]*x5\n",
    "    f5 = x1*x2 +x1 +R[-1]*(x2**2) +x2*(x3**2) +R[-4]*x2*x3 +R[-2]*x2*x4 +R[-3]*x2 +R[-6]*(x3**2) +R[-5]*x3 +(x4**2) -1\n",
    "    return [f1,f2,f3,f4,f5]\n",
    "\n",
    "def J(x):\n",
    "    return"
   ]
  },
  {
   "attachments": {},
   "cell_type": "markdown",
   "metadata": {},
   "source": [
    "### Método de Newton"
   ]
  },
  {
   "cell_type": "code",
   "execution_count": null,
   "metadata": {},
   "outputs": [],
   "source": [
    "def methodNewton(n, Xo, tolerance, maxIterations):\n",
    "    output = \"The method failed after \"+maxIterations+\" iterations. The procedure was unsuccessful\"\n",
    "    \n",
    "    k = 1\n",
    "    while k <= maxIterations:\n",
    "        FXo = -F(Xo)\n",
    "        JXo = J(Xo)\n",
    "        y = np.linalg.solve(JXo, FXo)\n",
    "        x = x + y\n",
    "        if np.linalg.norm(y) < tolerance:\n",
    "            output = x\n",
    "            break\n",
    "        else:\n",
    "            k += 1\n",
    "        \n",
    "    return output"
   ]
  },
  {
   "attachments": {},
   "cell_type": "markdown",
   "metadata": {},
   "source": [
    "### Método de Broyden"
   ]
  },
  {
   "cell_type": "code",
   "execution_count": null,
   "metadata": {},
   "outputs": [],
   "source": [
    "Po = x # initial approximation\n",
    "tolerance = .0005 # arbitrary\n",
    "maxIterations = 100000 # so it doesnt loop forever in case of failure\n",
    "def f(x):\n",
    "    return\n",
    "def df(x):\n",
    "    return\n",
    "def J(x):\n",
    "    result = df(x)\n",
    "    return result\n",
    "def F(x):\n",
    "    return\n",
    "\n",
    "\n",
    "def methodBroyden(n, x, tolerance, maxIterations): # n is the number of equations and unknowns\n",
    "    output = \"The method failed after \"+maxIterations+\" iterations. The procedure was unsuccessful\"\n",
    "    \n",
    "    Ao = J(x)\n",
    "    v = F(x)\n",
    "    A = np.transpose(Ao) #use gaussian elimination\n",
    "    s = -A * v\n",
    "    x = x + s\n",
    "    k = 2\n",
    "    \n",
    "    while k <= maxIterations:\n",
    "        w = v\n",
    "        v = F(x)\n",
    "        y = v - w\n",
    "        z = -A* y\n",
    "        p = -np.transpose(s) * z\n",
    "        ut = np.transpose(np.transpose(s) * A)\n",
    "        A = A + (1/p)*(s+z)*ut\n",
    "        s = -A * v\n",
    "        x = x + s\n",
    "        if np.linalg.norm(s) < tolerance:\n",
    "            output = x\n",
    "            break\n",
    "        \n",
    "        k += 1\n",
    "        \n",
    "    return output\n",
    "             \n",
    "    "
   ]
  },
  {
   "attachments": {},
   "cell_type": "markdown",
   "metadata": {},
   "source": [
    "### Comparação dos resultados"
   ]
  },
  {
   "attachments": {},
   "cell_type": "markdown",
   "metadata": {},
   "source": [
    "## ITEM 2"
   ]
  },
  {
   "attachments": {},
   "cell_type": "markdown",
   "metadata": {},
   "source": [
    "### Método de Newton"
   ]
  },
  {
   "cell_type": "code",
   "execution_count": null,
   "metadata": {},
   "outputs": [],
   "source": [
    "Xo = np.transpose(x) # initial approximation\n",
    "n = 5 # number of equations and unknowns\n",
    "tolerance = .0005 # chosen\n",
    "maxIterations = 100000 # so it doesnt loop forever in case of failure\n",
    "\n",
    "def f(x):\n",
    "    return\n",
    "\n",
    "\n",
    "def methodNewton(p0, p1, tolerance, maxIterations):\n",
    "    output = \"The method failed after \"+maxIterations+\" iterations. The procedure was unsuccessful\"\n",
    "    \n",
    "    i = 1\n",
    "    q0 = f(p0)\n",
    "    q1 = f(p1)\n",
    "    while i <= maxIterations:\n",
    "        p = p1 - q1*((p1-p0)/(q1-q0))\n",
    "       \n",
    "        if tolerance < p - p1 < tolerance:\n",
    "            output = p\n",
    "            break\n",
    "        else:\n",
    "            i += 1\n",
    "            p0 = p1\n",
    "            q0 = q1\n",
    "            p1 = p\n",
    "            q1 = f(p)\n",
    "        \n",
    "    return output"
   ]
  },
  {
   "attachments": {},
   "cell_type": "markdown",
   "metadata": {},
   "source": [
    "### Método de Broyden"
   ]
  },
  {
   "cell_type": "code",
   "execution_count": null,
   "metadata": {},
   "outputs": [],
   "source": [
    "Po = x # initial approximation\n",
    "tolerance = .0005 # arbitrary\n",
    "maxIterations = 100000 # so it doesnt loop forever in case of failure\n",
    "def f(x):\n",
    "    return\n",
    "def df(x):\n",
    "    return\n",
    "def J(x):\n",
    "    result = df(x)\n",
    "    return result\n",
    "def F(x):\n",
    "    return\n",
    "\n",
    "\n",
    "def methodBroyden(n, x, tolerance, maxIterations): # n is the number of equations and unknowns\n",
    "    output = \"The method failed after \"+maxIterations+\" iterations. The procedure was unsuccessful\"\n",
    "    \n",
    "    Ao = J(x)\n",
    "    v = F(x)\n",
    "    A = np.transpose(Ao) #use gaussian elimination\n",
    "    s = -A * v\n",
    "    x = x + s\n",
    "    k = 2\n",
    "    \n",
    "    while k <= maxIterations:\n",
    "        w = v\n",
    "        v = F(x)\n",
    "        y = v - w\n",
    "        z = -A* y\n",
    "        p = -np.transpose(s) * z\n",
    "        ut = np.transpose(np.transpose(s) * A)\n",
    "        A = A + (1/p)*(s+z)*ut\n",
    "        s = -A * v\n",
    "        x = x + s\n",
    "        if np.linalg.norm(s) < tolerance:\n",
    "            output = x\n",
    "            break\n",
    "        \n",
    "        k += 1\n",
    "        \n",
    "    return output\n",
    "          "
   ]
  },
  {
   "attachments": {},
   "cell_type": "markdown",
   "metadata": {},
   "source": [
    "### Comparação dos resultados"
   ]
  },
  {
   "attachments": {},
   "cell_type": "markdown",
   "metadata": {},
   "source": [
    "## ITEM 3"
   ]
  },
  {
   "attachments": {},
   "cell_type": "markdown",
   "metadata": {},
   "source": [
    "#### Bibliografia e referências: \n",
    "\n",
    "R.L. Burden & J.D. Faires, Numerical Analysis, Capítulos 2 e 10"
   ]
  }
 ],
 "metadata": {
  "kernelspec": {
   "display_name": "Python 3",
   "language": "python",
   "name": "python3"
  },
  "language_info": {
   "codemirror_mode": {
    "name": "ipython",
    "version": 3
   },
   "file_extension": ".py",
   "mimetype": "text/x-python",
   "name": "python",
   "nbconvert_exporter": "python",
   "pygments_lexer": "ipython3",
   "version": "3.10.9"
  },
  "orig_nbformat": 4,
  "vscode": {
   "interpreter": {
    "hash": "4abe64b9a8ed922d25f7390c9a03e42a2560957904a8072a31c407963719ee63"
   }
  }
 },
 "nbformat": 4,
 "nbformat_minor": 2
}
