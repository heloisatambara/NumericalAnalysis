{
 "cells": [
  {
   "attachments": {},
   "cell_type": "markdown",
   "metadata": {},
   "source": [
    "Importações"
   ]
  },
  {
   "cell_type": "code",
   "execution_count": 1,
   "metadata": {},
   "outputs": [],
   "source": [
    "import time\n",
    "import scipy.linalg as sp\n",
    "import numpy as np\n",
    "import sympy as sym\n",
    "from math import *\n"
   ]
  },
  {
   "attachments": {},
   "cell_type": "markdown",
   "metadata": {},
   "source": [
    "Exemplo teste"
   ]
  },
  {
   "cell_type": "code",
   "execution_count": 7,
   "metadata": {},
   "outputs": [
    {
     "data": {
      "text/plain": [
       "array([[3, x3*sin(x2*x3), x2*sin(x2*x3)],\n",
       "       [2*x1, -162*x2 - 16.2, cos(x3)],\n",
       "       [-x2*exp(-x1*x2), -x1*exp(-x1*x2), 20]], dtype=object)"
      ]
     },
     "execution_count": 7,
     "metadata": {},
     "output_type": "execute_result"
    }
   ],
   "source": [
    "# Define variables\n",
    "x1, x2, x3 = sym.symbols('x1 x2 x3')\n",
    "\n",
    "# Define functions \n",
    "f1 = 3*x1 - sym.cos(x2*x3) - 0.5\n",
    "f2 = (x1**2) - (81*((x2 + 0.1)**2)) + sym.sin(x3) + 1.06\n",
    "f3 = sym.E**(-x1*x2) + 20*x3 + (10*pi - 3)/3\n",
    "\n",
    "F = np.transpose(np.array([f1,f2,f3]))\n",
    "\n",
    "# Define the values and jacabian matrix\n",
    "## calculate values of F under a vector x\n",
    "def calcF(F, x):\n",
    "    Fx = []\n",
    "    for f in F:\n",
    "        Fx.append(f.subs([(x1,x[0]),(x2,x[1]), (x3,x[2])]))\n",
    "    return np.array(Fx)\n",
    "\n",
    "## define jacobian matrix\n",
    "def J(F):\n",
    "    Jmatrix = []\n",
    "    for f in F:\n",
    "        Jmatrix.append([f.diff(x1), f.diff(x2), f.diff(x3)])\n",
    "    return np.array(Jmatrix)\n",
    "\n",
    "\n",
    "## calculate values of J under a vector x\n",
    "def calcJ(J, x):\n",
    "    Jx = []\n",
    "    i = 0\n",
    "    for linha in J:\n",
    "        Jx.append([])\n",
    "        for j in linha:\n",
    "            Jx[i].append(j.subs([(x1,x[0]),(x2,x[1]), (x3,x[2])]))\n",
    "        i += 1\n",
    "    return np.array(Jx)\n",
    "\n",
    "\n",
    "\n",
    "## NOTE: the functions J(), calcJ() and calcF() could've been done in a more general way, such as to be used for any size of linear system\n",
    "## adjusting automatically, but since we're just using this program for specific examples, for simplicity I used one for each example.\n",
    "## Feel free to update it to work in a more general way\n",
    "J(F)\n"
   ]
  },
  {
   "cell_type": "code",
   "execution_count": 8,
   "metadata": {},
   "outputs": [
    {
     "name": "stdout",
     "output_type": "stream",
     "text": [
      "Começando com Xo =  [ 0.1  0.1 -0.1]\n",
      "1  Iteração x= [ 0.49986967  0.01946685 -0.52152047] Norma:  0.5865670056112852\n",
      "2  Iteração x= [ 0.50001424  0.00158859 -0.52355696] Norma:  0.017994451377116808\n",
      "3  Iteração x= [ 5.00000113e-01  1.24447833e-05 -5.23598450e-01] Norma:  0.0015767557491808675\n",
      "4  Iteração x= [ 5.00000000e-01  7.75785723e-10 -5.23598776e-01] Norma:  1.2448781083988536e-05\n",
      "5  Iteração x= [ 5.00000000e-01 -1.37632501e-17 -5.23598776e-01] Norma:  7.760833298279343e-10\n"
     ]
    },
    {
     "data": {
      "text/plain": [
       "array([ 5.00000000e-01, -1.37632501e-17, -5.23598776e-01])"
      ]
     },
     "execution_count": 8,
     "metadata": {},
     "output_type": "execute_result"
    }
   ],
   "source": [
    "# solve with Newton's method\n",
    "x = np.transpose([.1, .1, -0.1]) # initial guess\n",
    "n = 5 # number of equations and unknowns\n",
    "tolerance = 10**(-5) # chosen - arbitrary because there's no real implication to have a specific tolerance defined\n",
    "maxIterations = 20 # so it doesnt loop forever in case of failure\n",
    "\n",
    "methodNewton(n, x, tolerance, maxIterations, F)\n"
   ]
  },
  {
   "cell_type": "code",
   "execution_count": 15,
   "metadata": {},
   "outputs": [
    {
     "name": "stdout",
     "output_type": "stream",
     "text": [
      "Começando com Xo =  [ 0.1  0.1 -0.1]\n",
      "X1 =  [0.499869672926428 0.0194668485374181 -0.521520471935831]\n",
      "2  Iteração x= [0.499986375456912 0.00873783929925741 -0.523174574399749] Norma:  8.73004675071813\n",
      "3  Iteração x= [0.500006597059974 0.000867273555790259 -0.523572341486402] Norma:  0.19895051782378523\n",
      "4  Iteração x= [0.500000328717546 3.95282753059799e-5 -0.523597685378835] Norma:  0.13336317838045406\n",
      "5  Iteração x= [0.500000001566878 1.93543975100760e-7 -0.523598770059983] Norma:  0.01344239085883696\n",
      "6  Iteração x= [0.500000000000334 5.34646875149078e-13 -0.523598775599102] Norma:  0.0006360866786890706\n"
     ]
    },
    {
     "data": {
      "text/plain": [
       "array([0.500000000000334, 5.34646875149078e-13, -0.523598775599102],\n",
       "      dtype=object)"
      ]
     },
     "execution_count": 15,
     "metadata": {},
     "output_type": "execute_result"
    }
   ],
   "source": [
    "# solve with Broyden's method\n",
    "x = np.transpose(np.array([.1, .1, -0.1], dtype=np.float64)) # initial guess\n",
    "n = 5 # number of equations and unknowns\n",
    "tolerance = 10**(-5) # chosen - arbitrary because there's no real implication to have a specific tolerance defined\n",
    "maxIterations = 20 # so it doesnt loop forever in case of failure\n",
    "\n",
    "methodBroyden(n, x, tolerance, maxIterations, F)\n",
    "# Ao = calcJ(J(F), x)\n",
    "# v = calcF(F, x)\n",
    "# A = np.linalg.inv(np.array(Ao, dtype=np.float64)) # use gaussian elimination\n",
    "# s = np.dot(-A, v)\n",
    "# x = x + s\n"
   ]
  },
  {
   "cell_type": "code",
   "execution_count": 6,
   "metadata": {},
   "outputs": [
    {
     "data": {
      "text/plain": [
       "[10, 10, 10, 10, 10]"
      ]
     },
     "execution_count": 6,
     "metadata": {},
     "output_type": "execute_result"
    }
   ],
   "source": [
    "#rascunho\n",
    "x"
   ]
  },
  {
   "attachments": {},
   "cell_type": "markdown",
   "metadata": {},
   "source": [
    "## ITEM 1"
   ]
  },
  {
   "cell_type": "code",
   "execution_count": 3,
   "metadata": {},
   "outputs": [],
   "source": [
    "# define the functions\n",
    "x1, x2, x3, x4, x5 = sym.symbols('x1 x2 x3 x4 x5')\n",
    "R = [10, .193, 4.10622*10**(-4), 5.45177*10**(-4), 4.4975*10**(-7), 3.40735*10**(-5), 9.615*10**(-7)]\n",
    "\n",
    "## define matrix F\n",
    "f1 = x1*x2 +x1 -3*x5\n",
    "f2 = 2*x1*x2 +x1 +3*R[-1]*(x2**2) +x2*(x3**2) +R[-4]*x2*x3 +R[-2]*x2*x4 +R[-3]*x2 -R[0]*x5\n",
    "f3 = 2*x2*(x3**2) +R[-4]*x2*x3 + 2*R[-6]*(x3**2) +R[-5]*x3 -8*x5\n",
    "f4 = R[-2]*x2*x4 +2*(x4**2) -4*R[0]*x5\n",
    "f5 = x1*x2 +x1 +R[-1]*(x2**2) +x2*(x3**2) +R[-4]*x2*x3 +R[-2]*x2*x4 +R[-3]*x2 +R[-6]*(x3**2) +R[-5]*x3 +(x4**2) -1\n",
    "    \n",
    "F = np.transpose(np.array([f1,f2,f3,f4,f5]))"
   ]
  },
  {
   "cell_type": "code",
   "execution_count": 4,
   "metadata": {},
   "outputs": [],
   "source": [
    "## calculate values of F under a vector x\n",
    "def calcF(F, x):\n",
    "    Fx = []\n",
    "    for f in F:\n",
    "        Fx.append(f.subs([(x1,x[0]),(x2,x[1]),(x3,x[2]),(x4,x[3]),(x5,x[4])]))\n",
    "        \n",
    "    return np.array(Fx)\n",
    "\n",
    "## define jacobian matrix\n",
    "def J(F):\n",
    "    Jmatrix = []\n",
    "    for f in F:\n",
    "        Jmatrix.append([f.diff(x1), f.diff(x2), f.diff(x3), f.diff(x4), f.diff(x5)])\n",
    "        \n",
    "    return np.array(Jmatrix)    \n",
    "\n",
    "\n",
    "## calculate values of J under a vector x\n",
    "def calcJ(J, x):\n",
    "    Jx = []\n",
    "    i = 0\n",
    "    for linha in J:\n",
    "        Jx.append([])\n",
    "        for j in linha:\n",
    "            Jx[i].append(j.subs([(x1,x[0]),(x2,x[1]),(x3,x[2]),(x4,x[3]),(x5,x[4])]))\n",
    "        \n",
    "        i += 1\n",
    "        \n",
    "        \n",
    "    return np.array(Jx)\n",
    "\n",
    "## NOTE: the functions J(), calcJ() and calcF() could've been done in a more general way, such as to be used for any size of linear system\n",
    "## adjusting automatically, but since we're just using this program for specific examples, for simplicity I used one for each example.\n",
    "## Feel free to update it to work in a more general way.\n",
    "\n"
   ]
  },
  {
   "attachments": {},
   "cell_type": "markdown",
   "metadata": {},
   "source": [
    "### Método de Newton"
   ]
  },
  {
   "cell_type": "code",
   "execution_count": 3,
   "metadata": {},
   "outputs": [],
   "source": [
    "# define method\n",
    "def methodNewton(n, x, tolerance, maxIterations, F):\n",
    "    output = \"The method failed after \"+str(maxIterations)+\" iterations. The procedure was unsuccessful\"\n",
    "    \n",
    "    k = 1\n",
    "    print(\"Começando com Xo = \", x)\n",
    "    while k <= maxIterations:\n",
    "        Fx = [-x for x in calcF(F,x)]\n",
    "        Jx = calcJ(J(F), x)\n",
    "        y = np.linalg.solve(np.array(Jx, np.float64), np.array(Fx, np.float64))\n",
    "        x = x + y\n",
    "        print(k,\" Iteração x=\", x, end=\" \")\n",
    "        if np.linalg.norm(y, np.inf)  < tolerance:\n",
    "            output = x\n",
    "            print(\"Norma: \", np.linalg.norm(x - (x-y), 2))\n",
    "            break\n",
    "        else:\n",
    "            print(\"Norma: \", np.linalg.norm(x - (x-y), 2))\n",
    "            k += 1\n",
    "        \n",
    "    return output"
   ]
  },
  {
   "cell_type": "code",
   "execution_count": 4,
   "metadata": {},
   "outputs": [
    {
     "name": "stdout",
     "output_type": "stream",
     "text": [
      "Começando com Xo =  [10 10 10 10 10]\n"
     ]
    },
    {
     "ename": "ValueError",
     "evalue": "operands could not be broadcast together with shapes (5,) (3,) ",
     "output_type": "error",
     "traceback": [
      "\u001b[1;31m---------------------------------------------------------------------------\u001b[0m",
      "\u001b[1;31mValueError\u001b[0m                                Traceback (most recent call last)",
      "Cell \u001b[1;32mIn[4], line 10\u001b[0m\n\u001b[0;32m      7\u001b[0m maxIterations \u001b[39m=\u001b[39m \u001b[39m20\u001b[39m \u001b[39m# so it doesnt loop forever in case of failure\u001b[39;00m\n\u001b[0;32m      9\u001b[0m t0 \u001b[39m=\u001b[39m time\u001b[39m.\u001b[39mtime() \u001b[39m# measure time it takes to calculate\u001b[39;00m\n\u001b[1;32m---> 10\u001b[0m methodNewton(n, Xo, tolerance, maxIterations, F)\n\u001b[0;32m     11\u001b[0m t1 \u001b[39m=\u001b[39m time\u001b[39m.\u001b[39mtime() \u001b[39m-\u001b[39m t0\n\u001b[0;32m     12\u001b[0m \u001b[39mprint\u001b[39m(\u001b[39mf\u001b[39m\u001b[39m\"\u001b[39m\u001b[39mTempo para calcular: \u001b[39m\u001b[39m{\u001b[39;00mt1\u001b[39m}\u001b[39;00m\u001b[39m segundos\u001b[39m\u001b[39m\"\u001b[39m)\n",
      "Cell \u001b[1;32mIn[3], line 11\u001b[0m, in \u001b[0;36mmethodNewton\u001b[1;34m(n, x, tolerance, maxIterations, F)\u001b[0m\n\u001b[0;32m      9\u001b[0m Jx \u001b[39m=\u001b[39m calcJ(J(F), x)\n\u001b[0;32m     10\u001b[0m y \u001b[39m=\u001b[39m np\u001b[39m.\u001b[39mlinalg\u001b[39m.\u001b[39msolve(np\u001b[39m.\u001b[39marray(Jx, np\u001b[39m.\u001b[39mfloat64), np\u001b[39m.\u001b[39marray(Fx, np\u001b[39m.\u001b[39mfloat64))\n\u001b[1;32m---> 11\u001b[0m x \u001b[39m=\u001b[39m x \u001b[39m+\u001b[39;49m y\n\u001b[0;32m     12\u001b[0m \u001b[39mprint\u001b[39m(k,\u001b[39m\"\u001b[39m\u001b[39m Iteração x=\u001b[39m\u001b[39m\"\u001b[39m, x, end\u001b[39m=\u001b[39m\u001b[39m\"\u001b[39m\u001b[39m \u001b[39m\u001b[39m\"\u001b[39m)\n\u001b[0;32m     13\u001b[0m \u001b[39mif\u001b[39;00m np\u001b[39m.\u001b[39mlinalg\u001b[39m.\u001b[39mnorm(y, np\u001b[39m.\u001b[39minf)  \u001b[39m<\u001b[39m tolerance:\n",
      "\u001b[1;31mValueError\u001b[0m: operands could not be broadcast together with shapes (5,) (3,) "
     ]
    }
   ],
   "source": [
    "# solve with Newton's method\n",
    "\n",
    "x = [10, 10, 10, 10, 10]\n",
    "Xo = np.transpose(x) # initial approximation\n",
    "n = 5 # number of equations and unknowns\n",
    "tolerance = 10**(-5) # chosen - arbitrary because there's no real implication to have a specific tolerance defined\n",
    "maxIterations = 20 # so it doesnt loop forever in case of failure\n",
    "\n",
    "t0 = time.time() # measure time it takes to calculate\n",
    "methodNewton(n, Xo, tolerance, maxIterations, F)\n",
    "t1 = time.time() - t0\n",
    "print(f\"Tempo para calcular: {t1} segundos\")\n"
   ]
  },
  {
   "attachments": {},
   "cell_type": "markdown",
   "metadata": {},
   "source": [
    "### Método de Broyden"
   ]
  },
  {
   "cell_type": "code",
   "execution_count": 14,
   "metadata": {},
   "outputs": [],
   "source": [
    "# define method\n",
    "def methodBroyden(n, x, tolerance, maxIterations, F): # n is the number of equations and unknowns\n",
    "    output = \"The method failed after \"+str(maxIterations)+\" iterations. The procedure was unsuccessful\"\n",
    "    print(\"Começando com Xo = \", x)\n",
    "    Ao = calcJ(J(F), x)\n",
    "    v = calcF(F, x)\n",
    "    A = np.linalg.inv(np.array(Ao, dtype=np.float64))\n",
    "    s = np.dot(-A, v)\n",
    "    x = x + s\n",
    "    k = 2\n",
    "    \n",
    "    print(\"X1 = \", x)\n",
    "    while k <= maxIterations:\n",
    "        w = v\n",
    "        v = calcF(F, x)\n",
    "        y = v - w\n",
    "        z = np.dot(-A, y)\n",
    "        p = np.dot(-np.transpose(s), z)\n",
    "        ut = np.dot(np.transpose(s), A)\n",
    "        A = A + (np.outer((s+z),ut))/p\n",
    "        s = np.dot(-A, v)\n",
    "        x = x + s\n",
    "        print(k,\" Iteração x=\", x, end=\" \")\n",
    "        if np.linalg.norm(np.array(s, np.float64), 2) < tolerance:\n",
    "            print(\"Norma: \", sp.norm(np.array(x - (x-y),dtype=np.float64), 2))\n",
    "            output = x\n",
    "            break\n",
    "        print(\"Norma: \", sp.norm(np.array(x - (x-y),dtype=np.float64), 2))\n",
    "        k += 1\n",
    "        \n",
    "    return output\n",
    "             \n",
    "    "
   ]
  },
  {
   "cell_type": "code",
   "execution_count": 8,
   "metadata": {},
   "outputs": [
    {
     "name": "stdout",
     "output_type": "stream",
     "text": [
      "Começando com Xo =  [10 10 10 10 10]\n",
      "X1 =  [0.0106520416154137 9.99922036085834 5.00102590899330 5.03641579334684\n",
      " 0.0364586887839735]\n",
      "2  Iteração x= [0.00930920994776896 9.99992314923572 3.68548669725861 3.74021496588458\n",
      " 0.0366095664539330] Norma:  1951.5790985841434\n",
      "3  Iteração x= [0.00812409975971151 10.0028495599410 2.12982498189956 2.22119667752175\n",
      " 0.0367878041371119] Norma:  290.1492702297571\n",
      "4  Iteração x= [0.00741548470735665 10.0071664428273 1.36874831487401 1.49585096488847\n",
      " 0.0368748606960816] Norma:  229.7381311533295\n",
      "5  Iteração x= [0.00692512323934356 10.0133588765681 0.875839559672884 1.04643125912261\n",
      " 0.0369311110668205] Norma:  67.65373576346511\n",
      "6  Iteração x= [0.00665183257170165 10.0202955343292 0.612066692438099 0.827619518503195\n",
      " 0.0369610835524859] Norma:  28.137157616273615\n",
      "7  Iteração x= [0.00652289985436536 10.0272607578088 0.484859773836035 0.743324571897385\n",
      " 0.0369754028649233] Norma:  9.990048017875601\n",
      "8  Iteração x= [0.00647631800395310 10.0334117223175 0.435245819905953 0.729468924614596\n",
      " 0.0369808573097129] Norma:  3.5451891406142026\n",
      "9  Iteração x= [0.00645571448191387 10.0398733796766 0.409207081679501 0.738335944915178\n",
      " 0.0369836018763813] Norma:  1.146731978219258\n",
      "10  Iteração x= [0.00640533191084644 10.0609417974774 0.340977269149166 0.776324164369411\n",
      " 0.0369906781918833] Norma:  0.5423343058806762\n",
      "11  Iteração x= [0.00570970136579031 10.3207679455496 -0.488025307554061 1.18624039128510\n",
      " 0.0370771507359188] Norma:  1.25693373863452\n",
      "12  Iteração x= [0.00641920725522552 10.0538583833088 0.378348765421452 0.774633959252236\n",
      " 0.0369865857589217] Norma:  3.9346300974391584\n",
      "13  Iteração x= [0.00646945687914274 10.0375511089013 0.446207446914639 0.761744984577639\n",
      " 0.0369792748523722] Norma:  3.35205425493519\n",
      "14  Iteração x= [0.00635802108803576 10.0809647022841 0.283641435466796 0.803115445937572\n",
      " 0.0369966656966503] Norma:  1.385871452327244\n",
      "15  Iteração x= [0.00627644168470364 10.1059722631785 0.206662559665699 0.829155194828418\n",
      " 0.0370048110349091] Norma:  2.9351587076018792\n",
      "16  Iteração x= [0.00533221213561045 10.3964762744243 -0.674871271876501 1.08919848714580\n",
      " 0.0370985277531505] Norma:  0.9331815099758691\n",
      "17  Iteração x= [0.00625914954673836 10.0993953552352 0.240841384161288 0.826276337938260\n",
      " 0.0370010647534618] Norma:  10.943013373880069\n",
      "18  Iteração x= [0.00629536958989150 10.0883260324192 0.289353045966551 0.820601929056799\n",
      " 0.0369957909080320] Norma:  10.564199758846753\n",
      "19  Iteração x= [0.00618327252412168 10.1292380602010 0.129823273309375 0.843078592743865\n",
      " 0.0370130842654925] Norma:  0.6415567401009951\n",
      "20  Iteração x= [0.00606752438852913 10.1606455071272 0.0253011221774423 0.858935524365235\n",
      " 0.0370243681628129] Norma:  1.666671089580098\n",
      "Tempo para calcular: 0.7952268123626709 segundos\n"
     ]
    }
   ],
   "source": [
    "# solve with Broyden's method\n",
    "\n",
    "x = [10, 10, 10, 10, 10]\n",
    "Xo = np.transpose(np.array(x)) # initial approximation\n",
    "n = 5 # number of equations and unknowns\n",
    "tolerance = 10**(-5) # chosen - arbitrary because there's no real implication to have a specific tolerance defined\n",
    "maxIterations = 20 # so it doesnt loop forever in case of failure\n",
    "\n",
    "t0 = time.time() # measure time it takes to calculate\n",
    "methodBroyden(n, Xo, tolerance, maxIterations, F)\n",
    "t1 = time.time() - t0\n",
    "print(f\"Tempo para calcular: {t1} segundos\")"
   ]
  },
  {
   "attachments": {},
   "cell_type": "markdown",
   "metadata": {},
   "source": [
    "### Comparação dos resultados"
   ]
  },
  {
   "attachments": {},
   "cell_type": "markdown",
   "metadata": {},
   "source": [
    "## ITEM 2"
   ]
  },
  {
   "attachments": {},
   "cell_type": "markdown",
   "metadata": {},
   "source": [
    "### Método de Newton"
   ]
  },
  {
   "cell_type": "code",
   "execution_count": null,
   "metadata": {},
   "outputs": [],
   "source": [
    "Xo = np.transpose(x) # initial approximation\n",
    "n = 5 # number of equations and unknowns\n",
    "tolerance = .0005 # chosen\n",
    "maxIterations = 100000 # so it doesnt loop forever in case of failure\n",
    "\n",
    "def f(x):\n",
    "    return\n",
    "\n",
    "\n",
    "def methodNewton(p0, p1, tolerance, maxIterations):\n",
    "    output = \"The method failed after \"+maxIterations+\" iterations. The procedure was unsuccessful\"\n",
    "    \n",
    "    i = 1\n",
    "    q0 = f(p0)\n",
    "    q1 = f(p1)\n",
    "    while i <= maxIterations:\n",
    "        p = p1 - q1*((p1-p0)/(q1-q0))\n",
    "       \n",
    "        if tolerance < p - p1 < tolerance:\n",
    "            output = p\n",
    "            break\n",
    "        else:\n",
    "            i += 1\n",
    "            p0 = p1\n",
    "            q0 = q1\n",
    "            p1 = p\n",
    "            q1 = f(p)\n",
    "        \n",
    "    return output"
   ]
  },
  {
   "attachments": {},
   "cell_type": "markdown",
   "metadata": {},
   "source": [
    "### Método de Broyden"
   ]
  },
  {
   "cell_type": "code",
   "execution_count": null,
   "metadata": {},
   "outputs": [],
   "source": [
    "Po = x # initial approximation\n",
    "tolerance = .0005 # arbitrary\n",
    "maxIterations = 100000 # so it doesnt loop forever in case of failure\n",
    "def f(x):\n",
    "    return\n",
    "def df(x):\n",
    "    return\n",
    "def J(x):\n",
    "    result = df(x)\n",
    "    return result\n",
    "def F(x):\n",
    "    return\n",
    "\n",
    "\n",
    "def methodBroyden(n, x, tolerance, maxIterations): # n is the number of equations and unknowns\n",
    "    output = \"The method failed after \"+maxIterations+\" iterations. The procedure was unsuccessful\"\n",
    "    \n",
    "    Ao = J(x)\n",
    "    v = F(x)\n",
    "    A = np.transpose(Ao) #use gaussian elimination\n",
    "    s = -A * v\n",
    "    x = x + s\n",
    "    k = 2\n",
    "    \n",
    "    while k <= maxIterations:\n",
    "        w = v\n",
    "        v = F(x)\n",
    "        y = v - w\n",
    "        z = -A* y\n",
    "        p = -np.transpose(s) * z\n",
    "        ut = np.transpose(np.transpose(s) * A)\n",
    "        A = A + (1/p)*(s+z)*ut\n",
    "        s = -A * v\n",
    "        x = x + s\n",
    "        if np.linalg.norm(s) < tolerance:\n",
    "            output = x\n",
    "            break\n",
    "        \n",
    "        k += 1\n",
    "        \n",
    "    return output\n",
    "          "
   ]
  },
  {
   "attachments": {},
   "cell_type": "markdown",
   "metadata": {},
   "source": [
    "### Comparação dos resultados"
   ]
  },
  {
   "attachments": {},
   "cell_type": "markdown",
   "metadata": {},
   "source": [
    "## ITEM 3"
   ]
  },
  {
   "attachments": {},
   "cell_type": "markdown",
   "metadata": {},
   "source": [
    "#### Bibliografia e referências: \n",
    "\n",
    "R.L. Burden & J.D. Faires, Numerical Analysis, Capítulos 2 e 10"
   ]
  }
 ],
 "metadata": {
  "kernelspec": {
   "display_name": "Python 3",
   "language": "python",
   "name": "python3"
  },
  "language_info": {
   "codemirror_mode": {
    "name": "ipython",
    "version": 3
   },
   "file_extension": ".py",
   "mimetype": "text/x-python",
   "name": "python",
   "nbconvert_exporter": "python",
   "pygments_lexer": "ipython3",
   "version": "3.10.9"
  },
  "orig_nbformat": 4,
  "vscode": {
   "interpreter": {
    "hash": "4abe64b9a8ed922d25f7390c9a03e42a2560957904a8072a31c407963719ee63"
   }
  }
 },
 "nbformat": 4,
 "nbformat_minor": 2
}
