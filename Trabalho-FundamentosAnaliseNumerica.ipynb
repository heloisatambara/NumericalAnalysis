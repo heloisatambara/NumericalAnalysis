{
 "cells": [
  {
   "attachments": {},
   "cell_type": "markdown",
   "metadata": {},
   "source": [
    "Importações"
   ]
  },
  {
   "cell_type": "code",
   "execution_count": 2,
   "metadata": {},
   "outputs": [],
   "source": [
    "import time\n",
    "import scipy.linalg as sp\n",
    "import numpy as np\n",
    "import sympy as sym\n",
    "from math import *\n"
   ]
  },
  {
   "attachments": {},
   "cell_type": "markdown",
   "metadata": {},
   "source": [
    "Exemplo teste"
   ]
  },
  {
   "cell_type": "code",
   "execution_count": 300,
   "metadata": {},
   "outputs": [
    {
     "data": {
      "text/plain": [
       "array([[3, 0.00529457264402023, -0.000197631060098022],\n",
       "       [0.999739345852857, -19.3536294630617, 0.867062684536539],\n",
       "       [-0.0192783375072366, -0.495029087311417, 20]], dtype=object)"
      ]
     },
     "execution_count": 300,
     "metadata": {},
     "output_type": "execute_result"
    }
   ],
   "source": [
    "# Define variables\n",
    "x1, x2, x3 = sym.symbols('x1 x2 x3')\n",
    "\n",
    "# Define functions \n",
    "f1 = 3*x1 - sym.cos(x2*x3) - 0.5\n",
    "f2 = (x1**2) - (81*((x2 + 0.1)**2)) + sym.sin(x3) + 1.06\n",
    "f3 = sym.E**(-x1*x2) + 20*x3 + (10*pi - 3)/3\n",
    "\n",
    "F = np.transpose(np.array([f1,f2,f3]))\n",
    "\n",
    "# Define the values and jacabian matrix\n",
    "## calculate values of F under a vector x\n",
    "def calcF(F, x):\n",
    "    Fx = []\n",
    "    for f in F:\n",
    "        Fx.append(f.subs([(x1,x[0]),(x2,x[1]), (x3,x[2])]))\n",
    "    return np.array(Fx)\n",
    "\n",
    "## define jacobian matrix\n",
    "def J(F):\n",
    "    Jmatrix = []\n",
    "    for f in F:\n",
    "        Jmatrix.append([f.diff(x1), f.diff(x2), f.diff(x3)])\n",
    "    return np.array(Jmatrix)\n",
    "\n",
    "\n",
    "## calculate values of J under a vector x\n",
    "def calcJ(J, x):\n",
    "    Jx = []\n",
    "    i = 0\n",
    "    for linha in J:\n",
    "        Jx.append([])\n",
    "        for j in linha:\n",
    "            Jx[i].append(j.subs([(x1,x[0]),(x2,x[1]), (x3,x[2])]))\n",
    "        i += 1\n",
    "    return np.array(Jx)\n",
    "\n",
    "\n",
    "\n",
    "## NOTE: the functions J(), calcJ() and calcF() could've been done in a more general way, such as to be used for any size of linear system\n",
    "## adjusting automatically, but since we're just using this program for specific examples, for simplicity I used one for each example.\n",
    "## Feel free to update it to work in a more general way.\n",
    "calcJ(J(F), x)\n"
   ]
  },
  {
   "cell_type": "code",
   "execution_count": 297,
   "metadata": {},
   "outputs": [
    {
     "name": "stdout",
     "output_type": "stream",
     "text": [
      "Começando com Xo =  [ 0.1  0.1 -0.1]\n",
      "1  Iteração x= [ 0.49986967  0.01946685 -0.52152047] Norma:  0.5865670056112852\n",
      "2  Iteração x= [ 0.50001424  0.00158859 -0.52355696] Norma:  0.017994451377116808\n",
      "3  Iteração x= [ 5.00000113e-01  1.24447833e-05 -5.23598450e-01] Norma:  0.0015767557491808675\n",
      "4  Iteração x= [ 5.00000000e-01  7.75785723e-10 -5.23598776e-01] Norma:  1.2448781083988536e-05\n",
      "5  Iteração x= [ 5.00000000e-01 -1.37632501e-17 -5.23598776e-01] Norma:  7.760833298279343e-10\n"
     ]
    },
    {
     "data": {
      "text/plain": [
       "array([ 5.00000000e-01, -1.37632501e-17, -5.23598776e-01])"
      ]
     },
     "execution_count": 297,
     "metadata": {},
     "output_type": "execute_result"
    }
   ],
   "source": [
    "# solve with Newton's method\n",
    "x = np.transpose([.1, .1, -0.1]) # initial guess\n",
    "n = 5 # number of equations and unknowns\n",
    "tolerance = 10**(-5) # chosen - arbitrary because there's no real implication to have a specific tolerance defined\n",
    "maxIterations = 20 # so it doesnt loop forever in case of failure\n",
    "\n",
    "methodNewton(n, x, tolerance, maxIterations, F)\n"
   ]
  },
  {
   "cell_type": "code",
   "execution_count": 309,
   "metadata": {},
   "outputs": [
    {
     "name": "stdout",
     "output_type": "stream",
     "text": [
      "Começando com Xo =  [ 0.1  0.1 -0.1]\n",
      "X1 =  [0.499869672926428 0.0194668485374181 -0.521520471935831]\n",
      "2  Iteração x= [0.499986375456912 0.00873783929925741 -0.523174574399749] Norma:  8.73004675071813\n",
      "3  Iteração x= [0.500006597059974 0.000867273555790259 -0.523572341486402] Norma:  0.19895051782378523\n",
      "4  Iteração x= [0.500000328717546 3.95282753059799e-5 -0.523597685378835] Norma:  0.13336317838045406\n",
      "5  Iteração x= [0.500000001566878 1.93543975100760e-7 -0.523598770059983] Norma:  0.01344239085883696\n",
      "6  Iteração x= [0.500000000000334 5.34646875149078e-13 -0.523598775599102] Norma:  0.0006360866786890706\n"
     ]
    },
    {
     "data": {
      "text/plain": [
       "array([0.500000000000334, 5.34646875149078e-13, -0.523598775599102],\n",
       "      dtype=object)"
      ]
     },
     "execution_count": 309,
     "metadata": {},
     "output_type": "execute_result"
    }
   ],
   "source": [
    "# solve with Broyden's method\n",
    "x = np.transpose(np.array([.1, .1, -0.1], dtype=np.float64)) # initial guess\n",
    "n = 5 # number of equations and unknowns\n",
    "tolerance = 10**(-5) # chosen - arbitrary because there's no real implication to have a specific tolerance defined\n",
    "maxIterations = 20 # so it doesnt loop forever in case of failure\n",
    "\n",
    "methodBroyden(n, x, tolerance, maxIterations, F)\n",
    "# Ao = calcJ(J(F), x)\n",
    "# v = calcF(F, x)\n",
    "# A = np.linalg.inv(np.array(Ao, dtype=np.float64)) # use gaussian elimination\n",
    "# s = np.dot(-A, v)\n",
    "# x = x + s\n"
   ]
  },
  {
   "cell_type": "code",
   "execution_count": 307,
   "metadata": {},
   "outputs": [
    {
     "data": {
      "text/plain": [
       "array([0.499869672926428, 0.0194668485374181, -0.521520471935831],\n",
       "      dtype=object)"
      ]
     },
     "execution_count": 307,
     "metadata": {},
     "output_type": "execute_result"
    }
   ],
   "source": [
    "#rascunho\n",
    "x"
   ]
  },
  {
   "attachments": {},
   "cell_type": "markdown",
   "metadata": {},
   "source": [
    "## ITEM 1"
   ]
  },
  {
   "cell_type": "code",
   "execution_count": 196,
   "metadata": {},
   "outputs": [],
   "source": [
    "# define the functions\n",
    "x1, x2, x3, x4, x5 = sym.symbols('x1 x2 x3 x4 x5')\n",
    "R = [10, .193, 4.10622*10**(-4), 5.45177*10**(-4), 4.4975*10**(-7), 3.40735*10**(-5), 9.615*10**(-7)]\n",
    "\n",
    "## define matrix F\n",
    "f1 = x1*x2 +x1 -3*x5\n",
    "f2 = 2*x1*x2 +x1 +3*R[-1]*(x2**2) +x2*(x3**2) +R[-4]*x2*x3 +R[-2]*x2*x4 +R[-3]*x2 -R[0]*x5\n",
    "f3 = 2*x2*(x3**2) +R[-4]*x2*x3 + 2*R[-6]*(x3**2) +R[-5]*x3 -8*x5\n",
    "f4 = R[-2]*x2*x4 +2*(x4**2) -4*R[0]*x5\n",
    "f5 = x1*x2 +x1 +R[-1]*(x2**2) +x2*(x3**2) +R[-4]*x2*x3 +R[-2]*x2*x4 +R[-3]*x2 +R[-6]*(x3**2) +R[-5]*x3 +(x4**2) -1\n",
    "    \n",
    "F = np.transpose(np.array([f1,f2,f3,f4,f5]))"
   ]
  },
  {
   "cell_type": "code",
   "execution_count": 197,
   "metadata": {},
   "outputs": [],
   "source": [
    "## calculate values of F under a vector x\n",
    "def calcF(F, x):\n",
    "    Fx = []\n",
    "    for f in F:\n",
    "        Fx.append(f.subs([(x1,x[0]),(x2,x[1]),(x3,x[2]),(x4,x[3]),(x5,x[4])]))\n",
    "        \n",
    "    return np.array(Fx)\n",
    "\n",
    "## define jacobian matrix\n",
    "def J(F):\n",
    "    Jmatrix = []\n",
    "    for f in F:\n",
    "        Jmatrix.append([f.diff(x1), f.diff(x2), f.diff(x3), f.diff(x4), f.diff(x5)])\n",
    "        \n",
    "    return np.array(Jmatrix)    \n",
    "\n",
    "\n",
    "## calculate values of J under a vector x\n",
    "def calcJ(J, x):\n",
    "    Jx = []\n",
    "    i = 0\n",
    "    for linha in J:\n",
    "        Jx.append([])\n",
    "        for j in linha:\n",
    "            Jx[i].append(j.subs([(x1,x[0]),(x2,x[1]),(x3,x[2]),(x4,x[3]),(x5,x[4])]))\n",
    "        \n",
    "        i += 1\n",
    "        \n",
    "        \n",
    "    return np.array(Jx)\n",
    "\n",
    "## NOTE: the functions J(), calcJ() and calcF() could've been done in a more general way, such as to be used for any size of linear system\n",
    "## adjusting automatically, but since we're just using this program for specific examples, for simplicity I used one for each example.\n",
    "## Feel free to update it to work in a more general way.\n",
    "\n"
   ]
  },
  {
   "attachments": {},
   "cell_type": "markdown",
   "metadata": {},
   "source": [
    "### Método de Newton"
   ]
  },
  {
   "cell_type": "code",
   "execution_count": 175,
   "metadata": {},
   "outputs": [],
   "source": [
    "# define method\n",
    "def methodNewton(n, x, tolerance, maxIterations, F):\n",
    "    output = \"The method failed after \"+str(maxIterations)+\" iterations. The procedure was unsuccessful\"\n",
    "    \n",
    "    k = 1\n",
    "    print(\"Começando com Xo = \", x)\n",
    "    while k <= maxIterations:\n",
    "        Fx = [-x for x in calcF(F,x)]\n",
    "        Jx = calcJ(J(F), x)\n",
    "        y = np.linalg.solve(np.array(Jx, np.float64), np.array(Fx, np.float64))\n",
    "        x = x + y\n",
    "        print(k,\" Iteração x=\", x, end=\" \")\n",
    "        if np.linalg.norm(y, np.inf)  < tolerance:\n",
    "            output = x\n",
    "            print(\"Norma: \", np.linalg.norm(x - (x-y), 2))\n",
    "            break\n",
    "        else:\n",
    "            print(\"Norma: \", np.linalg.norm(x - (x-y), 2))\n",
    "            k += 1\n",
    "        \n",
    "    return output"
   ]
  },
  {
   "cell_type": "code",
   "execution_count": 176,
   "metadata": {},
   "outputs": [
    {
     "name": "stdout",
     "output_type": "stream",
     "text": [
      "Começando com Xo =  [10 10 10 10 10]\n",
      "1  Iteração x= [0.01065204 9.99922036 5.00102591 5.03641579 0.03645869] Norma:  15.769785630785213\n",
      "2  Iteração x= [ 0.01001153 10.01012371  2.49920776  2.59112275  0.03674507] Norma:  3.498381268945265\n",
      "3  Iteração x= [9.98373148e-03 1.00839478e+01 1.24338306e+00 1.43787284e+00\n",
      " 3.68870704e-02] Norma:  1.7066139146402113\n",
      "4  Iteração x= [9.68920699e-03 1.04317749e+01 6.06359646e-01 9.75892034e-01\n",
      " 3.69557589e-02] Norma:  0.8603539169025427\n",
      "5  Iteração x= [8.50591251e-03 1.18477258e+01 2.74174277e-01 8.66848855e-01\n",
      " 3.69857062e-02] Norma:  1.4584772627650562\n",
      "6  Iteração x= [5.41646124e-03 1.67133282e+01 1.03992448e-01 8.60022364e-01\n",
      " 3.69918658e-02] Norma:  4.868583458334746\n",
      "7  Iteração x= [2.92103470e-03 2.76408171e+01 6.02819450e-02 8.59724155e-01\n",
      " 3.69765221e-02] Norma:  10.927576589262472\n",
      "8  Iteração x= [3.45584277e-03 3.17170310e+01 6.96040198e-02 8.59516377e-01\n",
      " 3.69616409e-02] Norma:  4.07622454194743\n",
      "9  Iteração x= [3.43022114e-03 3.13294698e+01 6.83736167e-02 8.59528882e-01\n",
      " 3.69624337e-02] Norma:  0.3875630774484792\n",
      "10  Iteração x= [3.43023014e-03 3.13264969e+01 6.83504073e-02 8.59528996e-01\n",
      " 3.69624414e-02] Norma:  0.0029729769433587305\n",
      "11  Iteração x= [3.43023016e-03 3.13264968e+01 6.83504014e-02 8.59528996e-01\n",
      " 3.69624414e-02] Norma:  1.4066966110043846e-07\n",
      "Tempo para calcular: 0.577242374420166 segundos\n"
     ]
    }
   ],
   "source": [
    "# solve with Newton's method\n",
    "\n",
    "x = [10, 10, 10, 10, 10]\n",
    "Xo = np.transpose(x) # initial approximation\n",
    "n = 5 # number of equations and unknowns\n",
    "tolerance = 10**(-5) # chosen - arbitrary because there's no real implication to have a specific tolerance defined\n",
    "maxIterations = 20 # so it doesnt loop forever in case of failure\n",
    "\n",
    "t0 = time.time() # measure time it takes to calculate\n",
    "methodNewton(n, Xo, tolerance, maxIterations, F)\n",
    "t1 = time.time() - t0\n",
    "print(f\"Tempo para calcular: {t1} segundos\")\n"
   ]
  },
  {
   "attachments": {},
   "cell_type": "markdown",
   "metadata": {},
   "source": [
    "### Método de Broyden"
   ]
  },
  {
   "cell_type": "code",
   "execution_count": 289,
   "metadata": {},
   "outputs": [],
   "source": [
    "# define method\n",
    "def methodBroyden(n, x, tolerance, maxIterations, F): # n is the number of equations and unknowns\n",
    "    output = \"The method failed after \"+str(maxIterations)+\" iterations. The procedure was unsuccessful\"\n",
    "    print(\"Começando com Xo = \", x)\n",
    "    Ao = calcJ(J(F), x)\n",
    "    v = calcF(F, x)\n",
    "    A = np.linalg.inv(np.array(Ao, dtype=np.float64)) # use gaussian elimination\n",
    "    s = np.dot(-A, v)\n",
    "    x = x + s\n",
    "    k = 2\n",
    "    \n",
    "    print(\"X1 = \", x)\n",
    "    while k <= maxIterations:\n",
    "        w = v\n",
    "        v = calcF(F, x)\n",
    "        y = v - w\n",
    "        z = np.dot(-A, y)\n",
    "        p = np.dot(-np.transpose(s), z)\n",
    "        ut = np.dot(np.transpose(s), A)\n",
    "        A = A + (np.outer((s+z),ut))/p\n",
    "        s = np.dot(-A, v)\n",
    "        x = x + s\n",
    "        print(k,\" Iteração x=\", x, end=\" \")\n",
    "        if np.linalg.norm(s, np.inf) < tolerance:\n",
    "            print(\"Norma: \", sp.norm(np.array(x - (x-y),dtype=np.float64), 2))\n",
    "            output = x\n",
    "            break\n",
    "        print(\"Norma: \", sp.norm(np.array(x - (x-y),dtype=np.float64), 2))\n",
    "        k += 1\n",
    "        \n",
    "    return output\n",
    "             \n",
    "    "
   ]
  },
  {
   "cell_type": "code",
   "execution_count": 199,
   "metadata": {},
   "outputs": [
    {
     "name": "stdout",
     "output_type": "stream",
     "text": [
      "Começando com Xo =  [10 10 10 10 10]\n",
      "X1 =  [0.0106520416154137 9.99922036085834 5.00102590899330 5.03641579334684\n",
      " 0.0364586887839735]\n",
      "2  Iteração x= [-4.60411880907955 5.38639334438619 -0.862549628212813 -0.808783597588250\n",
      " -4.57689277646041] Norma:  1951.5790985841434\n",
      "3  Iteração x= [-2.33690566579617 3.70976773411303 -1.57454022617500 -1.82063695981035\n",
      " -0.979156115056380] Norma:  626.2223544037204\n",
      "4  Iteração x= [-0.179109795710622 4.15811909323119 -0.627361299042871 -1.13486473654929\n",
      " 0.851498203634657] Norma:  142.4766810497612\n",
      "5  Iteração x= [1.61434641754636 5.83165531500050 1.05866623012389 0.524877550861784\n",
      " 1.72413381825492] Norma:  83.60305739502645\n",
      "6  Iteração x= [0.344058639143646 6.03819946558486 0.854679428174380 0.500911404012575\n",
      " -0.0101863589179425] Norma:  45.28409973186194\n",
      "7  Iteração x= [-0.506590841205134 5.52706490909668 0.220860092005079 -0.0536095494525800\n",
      " -0.541971979563440] Norma:  70.88701261156986\n",
      "8  Iteração x= [-0.252419309268049 5.34164748312736 0.135434889740532 -0.134627896384038\n",
      " -0.0808751610987128] Norma:  25.713078353130864\n",
      "9  Iteração x= [0.230621082209238 5.60601516877152 0.449257348700998 0.198890257174247\n",
      " 0.334423800881825] Norma:  18.987760566509202\n",
      "10  Iteração x= [0.0392441677421480 5.62546132618316 0.399337208689487 0.210190687632561\n",
      " 0.0132799130579294] Norma:  17.442497429537845\n",
      "11  Iteração x= [-0.105214927710926 5.52247842158833 0.270717337929994 0.127374972118051\n",
      " -0.0806052809682921] Norma:  13.128202232638479\n",
      "12  Iteração x= [-0.0702344082668713 5.46850277810107 0.228272280247896 0.118234485792389\n",
      " -0.00832843302523308] Norma:  4.253940361999642\n",
      "13  Iteração x= [0.152384801564695 5.63156649589580 0.396982625235511 0.321892737058942\n",
      " 0.204358044716484] Norma:  3.04127161383778\n",
      "14  Iteração x= [-0.0166742981687496 5.60265553177084 0.318716572276601 0.294230262248355\n",
      " -0.0224796523688173] Norma:  8.740311952572723\n",
      "15  Iteração x= [-0.0489478473638481 5.55987944640577 0.266280267896794 0.279108966246743\n",
      " -0.0107909981595323] Norma:  9.2416845952407\n",
      "16  Iteração x= [-0.0204917617234198 5.54809163967082 0.253963559679394 0.300944094545946\n",
      " 0.0257318188071413] Norma:  1.0621703472144233\n",
      "17  Iteração x= [0.0369212843438542 5.58970896917204 0.289414934445565 0.371645687299116\n",
      " 0.0752316881827656] Norma:  1.4937484799084215\n",
      "18  Iteração x= [-0.0240812943149065 5.56396691697872 0.243877984313187 0.363838827668608\n",
      " -0.000898704036982445] Norma:  2.0055193459544514\n",
      "19  Iteração x= [-0.0127546721336272 5.55606083637869 0.230930729930214 0.383589368415253\n",
      " 0.0263714821123176] Norma:  3.1071832711823038\n",
      "20  Iteração x= [-0.00573291444731168 5.55338477291842 0.221228903669679 0.406383012561286\n",
      " 0.0301527881540917] Norma:  1.1144721209686637\n",
      "Tempo para calcular: 0.7516911029815674 segundos\n"
     ]
    }
   ],
   "source": [
    "# solve with Broyden's method\n",
    "\n",
    "x = [10, 10, 10, 10, 10]\n",
    "Xo = np.transpose(np.array(x)) # initial approximation\n",
    "n = 5 # number of equations and unknowns\n",
    "tolerance = 10**(-5) # chosen - arbitrary because there's no real implication to have a specific tolerance defined\n",
    "maxIterations = 20 # so it doesnt loop forever in case of failure\n",
    "\n",
    "t0 = time.time() # measure time it takes to calculate\n",
    "methodBroyden(n, Xo, tolerance, maxIterations, F)\n",
    "t1 = time.time() - t0\n",
    "print(f\"Tempo para calcular: {t1} segundos\")"
   ]
  },
  {
   "attachments": {},
   "cell_type": "markdown",
   "metadata": {},
   "source": [
    "### Comparação dos resultados"
   ]
  },
  {
   "attachments": {},
   "cell_type": "markdown",
   "metadata": {},
   "source": [
    "## ITEM 2"
   ]
  },
  {
   "attachments": {},
   "cell_type": "markdown",
   "metadata": {},
   "source": [
    "### Método de Newton"
   ]
  },
  {
   "cell_type": "code",
   "execution_count": null,
   "metadata": {},
   "outputs": [],
   "source": [
    "Xo = np.transpose(x) # initial approximation\n",
    "n = 5 # number of equations and unknowns\n",
    "tolerance = .0005 # chosen\n",
    "maxIterations = 100000 # so it doesnt loop forever in case of failure\n",
    "\n",
    "def f(x):\n",
    "    return\n",
    "\n",
    "\n",
    "def methodNewton(p0, p1, tolerance, maxIterations):\n",
    "    output = \"The method failed after \"+maxIterations+\" iterations. The procedure was unsuccessful\"\n",
    "    \n",
    "    i = 1\n",
    "    q0 = f(p0)\n",
    "    q1 = f(p1)\n",
    "    while i <= maxIterations:\n",
    "        p = p1 - q1*((p1-p0)/(q1-q0))\n",
    "       \n",
    "        if tolerance < p - p1 < tolerance:\n",
    "            output = p\n",
    "            break\n",
    "        else:\n",
    "            i += 1\n",
    "            p0 = p1\n",
    "            q0 = q1\n",
    "            p1 = p\n",
    "            q1 = f(p)\n",
    "        \n",
    "    return output"
   ]
  },
  {
   "attachments": {},
   "cell_type": "markdown",
   "metadata": {},
   "source": [
    "### Método de Broyden"
   ]
  },
  {
   "cell_type": "code",
   "execution_count": null,
   "metadata": {},
   "outputs": [],
   "source": [
    "Po = x # initial approximation\n",
    "tolerance = .0005 # arbitrary\n",
    "maxIterations = 100000 # so it doesnt loop forever in case of failure\n",
    "def f(x):\n",
    "    return\n",
    "def df(x):\n",
    "    return\n",
    "def J(x):\n",
    "    result = df(x)\n",
    "    return result\n",
    "def F(x):\n",
    "    return\n",
    "\n",
    "\n",
    "def methodBroyden(n, x, tolerance, maxIterations): # n is the number of equations and unknowns\n",
    "    output = \"The method failed after \"+maxIterations+\" iterations. The procedure was unsuccessful\"\n",
    "    \n",
    "    Ao = J(x)\n",
    "    v = F(x)\n",
    "    A = np.transpose(Ao) #use gaussian elimination\n",
    "    s = -A * v\n",
    "    x = x + s\n",
    "    k = 2\n",
    "    \n",
    "    while k <= maxIterations:\n",
    "        w = v\n",
    "        v = F(x)\n",
    "        y = v - w\n",
    "        z = -A* y\n",
    "        p = -np.transpose(s) * z\n",
    "        ut = np.transpose(np.transpose(s) * A)\n",
    "        A = A + (1/p)*(s+z)*ut\n",
    "        s = -A * v\n",
    "        x = x + s\n",
    "        if np.linalg.norm(s) < tolerance:\n",
    "            output = x\n",
    "            break\n",
    "        \n",
    "        k += 1\n",
    "        \n",
    "    return output\n",
    "          "
   ]
  },
  {
   "attachments": {},
   "cell_type": "markdown",
   "metadata": {},
   "source": [
    "### Comparação dos resultados"
   ]
  },
  {
   "attachments": {},
   "cell_type": "markdown",
   "metadata": {},
   "source": [
    "## ITEM 3"
   ]
  },
  {
   "attachments": {},
   "cell_type": "markdown",
   "metadata": {},
   "source": [
    "#### Bibliografia e referências: \n",
    "\n",
    "R.L. Burden & J.D. Faires, Numerical Analysis, Capítulos 2 e 10"
   ]
  }
 ],
 "metadata": {
  "kernelspec": {
   "display_name": "Python 3",
   "language": "python",
   "name": "python3"
  },
  "language_info": {
   "codemirror_mode": {
    "name": "ipython",
    "version": 3
   },
   "file_extension": ".py",
   "mimetype": "text/x-python",
   "name": "python",
   "nbconvert_exporter": "python",
   "pygments_lexer": "ipython3",
   "version": "3.10.9"
  },
  "orig_nbformat": 4,
  "vscode": {
   "interpreter": {
    "hash": "4abe64b9a8ed922d25f7390c9a03e42a2560957904a8072a31c407963719ee63"
   }
  }
 },
 "nbformat": 4,
 "nbformat_minor": 2
}
